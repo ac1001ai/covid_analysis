{
 "cells": [
  {
   "cell_type": "markdown",
   "metadata": {},
   "source": [
    "import libraries"
   ]
  },
  {
   "cell_type": "code",
   "execution_count": 44,
   "metadata": {},
   "outputs": [],
   "source": [
    "import pandas as pd\n",
    "import numpy as np\n",
    "import matplotlib.pyplot as plt\n",
    "import seaborn as sns\n",
    "from statsmodels.tsa.arima.model import ARIMA\n",
    "from statsmodels.tsa.stattools import adfuller\n",
    "from statsmodels.graphics.tsaplots import plot_acf, plot_pacf\n",
    "import warnings\n",
    "from datetime import datetime, timedelta\n",
    "import plotly.express as px\n",
    "import plotly.graph_objects as go\n",
    "from plotly.subplots import make_subplots\n",
    "warnings.filterwarnings('ignore')\n",
    "# Set plotting styles\n",
    "plt.style.use('ggplot')\n",
    "sns.set_style('whitegrid')"
   ]
  },
  {
   "cell_type": "markdown",
   "metadata": {},
   "source": [
    "load and prepare the data"
   ]
  },
  {
   "cell_type": "code",
   "execution_count": 45,
   "metadata": {},
   "outputs": [
    {
     "name": "stdout",
     "output_type": "stream",
     "text": [
      "Dataset shape: (196246, 16)\n",
      "\n",
      "First few rows:\n"
     ]
    },
    {
     "data": {
      "text/html": [
       "<div>\n",
       "<style scoped>\n",
       "    .dataframe tbody tr th:only-of-type {\n",
       "        vertical-align: middle;\n",
       "    }\n",
       "\n",
       "    .dataframe tbody tr th {\n",
       "        vertical-align: top;\n",
       "    }\n",
       "\n",
       "    .dataframe thead th {\n",
       "        text-align: right;\n",
       "    }\n",
       "</style>\n",
       "<table border=\"1\" class=\"dataframe\">\n",
       "  <thead>\n",
       "    <tr style=\"text-align: right;\">\n",
       "      <th></th>\n",
       "      <th>location</th>\n",
       "      <th>iso_code</th>\n",
       "      <th>date</th>\n",
       "      <th>total_vaccinations</th>\n",
       "      <th>people_vaccinated</th>\n",
       "      <th>people_fully_vaccinated</th>\n",
       "      <th>total_boosters</th>\n",
       "      <th>daily_vaccinations_raw</th>\n",
       "      <th>daily_vaccinations</th>\n",
       "      <th>total_vaccinations_per_hundred</th>\n",
       "      <th>people_vaccinated_per_hundred</th>\n",
       "      <th>people_fully_vaccinated_per_hundred</th>\n",
       "      <th>total_boosters_per_hundred</th>\n",
       "      <th>daily_vaccinations_per_million</th>\n",
       "      <th>daily_people_vaccinated</th>\n",
       "      <th>daily_people_vaccinated_per_hundred</th>\n",
       "    </tr>\n",
       "  </thead>\n",
       "  <tbody>\n",
       "    <tr>\n",
       "      <th>0</th>\n",
       "      <td>Afghanistan</td>\n",
       "      <td>AFG</td>\n",
       "      <td>2021-02-22</td>\n",
       "      <td>0.0</td>\n",
       "      <td>0.0</td>\n",
       "      <td>NaN</td>\n",
       "      <td>NaN</td>\n",
       "      <td>NaN</td>\n",
       "      <td>NaN</td>\n",
       "      <td>0.0</td>\n",
       "      <td>0.0</td>\n",
       "      <td>NaN</td>\n",
       "      <td>NaN</td>\n",
       "      <td>NaN</td>\n",
       "      <td>NaN</td>\n",
       "      <td>NaN</td>\n",
       "    </tr>\n",
       "    <tr>\n",
       "      <th>1</th>\n",
       "      <td>Afghanistan</td>\n",
       "      <td>AFG</td>\n",
       "      <td>2021-02-23</td>\n",
       "      <td>NaN</td>\n",
       "      <td>NaN</td>\n",
       "      <td>NaN</td>\n",
       "      <td>NaN</td>\n",
       "      <td>NaN</td>\n",
       "      <td>1367.0</td>\n",
       "      <td>NaN</td>\n",
       "      <td>NaN</td>\n",
       "      <td>NaN</td>\n",
       "      <td>NaN</td>\n",
       "      <td>33.0</td>\n",
       "      <td>1367.0</td>\n",
       "      <td>0.003</td>\n",
       "    </tr>\n",
       "    <tr>\n",
       "      <th>2</th>\n",
       "      <td>Afghanistan</td>\n",
       "      <td>AFG</td>\n",
       "      <td>2021-02-24</td>\n",
       "      <td>NaN</td>\n",
       "      <td>NaN</td>\n",
       "      <td>NaN</td>\n",
       "      <td>NaN</td>\n",
       "      <td>NaN</td>\n",
       "      <td>1367.0</td>\n",
       "      <td>NaN</td>\n",
       "      <td>NaN</td>\n",
       "      <td>NaN</td>\n",
       "      <td>NaN</td>\n",
       "      <td>33.0</td>\n",
       "      <td>1367.0</td>\n",
       "      <td>0.003</td>\n",
       "    </tr>\n",
       "    <tr>\n",
       "      <th>3</th>\n",
       "      <td>Afghanistan</td>\n",
       "      <td>AFG</td>\n",
       "      <td>2021-02-25</td>\n",
       "      <td>NaN</td>\n",
       "      <td>NaN</td>\n",
       "      <td>NaN</td>\n",
       "      <td>NaN</td>\n",
       "      <td>NaN</td>\n",
       "      <td>1367.0</td>\n",
       "      <td>NaN</td>\n",
       "      <td>NaN</td>\n",
       "      <td>NaN</td>\n",
       "      <td>NaN</td>\n",
       "      <td>33.0</td>\n",
       "      <td>1367.0</td>\n",
       "      <td>0.003</td>\n",
       "    </tr>\n",
       "    <tr>\n",
       "      <th>4</th>\n",
       "      <td>Afghanistan</td>\n",
       "      <td>AFG</td>\n",
       "      <td>2021-02-26</td>\n",
       "      <td>NaN</td>\n",
       "      <td>NaN</td>\n",
       "      <td>NaN</td>\n",
       "      <td>NaN</td>\n",
       "      <td>NaN</td>\n",
       "      <td>1367.0</td>\n",
       "      <td>NaN</td>\n",
       "      <td>NaN</td>\n",
       "      <td>NaN</td>\n",
       "      <td>NaN</td>\n",
       "      <td>33.0</td>\n",
       "      <td>1367.0</td>\n",
       "      <td>0.003</td>\n",
       "    </tr>\n",
       "  </tbody>\n",
       "</table>\n",
       "</div>"
      ],
      "text/plain": [
       "      location iso_code        date  total_vaccinations  people_vaccinated  \\\n",
       "0  Afghanistan      AFG  2021-02-22                 0.0                0.0   \n",
       "1  Afghanistan      AFG  2021-02-23                 NaN                NaN   \n",
       "2  Afghanistan      AFG  2021-02-24                 NaN                NaN   \n",
       "3  Afghanistan      AFG  2021-02-25                 NaN                NaN   \n",
       "4  Afghanistan      AFG  2021-02-26                 NaN                NaN   \n",
       "\n",
       "   people_fully_vaccinated  total_boosters  daily_vaccinations_raw  \\\n",
       "0                      NaN             NaN                     NaN   \n",
       "1                      NaN             NaN                     NaN   \n",
       "2                      NaN             NaN                     NaN   \n",
       "3                      NaN             NaN                     NaN   \n",
       "4                      NaN             NaN                     NaN   \n",
       "\n",
       "   daily_vaccinations  total_vaccinations_per_hundred  \\\n",
       "0                 NaN                             0.0   \n",
       "1              1367.0                             NaN   \n",
       "2              1367.0                             NaN   \n",
       "3              1367.0                             NaN   \n",
       "4              1367.0                             NaN   \n",
       "\n",
       "   people_vaccinated_per_hundred  people_fully_vaccinated_per_hundred  \\\n",
       "0                            0.0                                  NaN   \n",
       "1                            NaN                                  NaN   \n",
       "2                            NaN                                  NaN   \n",
       "3                            NaN                                  NaN   \n",
       "4                            NaN                                  NaN   \n",
       "\n",
       "   total_boosters_per_hundred  daily_vaccinations_per_million  \\\n",
       "0                         NaN                             NaN   \n",
       "1                         NaN                            33.0   \n",
       "2                         NaN                            33.0   \n",
       "3                         NaN                            33.0   \n",
       "4                         NaN                            33.0   \n",
       "\n",
       "   daily_people_vaccinated  daily_people_vaccinated_per_hundred  \n",
       "0                      NaN                                  NaN  \n",
       "1                   1367.0                                0.003  \n",
       "2                   1367.0                                0.003  \n",
       "3                   1367.0                                0.003  \n",
       "4                   1367.0                                0.003  "
      ]
     },
     "metadata": {},
     "output_type": "display_data"
    },
    {
     "name": "stdout",
     "output_type": "stream",
     "text": [
      "\n",
      "Data types:\n"
     ]
    },
    {
     "data": {
      "text/plain": [
       "location                                object\n",
       "iso_code                                object\n",
       "date                                    object\n",
       "total_vaccinations                     float64\n",
       "people_vaccinated                      float64\n",
       "people_fully_vaccinated                float64\n",
       "total_boosters                         float64\n",
       "daily_vaccinations_raw                 float64\n",
       "daily_vaccinations                     float64\n",
       "total_vaccinations_per_hundred         float64\n",
       "people_vaccinated_per_hundred          float64\n",
       "people_fully_vaccinated_per_hundred    float64\n",
       "total_boosters_per_hundred             float64\n",
       "daily_vaccinations_per_million         float64\n",
       "daily_people_vaccinated                float64\n",
       "daily_people_vaccinated_per_hundred    float64\n",
       "dtype: object"
      ]
     },
     "metadata": {},
     "output_type": "display_data"
    },
    {
     "name": "stdout",
     "output_type": "stream",
     "text": [
      "\n",
      "Summary statistics:\n"
     ]
    },
    {
     "data": {
      "text/html": [
       "<div>\n",
       "<style scoped>\n",
       "    .dataframe tbody tr th:only-of-type {\n",
       "        vertical-align: middle;\n",
       "    }\n",
       "\n",
       "    .dataframe tbody tr th {\n",
       "        vertical-align: top;\n",
       "    }\n",
       "\n",
       "    .dataframe thead th {\n",
       "        text-align: right;\n",
       "    }\n",
       "</style>\n",
       "<table border=\"1\" class=\"dataframe\">\n",
       "  <thead>\n",
       "    <tr style=\"text-align: right;\">\n",
       "      <th></th>\n",
       "      <th>total_vaccinations</th>\n",
       "      <th>people_vaccinated</th>\n",
       "      <th>people_fully_vaccinated</th>\n",
       "      <th>total_boosters</th>\n",
       "      <th>daily_vaccinations_raw</th>\n",
       "      <th>daily_vaccinations</th>\n",
       "      <th>total_vaccinations_per_hundred</th>\n",
       "      <th>people_vaccinated_per_hundred</th>\n",
       "      <th>people_fully_vaccinated_per_hundred</th>\n",
       "      <th>total_boosters_per_hundred</th>\n",
       "      <th>daily_vaccinations_per_million</th>\n",
       "      <th>daily_people_vaccinated</th>\n",
       "      <th>daily_people_vaccinated_per_hundred</th>\n",
       "    </tr>\n",
       "  </thead>\n",
       "  <tbody>\n",
       "    <tr>\n",
       "      <th>count</th>\n",
       "      <td>8.541700e+04</td>\n",
       "      <td>8.113200e+04</td>\n",
       "      <td>7.806100e+04</td>\n",
       "      <td>5.360000e+04</td>\n",
       "      <td>7.097100e+04</td>\n",
       "      <td>1.950290e+05</td>\n",
       "      <td>85417.000000</td>\n",
       "      <td>81132.000000</td>\n",
       "      <td>78061.000000</td>\n",
       "      <td>53600.000000</td>\n",
       "      <td>195029.000000</td>\n",
       "      <td>1.921770e+05</td>\n",
       "      <td>192177.000000</td>\n",
       "    </tr>\n",
       "    <tr>\n",
       "      <th>mean</th>\n",
       "      <td>5.616980e+08</td>\n",
       "      <td>2.487064e+08</td>\n",
       "      <td>2.286639e+08</td>\n",
       "      <td>1.505811e+08</td>\n",
       "      <td>7.398640e+05</td>\n",
       "      <td>2.838758e+05</td>\n",
       "      <td>124.279558</td>\n",
       "      <td>53.501409</td>\n",
       "      <td>48.680182</td>\n",
       "      <td>36.301489</td>\n",
       "      <td>1851.477596</td>\n",
       "      <td>1.060707e+05</td>\n",
       "      <td>0.074980</td>\n",
       "    </tr>\n",
       "    <tr>\n",
       "      <th>std</th>\n",
       "      <td>1.842160e+09</td>\n",
       "      <td>8.006461e+08</td>\n",
       "      <td>7.403763e+08</td>\n",
       "      <td>4.360697e+08</td>\n",
       "      <td>3.183064e+06</td>\n",
       "      <td>1.922352e+06</td>\n",
       "      <td>85.098042</td>\n",
       "      <td>29.379655</td>\n",
       "      <td>29.042282</td>\n",
       "      <td>30.218208</td>\n",
       "      <td>3117.828731</td>\n",
       "      <td>7.866884e+05</td>\n",
       "      <td>0.176216</td>\n",
       "    </tr>\n",
       "    <tr>\n",
       "      <th>min</th>\n",
       "      <td>0.000000e+00</td>\n",
       "      <td>0.000000e+00</td>\n",
       "      <td>1.000000e+00</td>\n",
       "      <td>1.000000e+00</td>\n",
       "      <td>0.000000e+00</td>\n",
       "      <td>0.000000e+00</td>\n",
       "      <td>0.000000</td>\n",
       "      <td>0.000000</td>\n",
       "      <td>0.000000</td>\n",
       "      <td>0.000000</td>\n",
       "      <td>0.000000</td>\n",
       "      <td>0.000000e+00</td>\n",
       "      <td>0.000000</td>\n",
       "    </tr>\n",
       "    <tr>\n",
       "      <th>25%</th>\n",
       "      <td>1.970788e+06</td>\n",
       "      <td>1.050009e+06</td>\n",
       "      <td>9.644000e+05</td>\n",
       "      <td>6.022820e+05</td>\n",
       "      <td>2.010000e+03</td>\n",
       "      <td>2.790000e+02</td>\n",
       "      <td>44.770000</td>\n",
       "      <td>27.880000</td>\n",
       "      <td>21.220000</td>\n",
       "      <td>5.920000</td>\n",
       "      <td>106.000000</td>\n",
       "      <td>4.300000e+01</td>\n",
       "      <td>0.001000</td>\n",
       "    </tr>\n",
       "    <tr>\n",
       "      <th>50%</th>\n",
       "      <td>1.439435e+07</td>\n",
       "      <td>6.901088e+06</td>\n",
       "      <td>6.191345e+06</td>\n",
       "      <td>5.765440e+06</td>\n",
       "      <td>2.053100e+04</td>\n",
       "      <td>3.871000e+03</td>\n",
       "      <td>130.550000</td>\n",
       "      <td>64.300000</td>\n",
       "      <td>57.920000</td>\n",
       "      <td>35.905000</td>\n",
       "      <td>605.000000</td>\n",
       "      <td>7.710000e+02</td>\n",
       "      <td>0.014000</td>\n",
       "    </tr>\n",
       "    <tr>\n",
       "      <th>75%</th>\n",
       "      <td>1.161972e+08</td>\n",
       "      <td>5.093295e+07</td>\n",
       "      <td>4.773185e+07</td>\n",
       "      <td>4.019072e+07</td>\n",
       "      <td>1.736115e+05</td>\n",
       "      <td>3.180300e+04</td>\n",
       "      <td>194.990000</td>\n",
       "      <td>77.780000</td>\n",
       "      <td>73.610000</td>\n",
       "      <td>57.620000</td>\n",
       "      <td>2402.000000</td>\n",
       "      <td>9.307000e+03</td>\n",
       "      <td>0.073000</td>\n",
       "    </tr>\n",
       "    <tr>\n",
       "      <th>max</th>\n",
       "      <td>1.357877e+10</td>\n",
       "      <td>5.631264e+09</td>\n",
       "      <td>5.177943e+09</td>\n",
       "      <td>2.817381e+09</td>\n",
       "      <td>4.967320e+07</td>\n",
       "      <td>4.369181e+07</td>\n",
       "      <td>410.230000</td>\n",
       "      <td>129.070000</td>\n",
       "      <td>126.890000</td>\n",
       "      <td>150.470000</td>\n",
       "      <td>117113.000000</td>\n",
       "      <td>2.107127e+07</td>\n",
       "      <td>11.711000</td>\n",
       "    </tr>\n",
       "  </tbody>\n",
       "</table>\n",
       "</div>"
      ],
      "text/plain": [
       "       total_vaccinations  people_vaccinated  people_fully_vaccinated  \\\n",
       "count        8.541700e+04       8.113200e+04             7.806100e+04   \n",
       "mean         5.616980e+08       2.487064e+08             2.286639e+08   \n",
       "std          1.842160e+09       8.006461e+08             7.403763e+08   \n",
       "min          0.000000e+00       0.000000e+00             1.000000e+00   \n",
       "25%          1.970788e+06       1.050009e+06             9.644000e+05   \n",
       "50%          1.439435e+07       6.901088e+06             6.191345e+06   \n",
       "75%          1.161972e+08       5.093295e+07             4.773185e+07   \n",
       "max          1.357877e+10       5.631264e+09             5.177943e+09   \n",
       "\n",
       "       total_boosters  daily_vaccinations_raw  daily_vaccinations  \\\n",
       "count    5.360000e+04            7.097100e+04        1.950290e+05   \n",
       "mean     1.505811e+08            7.398640e+05        2.838758e+05   \n",
       "std      4.360697e+08            3.183064e+06        1.922352e+06   \n",
       "min      1.000000e+00            0.000000e+00        0.000000e+00   \n",
       "25%      6.022820e+05            2.010000e+03        2.790000e+02   \n",
       "50%      5.765440e+06            2.053100e+04        3.871000e+03   \n",
       "75%      4.019072e+07            1.736115e+05        3.180300e+04   \n",
       "max      2.817381e+09            4.967320e+07        4.369181e+07   \n",
       "\n",
       "       total_vaccinations_per_hundred  people_vaccinated_per_hundred  \\\n",
       "count                    85417.000000                   81132.000000   \n",
       "mean                       124.279558                      53.501409   \n",
       "std                         85.098042                      29.379655   \n",
       "min                          0.000000                       0.000000   \n",
       "25%                         44.770000                      27.880000   \n",
       "50%                        130.550000                      64.300000   \n",
       "75%                        194.990000                      77.780000   \n",
       "max                        410.230000                     129.070000   \n",
       "\n",
       "       people_fully_vaccinated_per_hundred  total_boosters_per_hundred  \\\n",
       "count                         78061.000000                53600.000000   \n",
       "mean                             48.680182                   36.301489   \n",
       "std                              29.042282                   30.218208   \n",
       "min                               0.000000                    0.000000   \n",
       "25%                              21.220000                    5.920000   \n",
       "50%                              57.920000                   35.905000   \n",
       "75%                              73.610000                   57.620000   \n",
       "max                             126.890000                  150.470000   \n",
       "\n",
       "       daily_vaccinations_per_million  daily_people_vaccinated  \\\n",
       "count                   195029.000000             1.921770e+05   \n",
       "mean                      1851.477596             1.060707e+05   \n",
       "std                       3117.828731             7.866884e+05   \n",
       "min                          0.000000             0.000000e+00   \n",
       "25%                        106.000000             4.300000e+01   \n",
       "50%                        605.000000             7.710000e+02   \n",
       "75%                       2402.000000             9.307000e+03   \n",
       "max                     117113.000000             2.107127e+07   \n",
       "\n",
       "       daily_people_vaccinated_per_hundred  \n",
       "count                        192177.000000  \n",
       "mean                              0.074980  \n",
       "std                               0.176216  \n",
       "min                               0.000000  \n",
       "25%                               0.001000  \n",
       "50%                               0.014000  \n",
       "75%                               0.073000  \n",
       "max                              11.711000  "
      ]
     },
     "metadata": {},
     "output_type": "display_data"
    },
    {
     "name": "stdout",
     "output_type": "stream",
     "text": [
      "\n",
      "Missing values per column:\n"
     ]
    },
    {
     "data": {
      "text/plain": [
       "location                                    0\n",
       "iso_code                                    0\n",
       "date                                        0\n",
       "total_vaccinations                     110829\n",
       "people_vaccinated                      115114\n",
       "people_fully_vaccinated                118185\n",
       "total_boosters                         142646\n",
       "daily_vaccinations_raw                 125275\n",
       "daily_vaccinations                       1217\n",
       "total_vaccinations_per_hundred         110829\n",
       "people_vaccinated_per_hundred          115114\n",
       "people_fully_vaccinated_per_hundred    118185\n",
       "total_boosters_per_hundred             142646\n",
       "daily_vaccinations_per_million           1217\n",
       "daily_people_vaccinated                  4069\n",
       "daily_people_vaccinated_per_hundred      4069\n",
       "dtype: int64"
      ]
     },
     "metadata": {},
     "output_type": "display_data"
    },
    {
     "name": "stdout",
     "output_type": "stream",
     "text": [
      "\n",
      "Data availability for selected countries:\n",
      "United States: 2020-12-13 00:00:00 to 2023-05-09 00:00:00, 878 records\n",
      "United Kingdom: 2021-01-10 00:00:00 to 2022-09-11 00:00:00, 610 records\n",
      "Germany: 2020-12-27 00:00:00 to 2023-04-07 00:00:00, 832 records\n",
      "France: 2020-12-27 00:00:00 to 2023-07-10 00:00:00, 926 records\n",
      "Israel: 2020-12-19 00:00:00 to 2023-05-04 00:00:00, 867 records\n",
      "Canada: 2020-12-14 00:00:00 to 2024-07-24 00:00:00, 1319 records\n",
      "Brazil: 2021-01-17 00:00:00 to 2023-03-22 00:00:00, 795 records\n",
      "India: 2021-01-15 00:00:00 to 2024-08-12 00:00:00, 1306 records\n",
      "Japan: 2021-02-17 00:00:00 to 2023-05-07 00:00:00, 810 records\n"
     ]
    }
   ],
   "source": [
    "# Load the dataset\n",
    "url = \"https://raw.githubusercontent.com/owid/covid-19-data/master/public/data/vaccinations/vaccinations.csv\"\n",
    "df = pd.read_csv(url)\n",
    "# Display basic information\n",
    "print(f\"Dataset shape: {df.shape}\")\n",
    "print(\"\\nFirst few rows:\")\n",
    "display(df.head())\n",
    "print(\"\\nData types:\")\n",
    "display(df.dtypes)\n",
    "print(\"\\nSummary statistics:\")\n",
    "display(df.describe())\n",
    "# Check for missing values\n",
    "print(\"\\nMissing values per column:\")\n",
    "display(df.isnull().sum())\n",
    "# Convert date to datetime format\n",
    "df['date'] = pd.to_datetime(df['date'])\n",
    "# Create a list of major countries for analysis\n",
    "major_countries = ['United States', 'United Kingdom', 'Germany', 'France', 'Israel', \n",
    "                   'Canada', 'Brazil', 'India', 'Japan']\n",
    "# Filter out OWID special entities (continents, etc.)\n",
    "df_countries = df[~df['iso_code'].str.startswith('OWID_', na=False)]\n",
    "# Check data availability for selected countries\n",
    "print(\"\\nData availability for selected countries:\")\n",
    "for country in major_countries:\n",
    "    country_data = df[df['location'] == country]\n",
    "    if len(country_data) > 0:\n",
    "        print(f\"{country}: {country_data['date'].min()} to {country_data['date'].max()}, {len(country_data)} records\")\n",
    "    else:\n",
    "        print(f\"{country}: No data available\")\n"
   ]
  },
  {
   "cell_type": "markdown",
   "metadata": {},
   "source": [
    "EDA below"
   ]
  },
  {
   "cell_type": "code",
   "execution_count": 46,
   "metadata": {},
   "outputs": [
    {
     "data": {
      "image/png": "[encoded data removed]",
      "text/plain": [
       "<Figure size 1008x720 with 4 Axes>"
      ]
     },
     "metadata": {},
     "output_type": "display_data"
    },
    {
     "data": {
      "application/vnd.plotly.v1+json": {
       "config": {
        "plotlyServerURL": "https://plot.ly"
       },
       "data": [
        {
         "alignmentgroup": "True",
         "hovertemplate": "Vaccination Status=people_fully_vaccinated_per_hundred<br>Country=%{x}<br>Percentage of Population=%{y}<extra></extra>",
         "legendgroup": "people_fully_vaccinated_per_hundred",
         "marker": {
          "color": "darkblue",
          "pattern": {
           "shape": ""
          }
         },
         "name": "people_fully_vaccinated_per_hundred",
         "offsetgroup": "people_fully_vaccinated_per_hundred",
         "orientation": "v",
         "showlegend": true,
         "textposition": "auto",
         "type": "bar",
         "x": [
          "Gibraltar",
          "Tokelau",
          "Qatar",
          "United Arab Emirates",
          "Pitcairn",
          "Brunei",
          "Macao",
          "Hong Kong",
          "Singapore",
          "Cuba",
          "China",
          "Nauru",
          "Malta",
          "Cayman Islands",
          "Nicaragua",
          "Cambodia",
          "Vietnam",
          "Taiwan",
          "Portugal",
          "Bhutan"
         ],
         "xaxis": "x",
         "y": {
          "bdata": "KVyPwvW4X0C4HoXrURhdQIXrUbgedVpArkfhehTuWUAAAAAAAABZQI/C9Shc31hAKVyPwvUYV0BmZmZmZrZWQGZmZmZmtlZAexSuR+FqVkDD9Shcj2JWQJqZmZmZWVZA7FG4HoUbVkAUrkfhehRWQHsUrkfhClZAuB6F61HoVUAzMzMzM+NVQOF6FK5HwVVAAAAAAACwVUDXo3A9CqdVQA==",
          "dtype": "f8"
         },
         "yaxis": "y"
        },
        {
         "alignmentgroup": "True",
         "hovertemplate": "Vaccination Status=people_vaccinated_per_hundred<br>Country=%{x}<br>Percentage of Population=%{y}<extra></extra>",
         "legendgroup": "people_vaccinated_per_hundred",
         "marker": {
          "color": "lightblue",
          "pattern": {
           "shape": ""
          }
         },
         "name": "people_vaccinated_per_hundred",
         "offsetgroup": "people_vaccinated_per_hundred",
         "orientation": "v",
         "showlegend": true,
         "textposition": "auto",
         "type": "bar",
         "x": [
          "Gibraltar",
          "Tokelau",
          "Qatar",
          "United Arab Emirates",
          "Pitcairn",
          "Brunei",
          "Macao",
          "Hong Kong",
          "Singapore",
          "Cuba",
          "China",
          "Nauru",
          "Malta",
          "Cayman Islands",
          "Nicaragua",
          "Cambodia",
          "Vietnam",
          "Taiwan",
          "Portugal",
          "Bhutan"
         ],
         "xaxis": "x",
         "y": {
          "bdata": "CtejcD0iYEC4HoXrURhdQIXrUbgedVpAhetRuB51WkAAAAAAAABZQB+F61G4HllA4XoUrkdxWEAK16NwPRpXQDMzMzMz41ZASOF6FK4XWEApXI/C9fhWQOF6FK5H0VlApHA9CtdzVkC4HoXrUZhWQHsUrkfhCldAZmZmZmbWVkB7FK5H4QpXQJqZmZmZ6VZASOF6FK7nV0BmZmZmZlZWQA==",
          "dtype": "f8"
         },
         "yaxis": "y"
        }
       ],
       "layout": {
        "barmode": "group",
        "height": 600,
        "legend": {
         "title": {
          "text": ""
         },
         "tracegroupgap": 0
        },
        "template": {
         "data": {
          "bar": [
           {
            "error_x": {
             "color": "#2a3f5f"
            },
            "error_y": {
             "color": "#2a3f5f"
            },
            "marker": {
             "line": {
              "color": "#E5ECF6",
              "width": 0.5
             },
             "pattern": {
              "fillmode": "overlay",
              "size": 10,
              "solidity": 0.2
             }
            },
            "type": "bar"
           }
          ],
          "barpolar": [
           {
            "marker": {
             "line": {
              "color": "#E5ECF6",
              "width": 0.5
             },
             "pattern": {
              "fillmode": "overlay",
              "size": 10,
              "solidity": 0.2
             }
            },
            "type": "barpolar"
           }
          ],
          "carpet": [
           {
            "aaxis": {
             "endlinecolor": "#2a3f5f",
             "gridcolor": "white",
             "linecolor": "white",
             "minorgridcolor": "white",
             "startlinecolor": "#2a3f5f"
            },
            "baxis": {
             "endlinecolor": "#2a3f5f",
             "gridcolor": "white",
             "linecolor": "white",
             "minorgridcolor": "white",
             "startlinecolor": "#2a3f5f"
            },
            "type": "carpet"
           }
          ],
          "choropleth": [
           {
            "colorbar": {
             "outlinewidth": 0,
             "ticks": ""
            },
            "type": "choropleth"
           }
          ],
          "contour": [
           {
            "colorbar": {
             "outlinewidth": 0,
             "ticks": ""
            },
            "colorscale": [
             [
              0,
              "#0d0887"
             ],
             [
              0.1111111111111111,
              "#46039f"
             ],
             [
              0.2222222222222222,
              "#7201a8"
             ],
             [
              0.3333333333333333,
              "#9c179e"
             ],
             [
              0.4444444444444444,
              "#bd3786"
             ],
             [
              0.5555555555555556,
              "#d8576b"
             ],
             [
              0.6666666666666666,
              "#ed7953"
             ],
             [
              0.7777777777777778,
              "#fb9f3a"
             ],
             [
              0.8888888888888888,
              "#fdca26"
             ],
             [
              1,
              "#f0f921"
             ]
            ],
            "type": "contour"
           }
          ],
          "contourcarpet": [
           {
            "colorbar": {
             "outlinewidth": 0,
             "ticks": ""
            },
            "type": "contourcarpet"
           }
          ],
          "heatmap": [
           {
            "colorbar": {
             "outlinewidth": 0,
             "ticks": ""
            },
            "colorscale": [
             [
              0,
              "#0d0887"
             ],
             [
              0.1111111111111111,
              "#46039f"
             ],
             [
              0.2222222222222222,
              "#7201a8"
             ],
             [
              0.3333333333333333,
              "#9c179e"
             ],
             [
              0.4444444444444444,
              "#bd3786"
             ],
             [
              0.5555555555555556,
              "#d8576b"
             ],
             [
              0.6666666666666666,
              "#ed7953"
             ],
             [
              0.7777777777777778,
              "#fb9f3a"
             ],
             [
              0.8888888888888888,
              "#fdca26"
             ],
             [
              1,
              "#f0f921"
             ]
            ],
            "type": "heatmap"
           }
          ],
          "histogram": [
           {
            "marker": {
             "pattern": {
              "fillmode": "overlay",
              "size": 10,
              "solidity": 0.2
             }
            },
            "type": "histogram"
           }
          ],
          "histogram2d": [
           {
            "colorbar": {
             "outlinewidth": 0,
             "ticks": ""
            },
            "colorscale": [
             [
              0,
              "#0d0887"
             ],
             [
              0.1111111111111111,
              "#46039f"
             ],
             [
              0.2222222222222222,
              "#7201a8"
             ],
             [
              0.3333333333333333,
              "#9c179e"
             ],
             [
              0.4444444444444444,
              "#bd3786"
             ],
             [
              0.5555555555555556,
              "#d8576b"
             ],
             [
              0.6666666666666666,
              "#ed7953"
             ],
             [
              0.7777777777777778,
              "#fb9f3a"
             ],
             [
              0.8888888888888888,
              "#fdca26"
             ],
             [
              1,
              "#f0f921"
             ]
            ],
            "type": "histogram2d"
           }
          ],
          "histogram2dcontour": [
           {
            "colorbar": {
             "outlinewidth": 0,
             "ticks": ""
            },
            "colorscale": [
             [
              0,
              "#0d0887"
             ],
             [
              0.1111111111111111,
              "#46039f"
             ],
             [
              0.2222222222222222,
              "#7201a8"
             ],
             [
              0.3333333333333333,
              "#9c179e"
             ],
             [
              0.4444444444444444,
              "#bd3786"
             ],
             [
              0.5555555555555556,
              "#d8576b"
             ],
             [
              0.6666666666666666,
              "#ed7953"
             ],
             [
              0.7777777777777778,
              "#fb9f3a"
             ],
             [
              0.8888888888888888,
              "#fdca26"
             ],
             [
              1,
              "#f0f921"
             ]
            ],
            "type": "histogram2dcontour"
           }
          ],
          "mesh3d": [
           {
            "colorbar": {
             "outlinewidth": 0,
             "ticks": ""
            },
            "type": "mesh3d"
           }
          ],
          "parcoords": [
           {
            "line": {
             "colorbar": {
              "outlinewidth": 0,
              "ticks": ""
             }
            },
            "type": "parcoords"
           }
          ],
          "pie": [
           {
            "automargin": true,
            "type": "pie"
           }
          ],
          "scatter": [
           {
            "fillpattern": {
             "fillmode": "overlay",
             "size": 10,
             "solidity": 0.2
            },
            "type": "scatter"
           }
          ],
          "scatter3d": [
           {
            "line": {
             "colorbar": {
              "outlinewidth": 0,
              "ticks": ""
             }
            },
            "marker": {
             "colorbar": {
              "outlinewidth": 0,
              "ticks": ""
             }
            },
            "type": "scatter3d"
           }
          ],
          "scattercarpet": [
           {
            "marker": {
             "colorbar": {
              "outlinewidth": 0,
              "ticks": ""
             }
            },
            "type": "scattercarpet"
           }
          ],
          "scattergeo": [
           {
            "marker": {
             "colorbar": {
              "outlinewidth": 0,
              "ticks": ""
             }
            },
            "type": "scattergeo"
           }
          ],
          "scattergl": [
           {
            "marker": {
             "colorbar": {
              "outlinewidth": 0,
              "ticks": ""
             }
            },
            "type": "scattergl"
           }
          ],
          "scattermap": [
           {
            "marker": {
             "colorbar": {
              "outlinewidth": 0,
              "ticks": ""
             }
            },
            "type": "scattermap"
           }
          ],
          "scattermapbox": [
           {
            "marker": {
             "colorbar": {
              "outlinewidth": 0,
              "ticks": ""
             }
            },
            "type": "scattermapbox"
           }
          ],
          "scatterpolar": [
           {
            "marker": {
             "colorbar": {
              "outlinewidth": 0,
              "ticks": ""
             }
            },
            "type": "scatterpolar"
           }
          ],
          "scatterpolargl": [
           {
            "marker": {
             "colorbar": {
              "outlinewidth": 0,
              "ticks": ""
             }
            },
            "type": "scatterpolargl"
           }
          ],
          "scatterternary": [
           {
            "marker": {
             "colorbar": {
              "outlinewidth": 0,
              "ticks": ""
             }
            },
            "type": "scatterternary"
           }
          ],
          "surface": [
           {
            "colorbar": {
             "outlinewidth": 0,
             "ticks": ""
            },
            "colorscale": [
             [
              0,
              "#0d0887"
             ],
             [
              0.1111111111111111,
              "#46039f"
             ],
             [
              0.2222222222222222,
              "#7201a8"
             ],
             [
              0.3333333333333333,
              "#9c179e"
             ],
             [
              0.4444444444444444,
              "#bd3786"
             ],
             [
              0.5555555555555556,
              "#d8576b"
             ],
             [
              0.6666666666666666,
              "#ed7953"
             ],
             [
              0.7777777777777778,
              "#fb9f3a"
             ],
             [
              0.8888888888888888,
              "#fdca26"
             ],
             [
              1,
              "#f0f921"
             ]
            ],
            "type": "surface"
           }
          ],
          "table": [
           {
            "cells": {
             "fill": {
              "color": "#EBF0F8"
             },
             "line": {
              "color": "white"
             }
            },
            "header": {
             "fill": {
              "color": "#C8D4E3"
             },
             "line": {
              "color": "white"
             }
            },
            "type": "table"
           }
          ]
         },
         "layout": {
          "annotationdefaults": {
           "arrowcolor": "#2a3f5f",
           "arrowhead": 0,
           "arrowwidth": 1
          },
          "autotypenumbers": "strict",
          "coloraxis": {
           "colorbar": {
            "outlinewidth": 0,
            "ticks": ""
           }
          },
          "colorscale": {
           "diverging": [
            [
             0,
             "#8e0152"
            ],
            [
             0.1,
             "#c51b7d"
            ],
            [
             0.2,
             "#de77ae"
            ],
            [
             0.3,
             "#f1b6da"
            ],
            [
             0.4,
             "#fde0ef"
            ],
            [
             0.5,
             "#f7f7f7"
            ],
            [
             0.6,
             "#e6f5d0"
            ],
            [
             0.7,
             "#b8e186"
            ],
            [
             0.8,
             "#7fbc41"
            ],
            [
             0.9,
             "#4d9221"
            ],
            [
             1,
             "#276419"
            ]
           ],
           "sequential": [
            [
             0,
             "#0d0887"
            ],
            [
             0.1111111111111111,
             "#46039f"
            ],
            [
             0.2222222222222222,
             "#7201a8"
            ],
            [
             0.3333333333333333,
             "#9c179e"
            ],
            [
             0.4444444444444444,
             "#bd3786"
            ],
            [
             0.5555555555555556,
             "#d8576b"
            ],
            [
             0.6666666666666666,
             "#ed7953"
            ],
            [
             0.7777777777777778,
             "#fb9f3a"
            ],
            [
             0.8888888888888888,
             "#fdca26"
            ],
            [
             1,
             "#f0f921"
            ]
           ],
           "sequentialminus": [
            [
             0,
             "#0d0887"
            ],
            [
             0.1111111111111111,
             "#46039f"
            ],
            [
             0.2222222222222222,
             "#7201a8"
            ],
            [
             0.3333333333333333,
             "#9c179e"
            ],
            [
             0.4444444444444444,
             "#bd3786"
            ],
            [
             0.5555555555555556,
             "#d8576b"
            ],
            [
             0.6666666666666666,
             "#ed7953"
            ],
            [
             0.7777777777777778,
             "#fb9f3a"
            ],
            [
             0.8888888888888888,
             "#fdca26"
            ],
            [
             1,
             "#f0f921"
            ]
           ]
          },
          "colorway": [
           "#636efa",
           "#EF553B",
           "#00cc96",
           "#ab63fa",
           "#FFA15A",
           "#19d3f3",
           "#FF6692",
           "#B6E880",
           "#FF97FF",
           "#FECB52"
          ],
          "font": {
           "color": "#2a3f5f"
          },
          "geo": {
           "bgcolor": "white",
           "lakecolor": "white",
           "landcolor": "#E5ECF6",
           "showlakes": true,
           "showland": true,
           "subunitcolor": "white"
          },
          "hoverlabel": {
           "align": "left"
          },
          "hovermode": "closest",
          "mapbox": {
           "style": "light"
          },
          "paper_bgcolor": "white",
          "plot_bgcolor": "#E5ECF6",
          "polar": {
           "angularaxis": {
            "gridcolor": "white",
            "linecolor": "white",
            "ticks": ""
           },
           "bgcolor": "#E5ECF6",
           "radialaxis": {
            "gridcolor": "white",
            "linecolor": "white",
            "ticks": ""
           }
          },
          "scene": {
           "xaxis": {
            "backgroundcolor": "#E5ECF6",
            "gridcolor": "white",
            "gridwidth": 2,
            "linecolor": "white",
            "showbackground": true,
            "ticks": "",
            "zerolinecolor": "white"
           },
           "yaxis": {
            "backgroundcolor": "#E5ECF6",
            "gridcolor": "white",
            "gridwidth": 2,
            "linecolor": "white",
            "showbackground": true,
            "ticks": "",
            "zerolinecolor": "white"
           },
           "zaxis": {
            "backgroundcolor": "#E5ECF6",
            "gridcolor": "white",
            "gridwidth": 2,
            "linecolor": "white",
            "showbackground": true,
            "ticks": "",
            "zerolinecolor": "white"
           }
          },
          "shapedefaults": {
           "line": {
            "color": "#2a3f5f"
           }
          },
          "ternary": {
           "aaxis": {
            "gridcolor": "white",
            "linecolor": "white",
            "ticks": ""
           },
           "baxis": {
            "gridcolor": "white",
            "linecolor": "white",
            "ticks": ""
           },
           "bgcolor": "#E5ECF6",
           "caxis": {
            "gridcolor": "white",
            "linecolor": "white",
            "ticks": ""
           }
          },
          "title": {
           "x": 0.05
          },
          "xaxis": {
           "automargin": true,
           "gridcolor": "white",
           "linecolor": "white",
           "ticks": "",
           "title": {
            "standoff": 15
           },
           "zerolinecolor": "white",
           "zerolinewidth": 2
          },
          "yaxis": {
           "automargin": true,
           "gridcolor": "white",
           "linecolor": "white",
           "ticks": "",
           "title": {
            "standoff": 15
           },
           "zerolinecolor": "white",
           "zerolinewidth": 2
          }
         }
        },
        "title": {
         "text": "COVID-19 Vaccination Rates by Country (Top 20)"
        },
        "xaxis": {
         "anchor": "y",
         "domain": [
          0,
          1
         ],
         "tickangle": -45,
         "title": {
          "text": "Country"
         }
        },
        "yaxis": {
         "anchor": "x",
         "domain": [
          0,
          1
         ],
         "title": {
          "text": "Percentage of Population"
         }
        }
       }
      }
     },
     "metadata": {},
     "output_type": "display_data"
    }
   ],
   "source": [
    "\n",
    "# Get world data\n",
    "world_data = df[df['location'] == 'World'].copy()\n",
    "world_data.set_index('date', inplace=True)\n",
    "world_data.sort_index(inplace=True)\n",
    "# Plot global vaccination metrics over time\n",
    "fig = plt.figure(figsize=(14, 10))\n",
    "# Plot 1: Total vaccinations worldwide\n",
    "ax1 = plt.subplot(2, 2, 1)\n",
    "world_data['total_vaccinations'].plot(ax=ax1)\n",
    "ax1.set_title('Global COVID-19 Vaccine Doses Administered')\n",
    "ax1.set_ylabel('Total Doses')\n",
    "ax1.grid(True)\n",
    "# Plot 2: People vaccinated worldwide\n",
    "ax2 = plt.subplot(2, 2, 2)\n",
    "world_data['people_vaccinated'].plot(ax=ax2)\n",
    "ax2.set_title('People With At Least One Dose Worldwide')\n",
    "ax2.set_ylabel('Number of People')\n",
    "ax2.grid(True)\n",
    "# Plot 3: People fully vaccinated worldwide\n",
    "ax3 = plt.subplot(2, 2, 3)\n",
    "world_data['people_fully_vaccinated'].plot(ax=ax3)\n",
    "ax3.set_title('Fully Vaccinated People Worldwide')\n",
    "ax3.set_ylabel('Number of People')\n",
    "ax3.grid(True)\n",
    "# Plot 4: Daily vaccinations worldwide (7-day avg)\n",
    "ax4 = plt.subplot(2, 2, 4)\n",
    "world_data['daily_vaccinations'].plot(ax=ax4)\n",
    "ax4.set_title('Daily Vaccination Rate Worldwide (7-day avg)')\n",
    "ax4.set_ylabel('Daily Doses')\n",
    "ax4.grid(True)\n",
    "plt.tight_layout()\n",
    "plt.show()\n",
    "# Create a dataframe with the latest vaccination metrics by country\n",
    "latest_by_country = df.sort_values('date').groupby('location').tail(1)\n",
    "latest_by_country = latest_by_country.sort_values('people_fully_vaccinated_per_hundred', ascending=False)\n",
    "# Filter out locations with population < 1 million and remove OWID special entities\n",
    "pop_threshold = 1000000\n",
    "filtered_countries = latest_by_country[\n",
    "    ~latest_by_country['iso_code'].str.startswith('OWID_', na=False) &\n",
    "    (latest_by_country['people_fully_vaccinated'].notna())\n",
    "].head(20)\n",
    "# Create interactive bar chart of vaccination rates by country\n",
    "fig = px.bar(\n",
    "    filtered_countries,\n",
    "    x='location',\n",
    "    y=['people_fully_vaccinated_per_hundred', 'people_vaccinated_per_hundred'],\n",
    "    title='COVID-19 Vaccination Rates by Country (Top 20)',\n",
    "    labels={\n",
    "        'location': 'Country',\n",
    "        'value': 'Percentage of Population',\n",
    "        'variable': 'Vaccination Status'\n",
    "    },\n",
    "    color_discrete_map={\n",
    "        'people_vaccinated_per_hundred': 'lightblue',\n",
    "        'people_fully_vaccinated_per_hundred': 'darkblue'\n",
    "    },\n",
    "    barmode='group'\n",
    ")\n",
    "fig.update_layout(\n",
    "    xaxis_tickangle=-45,\n",
    "    legend_title_text='',\n",
    "    height=600\n",
    ")\n",
    "fig.show()"
   ]
  },
  {
   "cell_type": "code",
   "execution_count": 48,
   "metadata": {},
   "outputs": [
    {
     "name": "stdout",
     "output_type": "stream",
     "text": [
      "\n",
      "Performing detailed time series analysis for United States\n",
      "Data points available for analysis: 878\n"
     ]
    },
    {
     "data": {
      "image/png": "[encoded data removed]",
      "text/plain": [
       "<Figure size 1008x504 with 1 Axes>"
      ]
     },
     "metadata": {},
     "output_type": "display_data"
    },
    {
     "name": "stdout",
     "output_type": "stream",
     "text": [
      "Results of Dickey-Fuller Test:\n",
      "Test Statistic                  -5.080557\n",
      "p-value                          0.000015\n",
      "Lags Used                       21.000000\n",
      "Number of Observations Used    856.000000\n",
      "Critical Value (1%)             -3.438012\n",
      "Critical Value (5%)             -2.864922\n",
      "Critical Value (10%)            -2.568571\n",
      "dtype: float64\n",
      "Conclusion: Time series is stationary\n"
     ]
    },
    {
     "data": {
      "image/png": "[encoded data removed]",
      "text/plain": [
       "<Figure size 1152x432 with 2 Axes>"
      ]
     },
     "metadata": {},
     "output_type": "display_data"
    },
    {
     "name": "stdout",
     "output_type": "stream",
     "text": [
      "\n",
      "Fitting ARIMA(1,0,1) model for United States...\n"
     ]
    }
   ],
   "source": [
    "# Select a target country for detailed forecasting\n",
    "target_country = 'United States'  # Can be changed to any country of interest\n",
    "print(f\"\\nPerforming detailed time series analysis for {target_country}\")\n",
    "# Get data for target country\n",
    "country_data = df[df['location'] == target_country].copy()\n",
    "country_data.set_index('date', inplace=True)\n",
    "country_data.sort_index(inplace=True)\n",
    "# Fill missing values using forward fill for time series data\n",
    "country_data = country_data.fillna(method='ffill')\n",
    "# Select the target variable for forecasting\n",
    "target_var = 'people_fully_vaccinated_per_hundred'\n",
    "ts_data = country_data[target_var].dropna()\n",
    "# Check if we have enough data\n",
    "if len(ts_data) < 30:\n",
    "    print(f\"Warning: Limited data available for {target_country} ({len(ts_data)} data points)\")\n",
    "else:\n",
    "    print(f\"Data points available for analysis: {len(ts_data)}\")\n",
    "# Plot the time series\n",
    "plt.figure(figsize=(14, 7))\n",
    "plt.plot(ts_data)\n",
    "plt.title(f'Fully Vaccinated People per 100 - {target_country}')\n",
    "plt.ylabel('Percentage of Population')\n",
    "plt.grid(True)\n",
    "plt.show()\n",
    "# Check stationarity with ADF test\n",
    "def check_stationarity(timeseries):\n",
    "    print('Results of Dickey-Fuller Test:')\n",
    "    dftest = adfuller(timeseries, autolag='AIC')\n",
    "    dfoutput = pd.Series(dftest[0:4], index=['Test Statistic','p-value','Lags Used','Number of Observations Used'])\n",
    "    for key, value in dftest[4].items():\n",
    "        dfoutput['Critical Value (%s)'%key] = value\n",
    "    print(dfoutput)\n",
    "    # Interpret results\n",
    "    if dftest[1] <= 0.05:\n",
    "        print(\"Conclusion: Time series is stationary\")\n",
    "        return True\n",
    "    else:\n",
    "        print(\"Conclusion: Time series is non-stationary\")\n",
    "        return False\n",
    "\n",
    "is_stationary = check_stationarity(ts_data)\n",
    "\n",
    "# Plot ACF and PACF for parameter selection\n",
    "fig, (ax1, ax2) = plt.subplots(1, 2, figsize=(16, 6))\n",
    "plot_acf(ts_data, ax=ax1, lags=30)\n",
    "plot_pacf(ts_data, ax=ax2, lags=30)\n",
    "plt.show()\n",
    "if not is_stationary:\n",
    "    print(\"\\nDifferencing the series to achieve stationarity...\")\n",
    "    ts_diff = ts_data.diff().dropna()\n",
    "    plt.figure(figsize=(14, 7))\n",
    "    plt.plot(ts_diff)\n",
    "    plt.title(f'Differenced Series - {target_country}')\n",
    "    plt.grid(True)\n",
    "    plt.show()\n",
    "    is_diff_stationary = check_stationarity(ts_diff)\n",
    "    # Plot ACF and PACF of differenced series\n",
    "    fig, (ax1, ax2) = plt.subplots(1, 2, figsize=(16, 6))\n",
    "    plot_acf(ts_diff, ax=ax1, lags=30)\n",
    "    plot_pacf(ts_diff, ax=ax2, lags=30)\n",
    "    plt.show()\n",
    "    \n",
    "    d_value = 1\n",
    "    ts_for_model = ts_diff\n",
    "else:\n",
    "    d_value = 0\n",
    "    ts_for_model = ts_data\n",
    "# Based on ACF/PACF plots, determine appropriate p and q values\n",
    "p, d, q = 1, d_value, 1\n",
    "print(f\"\\nFitting ARIMA({p},{d},{q}) model for {target_country}...\")\n",
    "# Train the ARIMA model\n",
    "model = ARIMA(ts_data, order=(p, d, q))\n",
    "model_fit = model.fit()"
   ]
  },
  {
   "cell_type": "markdown",
   "metadata": {},
   "source": [
    "3 months time series forecast with ARIMA"
   ]
  },
  {
   "cell_type": "code",
   "execution_count": 49,
   "metadata": {},
   "outputs": [
    {
     "data": {
      "application/vnd.plotly.v1+json": {
       "config": {
        "plotlyServerURL": "https://plot.ly"
       },
       "data": [
        {
         "line": {
          "color": "red",
          "dash": "dash"
         },
         "mode": "lines",
         "name": "Forecast",
         "type": "scatter",
         "x": [
          "2023-05-10T00:00:00.000000000",
          "2023-05-11T00:00:00.000000000",
          "2023-05-12T00:00:00.000000000",
          "2023-05-13T00:00:00.000000000",
          "2023-05-14T00:00:00.000000000",
          "2023-05-15T00:00:00.000000000",
          "2023-05-16T00:00:00.000000000",
          "2023-05-17T00:00:00.000000000",
          "2023-05-18T00:00:00.000000000",
          "2023-05-19T00:00:00.000000000",
          "2023-05-20T00:00:00.000000000",
          "2023-05-21T00:00:00.000000000",
          "2023-05-22T00:00:00.000000000",
          "2023-05-23T00:00:00.000000000",
          "2023-05-24T00:00:00.000000000",
          "2023-05-25T00:00:00.000000000",
          "2023-05-26T00:00:00.000000000",
          "2023-05-27T00:00:00.000000000",
          "2023-05-28T00:00:00.000000000",
          "2023-05-29T00:00:00.000000000",
          "2023-05-30T00:00:00.000000000",
          "2023-05-31T00:00:00.000000000",
          "2023-06-01T00:00:00.000000000",
          "2023-06-02T00:00:00.000000000",
          "2023-06-03T00:00:00.000000000",
          "2023-06-04T00:00:00.000000000",
          "2023-06-05T00:00:00.000000000",
          "2023-06-06T00:00:00.000000000",
          "2023-06-07T00:00:00.000000000",
          "2023-06-08T00:00:00.000000000",
          "2023-06-09T00:00:00.000000000",
          "2023-06-10T00:00:00.000000000",
          "2023-06-11T00:00:00.000000000",
          "2023-06-12T00:00:00.000000000",
          "2023-06-13T00:00:00.000000000",
          "2023-06-14T00:00:00.000000000",
          "2023-06-15T00:00:00.000000000",
          "2023-06-16T00:00:00.000000000",
          "2023-06-17T00:00:00.000000000",
          "2023-06-18T00:00:00.000000000",
          "2023-06-19T00:00:00.000000000",
          "2023-06-20T00:00:00.000000000",
          "2023-06-21T00:00:00.000000000",
          "2023-06-22T00:00:00.000000000",
          "2023-06-23T00:00:00.000000000",
          "2023-06-24T00:00:00.000000000",
          "2023-06-25T00:00:00.000000000",
          "2023-06-26T00:00:00.000000000",
          "2023-06-27T00:00:00.000000000",
          "2023-06-28T00:00:00.000000000",
          "2023-06-29T00:00:00.000000000",
          "2023-06-30T00:00:00.000000000",
          "2023-07-01T00:00:00.000000000",
          "2023-07-02T00:00:00.000000000",
          "2023-07-03T00:00:00.000000000",
          "2023-07-04T00:00:00.000000000",
          "2023-07-05T00:00:00.000000000",
          "2023-07-06T00:00:00.000000000",
          "2023-07-07T00:00:00.000000000",
          "2023-07-08T00:00:00.000000000",
          "2023-07-09T00:00:00.000000000",
          "2023-07-10T00:00:00.000000000",
          "2023-07-11T00:00:00.000000000",
          "2023-07-12T00:00:00.000000000",
          "2023-07-13T00:00:00.000000000",
          "2023-07-14T00:00:00.000000000",
          "2023-07-15T00:00:00.000000000",
          "2023-07-16T00:00:00.000000000",
          "2023-07-17T00:00:00.000000000",
          "2023-07-18T00:00:00.000000000",
          "2023-07-19T00:00:00.000000000",
          "2023-07-20T00:00:00.000000000",
          "2023-07-21T00:00:00.000000000",
          "2023-07-22T00:00:00.000000000",
          "2023-07-23T00:00:00.000000000",
          "2023-07-24T00:00:00.000000000",
          "2023-07-25T00:00:00.000000000",
          "2023-07-26T00:00:00.000000000",
          "2023-07-27T00:00:00.000000000",
          "2023-07-28T00:00:00.000000000",
          "2023-07-29T00:00:00.000000000",
          "2023-07-30T00:00:00.000000000",
          "2023-07-31T00:00:00.000000000",
          "2023-08-01T00:00:00.000000000",
          "2023-08-02T00:00:00.000000000",
          "2023-08-03T00:00:00.000000000",
          "2023-08-04T00:00:00.000000000",
          "2023-08-05T00:00:00.000000000",
          "2023-08-06T00:00:00.000000000",
          "2023-08-07T00:00:00.000000000"
         ],
         "y": {
          "bdata": "8o1/yXFdUUAeRKyLa11RQMKq3U1lXVFA3METEF9dUUBoiU7SWF1RQGIBjpRSXVFAxynSVkxdUUCTAhsZRl1RQMKLaNs/XVFAUsW6nTldUUA+rxFgM11RQIRJbSItXVFAHpTN5CZdUUAMjzKnIF1RQEc6nGkaXVFAzpUKLBRdUUCcoX3uDV1RQK5d9bAHXVFAAMpxcwFdUUCP5vI1+1xRQFizePj0XFFAVjADu+5cUUCGXZJ96FxRQOY6JkDiXFFAcci+AtxcUUAkBlzF1VxRQPrz/YfPXFFA8pGkSslcUUAH4E8Nw1xRQDbe/8+8XFFAeoy0krZcUUDR6m1VsFxRQDj5KxiqXFFAqrfu2qNcUUAkJradnVxRQKJEgmCXXFFAIhNTI5FcUUCekSjmilxRQBbAAqmEXFFAg57ha35cUUDkLMUueFxRQDRrrfFxXFFAcFmatGtcUUCU94t3ZVxRQJxFgjpfXFFAh0N9/VhcUUBP8XzAUlxRQPJOgYNMXFFAalyKRkZcUUC3GZgJQFxRQNOGqsw5XFFAvKPBjzNcUUBscN1SLVxRQOLs/RUnXFFAGhkj2SBcUUAQ9UycGlxRQMGAe18UXFFAKLyuIg5cUUBEp+blB1xRQA5CI6kBXFFAhoxkbPtbUUCmhqov9VtRQGww9fLuW1FA1IlEtuhbUUDbkph54ltRQHxL8TzcW1FAtrNOANZbUUCCy7DDz1tRQN+SF4fJW1FAyQmDSsNbUUA8MPMNvVtRQDUGaNG2W1FAsIvhlLBbUUCqwF9YqltRQCCl4hukW1FADDlq351bUUBufPail1tRQEBvh2aRW1FAfhEdKotbUUAnY7fthFtRQDZkVrF+W1FAphT6dHhbUUB3dKI4cltRQKODT/xrW1FAJ0IBwGVbUUAAsLeDX1tRQCnNckdZW1FAoJkyC1NbUUBhFffOTFtRQGhAwJJGW1FA",
          "dtype": "f8"
         }
        },
        {
         "fill": "toself",
         "fillcolor": "rgba(231,107,243,0.2)",
         "line": {
          "color": "rgba(255,255,255,0)"
         },
         "name": "95% Confidence Interval",
         "type": "scatter",
         "x": [
          "2023-05-10T00:00:00",
          "2023-05-11T00:00:00",
          "2023-05-12T00:00:00",
          "2023-05-13T00:00:00",
          "2023-05-14T00:00:00",
          "2023-05-15T00:00:00",
          "2023-05-16T00:00:00",
          "2023-05-17T00:00:00",
          "2023-05-18T00:00:00",
          "2023-05-19T00:00:00",
          "2023-05-20T00:00:00",
          "2023-05-21T00:00:00",
          "2023-05-22T00:00:00",
          "2023-05-23T00:00:00",
          "2023-05-24T00:00:00",
          "2023-05-25T00:00:00",
          "2023-05-26T00:00:00",
          "2023-05-27T00:00:00",
          "2023-05-28T00:00:00",
          "2023-05-29T00:00:00",
          "2023-05-30T00:00:00",
          "2023-05-31T00:00:00",
          "2023-06-01T00:00:00",
          "2023-06-02T00:00:00",
          "2023-06-03T00:00:00",
          "2023-06-04T00:00:00",
          "2023-06-05T00:00:00",
          "2023-06-06T00:00:00",
          "2023-06-07T00:00:00",
          "2023-06-08T00:00:00",
          "2023-06-09T00:00:00",
          "2023-06-10T00:00:00",
          "2023-06-11T00:00:00",
          "2023-06-12T00:00:00",
          "2023-06-13T00:00:00",
          "2023-06-14T00:00:00",
          "2023-06-15T00:00:00",
          "2023-06-16T00:00:00",
          "2023-06-17T00:00:00",
          "2023-06-18T00:00:00",
          "2023-06-19T00:00:00",
          "2023-06-20T00:00:00",
          "2023-06-21T00:00:00",
          "2023-06-22T00:00:00",
          "2023-06-23T00:00:00",
          "2023-06-24T00:00:00",
          "2023-06-25T00:00:00",
          "2023-06-26T00:00:00",
          "2023-06-27T00:00:00",
          "2023-06-28T00:00:00",
          "2023-06-29T00:00:00",
          "2023-06-30T00:00:00",
          "2023-07-01T00:00:00",
          "2023-07-02T00:00:00",
          "2023-07-03T00:00:00",
          "2023-07-04T00:00:00",
          "2023-07-05T00:00:00",
          "2023-07-06T00:00:00",
          "2023-07-07T00:00:00",
          "2023-07-08T00:00:00",
          "2023-07-09T00:00:00",
          "2023-07-10T00:00:00",
          "2023-07-11T00:00:00",
          "2023-07-12T00:00:00",
          "2023-07-13T00:00:00",
          "2023-07-14T00:00:00",
          "2023-07-15T00:00:00",
          "2023-07-16T00:00:00",
          "2023-07-17T00:00:00",
          "2023-07-18T00:00:00",
          "2023-07-19T00:00:00",
          "2023-07-20T00:00:00",
          "2023-07-21T00:00:00",
          "2023-07-22T00:00:00",
          "2023-07-23T00:00:00",
          "2023-07-24T00:00:00",
          "2023-07-25T00:00:00",
          "2023-07-26T00:00:00",
          "2023-07-27T00:00:00",
          "2023-07-28T00:00:00",
          "2023-07-29T00:00:00",
          "2023-07-30T00:00:00",
          "2023-07-31T00:00:00",
          "2023-08-01T00:00:00",
          "2023-08-02T00:00:00",
          "2023-08-03T00:00:00",
          "2023-08-04T00:00:00",
          "2023-08-05T00:00:00",
          "2023-08-06T00:00:00",
          "2023-08-07T00:00:00",
          "2023-08-07T00:00:00",
          "2023-08-06T00:00:00",
          "2023-08-05T00:00:00",
          "2023-08-04T00:00:00",
          "2023-08-03T00:00:00",
          "2023-08-02T00:00:00",
          "2023-08-01T00:00:00",
          "2023-07-31T00:00:00",
          "2023-07-30T00:00:00",
          "2023-07-29T00:00:00",
          "2023-07-28T00:00:00",
          "2023-07-27T00:00:00",
          "2023-07-26T00:00:00",
          "2023-07-25T00:00:00",
          "2023-07-24T00:00:00",
          "2023-07-23T00:00:00",
          "2023-07-22T00:00:00",
          "2023-07-21T00:00:00",
          "2023-07-20T00:00:00",
          "2023-07-19T00:00:00",
          "2023-07-18T00:00:00",
          "2023-07-17T00:00:00",
          "2023-07-16T00:00:00",
          "2023-07-15T00:00:00",
          "2023-07-14T00:00:00",
          "2023-07-13T00:00:00",
          "2023-07-12T00:00:00",
          "2023-07-11T00:00:00",
          "2023-07-10T00:00:00",
          "2023-07-09T00:00:00",
          "2023-07-08T00:00:00",
          "2023-07-07T00:00:00",
          "2023-07-06T00:00:00",
          "2023-07-05T00:00:00",
          "2023-07-04T00:00:00",
          "2023-07-03T00:00:00",
          "2023-07-02T00:00:00",
          "2023-07-01T00:00:00",
          "2023-06-30T00:00:00",
          "2023-06-29T00:00:00",
          "2023-06-28T00:00:00",
          "2023-06-27T00:00:00",
          "2023-06-26T00:00:00",
          "2023-06-25T00:00:00",
          "2023-06-24T00:00:00",
          "2023-06-23T00:00:00",
          "2023-06-22T00:00:00",
          "2023-06-21T00:00:00",
          "2023-06-20T00:00:00",
          "2023-06-19T00:00:00",
          "2023-06-18T00:00:00",
          "2023-06-17T00:00:00",
          "2023-06-16T00:00:00",
          "2023-06-15T00:00:00",
          "2023-06-14T00:00:00",
          "2023-06-13T00:00:00",
          "2023-06-12T00:00:00",
          "2023-06-11T00:00:00",
          "2023-06-10T00:00:00",
          "2023-06-09T00:00:00",
          "2023-06-08T00:00:00",
          "2023-06-07T00:00:00",
          "2023-06-06T00:00:00",
          "2023-06-05T00:00:00",
          "2023-06-04T00:00:00",
          "2023-06-03T00:00:00",
          "2023-06-02T00:00:00",
          "2023-06-01T00:00:00",
          "2023-05-31T00:00:00",
          "2023-05-30T00:00:00",
          "2023-05-29T00:00:00",
          "2023-05-28T00:00:00",
          "2023-05-27T00:00:00",
          "2023-05-26T00:00:00",
          "2023-05-25T00:00:00",
          "2023-05-24T00:00:00",
          "2023-05-23T00:00:00",
          "2023-05-22T00:00:00",
          "2023-05-21T00:00:00",
          "2023-05-20T00:00:00",
          "2023-05-19T00:00:00",
          "2023-05-18T00:00:00",
          "2023-05-17T00:00:00",
          "2023-05-16T00:00:00",
          "2023-05-15T00:00:00",
          "2023-05-14T00:00:00",
          "2023-05-13T00:00:00",
          "2023-05-12T00:00:00",
          "2023-05-11T00:00:00",
          "2023-05-10T00:00:00"
         ],
         "y": [
          69.63242043809228,
          69.83172898063775,
          69.95642001461614,
          70.0554372628125,
          70.14010756142568,
          70.21528147721752,
          70.28356973978265,
          70.3465690959807,
          70.40534058316123,
          70.46063176455748,
          70.51299284571867,
          70.56284272634049,
          70.61050908588503,
          70.6562539859585,
          70.70029091390793,
          70.74279652473064,
          70.7839189676091,
          70.82378393807147,
          70.862499171912,
          70.90015784485698,
          70.93684118701863,
          70.97262052303904,
          71.00755888497963,
          71.04171230247984,
          71.07513084576951,
          71.10785947704896,
          71.13993875158921,
          71.1714053997557,
          71.20229281377863,
          71.23263145765802,
          71.26244921453718,
          71.29177168282327,
          71.32062243000506,
          71.34902321132778,
          71.37699415909526,
          71.40455394728227,
          71.43171993528233,
          71.45850829393495,
          71.4849341164316,
          71.51101151625993,
          71.53675371399183,
          71.56217311442936,
          71.58728137538714,
          71.61208946919282,
          71.63660773782674,
          71.66084594248659,
          71.68481330825082,
          71.70851856442091,
          71.7319699810422,
          71.75517540203703,
          71.77814227532619,
          71.8008776802671,
          71.82338835269469,
          71.84568070781661,
          71.86776086118286,
          71.88963464792445,
          71.91130764043264,
          71.9327851646301,
          71.95407231496925,
          71.97517396827689,
          71.99609479655223,
          72.01683927881292,
          72.03741171207481,
          72.05781622154105,
          72.07805677006947,
          72.09813716697951,
          72.11806107625436,
          72.13783202418786,
          72.15745340652222,
          72.17692849511648,
          72.19626044418354,
          72.21545229612914,
          72.2345069870234,
          72.25342735173278,
          72.27221612873805,
          72.29087596466113,
          72.30940941852235,
          72.32781896574717,
          72.34610700194044,
          72.36427584644431,
          72.38232774569471,
          72.40026487639038,
          72.41808934848689,
          72.43580320802732,
          72.45340843982059,
          72.47090696997701,
          72.48830066831052,
          72.50559135061596,
          72.52278078082925,
          72.53987067307771,
          66.31249422511887,
          66.33034525160424,
          66.34829582478031,
          66.3663476587745,
          66.38450251752285,
          66.40276221682025,
          66.4211286264808,
          66.43960367261488,
          66.4581893400315,
          66.4768876747739,
          66.49570078679767,
          66.51463085280169,
          66.53368011922201,
          66.55285090540083,
          66.57214560694311,
          66.59156669927447,
          66.61111674141524,
          66.63079837998754,
          66.65061435347218,
          66.67056749673574,
          66.69066074584843,
          66.7108971432161,
          66.73127984305175,
          66.75181211721453,
          66.77249736144668,
          66.79333910204225,
          66.81434100298445,
          66.83550687359285,
          66.85684067672538,
          66.87834653758532,
          66.90002875318854,
          66.92189180255288,
          66.94394035767755,
          66.96617929538955,
          66.98861371014132,
          67.01124892785569,
          67.03409052092398,
          67.05714432447733,
          67.08041645406585,
          67.10391332489723,
          67.12764167280656,
          67.15160857715131,
          67.17582148585244,
          67.2002882428323,
          67.2250171181364,
          67.25001684106628,
          67.27529663670055,
          67.30086626623694,
          67.32673607165589,
          67.35291702528517,
          67.37942078493948,
          67.40625975542103,
          67.43344715730174,
          67.46099710406946,
          67.48892468891566,
          67.51724608268,
          67.54597864475609,
          67.57514104911878,
          67.60475342807202,
          67.63483753686114,
          67.66541694297504,
          67.69651724482091,
          67.7281663255422,
          67.76039464913903,
          67.79323560784174,
          67.82672593201579,
          67.86090617693235,
          67.89582130479181,
          67.93152138582417,
          67.96806244966892,
          68.00550752838757,
          68.04392794662233,
          68.08340493448554,
          68.12403166770356,
          68.16591588207075,
          68.20918327311534,
          68.25398199001998,
          68.30048868778199,
          68.3489168537486,
          68.39952854952604,
          68.45265145457655,
          68.50870446859588,
          68.5682377971334,
          68.63199900342241,
          68.70104912481257,
          68.77698490816363,
          68.8624170830703,
          68.96219621629454,
          69.08764914403532,
          69.28771958907774
         ]
        }
       ],
       "layout": {
        "height": 600,
        "legend": {
         "title": {
          "text": "Data Series"
         }
        },
        "template": {
         "data": {
          "bar": [
           {
            "error_x": {
             "color": "#2a3f5f"
            },
            "error_y": {
             "color": "#2a3f5f"
            },
            "marker": {
             "line": {
              "color": "#E5ECF6",
              "width": 0.5
             },
             "pattern": {
              "fillmode": "overlay",
              "size": 10,
              "solidity": 0.2
             }
            },
            "type": "bar"
           }
          ],
          "barpolar": [
           {
            "marker": {
             "line": {
              "color": "#E5ECF6",
              "width": 0.5
             },
             "pattern": {
              "fillmode": "overlay",
              "size": 10,
              "solidity": 0.2
             }
            },
            "type": "barpolar"
           }
          ],
          "carpet": [
           {
            "aaxis": {
             "endlinecolor": "#2a3f5f",
             "gridcolor": "white",
             "linecolor": "white",
             "minorgridcolor": "white",
             "startlinecolor": "#2a3f5f"
            },
            "baxis": {
             "endlinecolor": "#2a3f5f",
             "gridcolor": "white",
             "linecolor": "white",
             "minorgridcolor": "white",
             "startlinecolor": "#2a3f5f"
            },
            "type": "carpet"
           }
          ],
          "choropleth": [
           {
            "colorbar": {
             "outlinewidth": 0,
             "ticks": ""
            },
            "type": "choropleth"
           }
          ],
          "contour": [
           {
            "colorbar": {
             "outlinewidth": 0,
             "ticks": ""
            },
            "colorscale": [
             [
              0,
              "#0d0887"
             ],
             [
              0.1111111111111111,
              "#46039f"
             ],
             [
              0.2222222222222222,
              "#7201a8"
             ],
             [
              0.3333333333333333,
              "#9c179e"
             ],
             [
              0.4444444444444444,
              "#bd3786"
             ],
             [
              0.5555555555555556,
              "#d8576b"
             ],
             [
              0.6666666666666666,
              "#ed7953"
             ],
             [
              0.7777777777777778,
              "#fb9f3a"
             ],
             [
              0.8888888888888888,
              "#fdca26"
             ],
             [
              1,
              "#f0f921"
             ]
            ],
            "type": "contour"
           }
          ],
          "contourcarpet": [
           {
            "colorbar": {
             "outlinewidth": 0,
             "ticks": ""
            },
            "type": "contourcarpet"
           }
          ],
          "heatmap": [
           {
            "colorbar": {
             "outlinewidth": 0,
             "ticks": ""
            },
            "colorscale": [
             [
              0,
              "#0d0887"
             ],
             [
              0.1111111111111111,
              "#46039f"
             ],
             [
              0.2222222222222222,
              "#7201a8"
             ],
             [
              0.3333333333333333,
              "#9c179e"
             ],
             [
              0.4444444444444444,
              "#bd3786"
             ],
             [
              0.5555555555555556,
              "#d8576b"
             ],
             [
              0.6666666666666666,
              "#ed7953"
             ],
             [
              0.7777777777777778,
              "#fb9f3a"
             ],
             [
              0.8888888888888888,
              "#fdca26"
             ],
             [
              1,
              "#f0f921"
             ]
            ],
            "type": "heatmap"
           }
          ],
          "histogram": [
           {
            "marker": {
             "pattern": {
              "fillmode": "overlay",
              "size": 10,
              "solidity": 0.2
             }
            },
            "type": "histogram"
           }
          ],
          "histogram2d": [
           {
            "colorbar": {
             "outlinewidth": 0,
             "ticks": ""
            },
            "colorscale": [
             [
              0,
              "#0d0887"
             ],
             [
              0.1111111111111111,
              "#46039f"
             ],
             [
              0.2222222222222222,
              "#7201a8"
             ],
             [
              0.3333333333333333,
              "#9c179e"
             ],
             [
              0.4444444444444444,
              "#bd3786"
             ],
             [
              0.5555555555555556,
              "#d8576b"
             ],
             [
              0.6666666666666666,
              "#ed7953"
             ],
             [
              0.7777777777777778,
              "#fb9f3a"
             ],
             [
              0.8888888888888888,
              "#fdca26"
             ],
             [
              1,
              "#f0f921"
             ]
            ],
            "type": "histogram2d"
           }
          ],
          "histogram2dcontour": [
           {
            "colorbar": {
             "outlinewidth": 0,
             "ticks": ""
            },
            "colorscale": [
             [
              0,
              "#0d0887"
             ],
             [
              0.1111111111111111,
              "#46039f"
             ],
             [
              0.2222222222222222,
              "#7201a8"
             ],
             [
              0.3333333333333333,
              "#9c179e"
             ],
             [
              0.4444444444444444,
              "#bd3786"
             ],
             [
              0.5555555555555556,
              "#d8576b"
             ],
             [
              0.6666666666666666,
              "#ed7953"
             ],
             [
              0.7777777777777778,
              "#fb9f3a"
             ],
             [
              0.8888888888888888,
              "#fdca26"
             ],
             [
              1,
              "#f0f921"
             ]
            ],
            "type": "histogram2dcontour"
           }
          ],
          "mesh3d": [
           {
            "colorbar": {
             "outlinewidth": 0,
             "ticks": ""
            },
            "type": "mesh3d"
           }
          ],
          "parcoords": [
           {
            "line": {
             "colorbar": {
              "outlinewidth": 0,
              "ticks": ""
             }
            },
            "type": "parcoords"
           }
          ],
          "pie": [
           {
            "automargin": true,
            "type": "pie"
           }
          ],
          "scatter": [
           {
            "fillpattern": {
             "fillmode": "overlay",
             "size": 10,
             "solidity": 0.2
            },
            "type": "scatter"
           }
          ],
          "scatter3d": [
           {
            "line": {
             "colorbar": {
              "outlinewidth": 0,
              "ticks": ""
             }
            },
            "marker": {
             "colorbar": {
              "outlinewidth": 0,
              "ticks": ""
             }
            },
            "type": "scatter3d"
           }
          ],
          "scattercarpet": [
           {
            "marker": {
             "colorbar": {
              "outlinewidth": 0,
              "ticks": ""
             }
            },
            "type": "scattercarpet"
           }
          ],
          "scattergeo": [
           {
            "marker": {
             "colorbar": {
              "outlinewidth": 0,
              "ticks": ""
             }
            },
            "type": "scattergeo"
           }
          ],
          "scattergl": [
           {
            "marker": {
             "colorbar": {
              "outlinewidth": 0,
              "ticks": ""
             }
            },
            "type": "scattergl"
           }
          ],
          "scattermap": [
           {
            "marker": {
             "colorbar": {
              "outlinewidth": 0,
              "ticks": ""
             }
            },
            "type": "scattermap"
           }
          ],
          "scattermapbox": [
           {
            "marker": {
             "colorbar": {
              "outlinewidth": 0,
              "ticks": ""
             }
            },
            "type": "scattermapbox"
           }
          ],
          "scatterpolar": [
           {
            "marker": {
             "colorbar": {
              "outlinewidth": 0,
              "ticks": ""
             }
            },
            "type": "scatterpolar"
           }
          ],
          "scatterpolargl": [
           {
            "marker": {
             "colorbar": {
              "outlinewidth": 0,
              "ticks": ""
             }
            },
            "type": "scatterpolargl"
           }
          ],
          "scatterternary": [
           {
            "marker": {
             "colorbar": {
              "outlinewidth": 0,
              "ticks": ""
             }
            },
            "type": "scatterternary"
           }
          ],
          "surface": [
           {
            "colorbar": {
             "outlinewidth": 0,
             "ticks": ""
            },
            "colorscale": [
             [
              0,
              "#0d0887"
             ],
             [
              0.1111111111111111,
              "#46039f"
             ],
             [
              0.2222222222222222,
              "#7201a8"
             ],
             [
              0.3333333333333333,
              "#9c179e"
             ],
             [
              0.4444444444444444,
              "#bd3786"
             ],
             [
              0.5555555555555556,
              "#d8576b"
             ],
             [
              0.6666666666666666,
              "#ed7953"
             ],
             [
              0.7777777777777778,
              "#fb9f3a"
             ],
             [
              0.8888888888888888,
              "#fdca26"
             ],
             [
              1,
              "#f0f921"
             ]
            ],
            "type": "surface"
           }
          ],
          "table": [
           {
            "cells": {
             "fill": {
              "color": "#EBF0F8"
             },
             "line": {
              "color": "white"
             }
            },
            "header": {
             "fill": {
              "color": "#C8D4E3"
             },
             "line": {
              "color": "white"
             }
            },
            "type": "table"
           }
          ]
         },
         "layout": {
          "annotationdefaults": {
           "arrowcolor": "#2a3f5f",
           "arrowhead": 0,
           "arrowwidth": 1
          },
          "autotypenumbers": "strict",
          "coloraxis": {
           "colorbar": {
            "outlinewidth": 0,
            "ticks": ""
           }
          },
          "colorscale": {
           "diverging": [
            [
             0,
             "#8e0152"
            ],
            [
             0.1,
             "#c51b7d"
            ],
            [
             0.2,
             "#de77ae"
            ],
            [
             0.3,
             "#f1b6da"
            ],
            [
             0.4,
             "#fde0ef"
            ],
            [
             0.5,
             "#f7f7f7"
            ],
            [
             0.6,
             "#e6f5d0"
            ],
            [
             0.7,
             "#b8e186"
            ],
            [
             0.8,
             "#7fbc41"
            ],
            [
             0.9,
             "#4d9221"
            ],
            [
             1,
             "#276419"
            ]
           ],
           "sequential": [
            [
             0,
             "#0d0887"
            ],
            [
             0.1111111111111111,
             "#46039f"
            ],
            [
             0.2222222222222222,
             "#7201a8"
            ],
            [
             0.3333333333333333,
             "#9c179e"
            ],
            [
             0.4444444444444444,
             "#bd3786"
            ],
            [
             0.5555555555555556,
             "#d8576b"
            ],
            [
             0.6666666666666666,
             "#ed7953"
            ],
            [
             0.7777777777777778,
             "#fb9f3a"
            ],
            [
             0.8888888888888888,
             "#fdca26"
            ],
            [
             1,
             "#f0f921"
            ]
           ],
           "sequentialminus": [
            [
             0,
             "#0d0887"
            ],
            [
             0.1111111111111111,
             "#46039f"
            ],
            [
             0.2222222222222222,
             "#7201a8"
            ],
            [
             0.3333333333333333,
             "#9c179e"
            ],
            [
             0.4444444444444444,
             "#bd3786"
            ],
            [
             0.5555555555555556,
             "#d8576b"
            ],
            [
             0.6666666666666666,
             "#ed7953"
            ],
            [
             0.7777777777777778,
             "#fb9f3a"
            ],
            [
             0.8888888888888888,
             "#fdca26"
            ],
            [
             1,
             "#f0f921"
            ]
           ]
          },
          "colorway": [
           "#636efa",
           "#EF553B",
           "#00cc96",
           "#ab63fa",
           "#FFA15A",
           "#19d3f3",
           "#FF6692",
           "#B6E880",
           "#FF97FF",
           "#FECB52"
          ],
          "font": {
           "color": "#2a3f5f"
          },
          "geo": {
           "bgcolor": "white",
           "lakecolor": "white",
           "landcolor": "#E5ECF6",
           "showlakes": true,
           "showland": true,
           "subunitcolor": "white"
          },
          "hoverlabel": {
           "align": "left"
          },
          "hovermode": "closest",
          "mapbox": {
           "style": "light"
          },
          "paper_bgcolor": "white",
          "plot_bgcolor": "#E5ECF6",
          "polar": {
           "angularaxis": {
            "gridcolor": "white",
            "linecolor": "white",
            "ticks": ""
           },
           "bgcolor": "#E5ECF6",
           "radialaxis": {
            "gridcolor": "white",
            "linecolor": "white",
            "ticks": ""
           }
          },
          "scene": {
           "xaxis": {
            "backgroundcolor": "#E5ECF6",
            "gridcolor": "white",
            "gridwidth": 2,
            "linecolor": "white",
            "showbackground": true,
            "ticks": "",
            "zerolinecolor": "white"
           },
           "yaxis": {
            "backgroundcolor": "#E5ECF6",
            "gridcolor": "white",
            "gridwidth": 2,
            "linecolor": "white",
            "showbackground": true,
            "ticks": "",
            "zerolinecolor": "white"
           },
           "zaxis": {
            "backgroundcolor": "#E5ECF6",
            "gridcolor": "white",
            "gridwidth": 2,
            "linecolor": "white",
            "showbackground": true,
            "ticks": "",
            "zerolinecolor": "white"
           }
          },
          "shapedefaults": {
           "line": {
            "color": "#2a3f5f"
           }
          },
          "ternary": {
           "aaxis": {
            "gridcolor": "white",
            "linecolor": "white",
            "ticks": ""
           },
           "baxis": {
            "gridcolor": "white",
            "linecolor": "white",
            "ticks": ""
           },
           "bgcolor": "#E5ECF6",
           "caxis": {
            "gridcolor": "white",
            "linecolor": "white",
            "ticks": ""
           }
          },
          "title": {
           "x": 0.05
          },
          "xaxis": {
           "automargin": true,
           "gridcolor": "white",
           "linecolor": "white",
           "ticks": "",
           "title": {
            "standoff": 15
           },
           "zerolinecolor": "white",
           "zerolinewidth": 2
          },
          "yaxis": {
           "automargin": true,
           "gridcolor": "white",
           "linecolor": "white",
           "ticks": "",
           "title": {
            "standoff": 15
           },
           "zerolinecolor": "white",
           "zerolinewidth": 2
          }
         }
        },
        "title": {
         "text": "3-Month Forecast of Fully Vaccinated People per 100 - United States"
        },
        "xaxis": {
         "title": {
          "text": "Date"
         }
        },
        "yaxis": {
         "title": {
          "text": "Percentage of Population Fully Vaccinated"
         }
        }
       }
      }
     },
     "metadata": {},
     "output_type": "display_data"
    }
   ],
   "source": [
    "# Set forecast horizon\n",
    "forecast_horizon = 90\n",
    "# Generate forecast\n",
    "forecast = model_fit.forecast(steps=forecast_horizon)\n",
    "forecast_index = pd.date_range(start=ts_data.index[-1] + pd.Timedelta(days=1), periods=forecast_horizon, freq='D')\n",
    "forecast_series = pd.Series(forecast, index=forecast_index)\n",
    "# Calculate confidence intervals\n",
    "pred_conf = model_fit.get_forecast(steps=forecast_horizon).conf_int()\n",
    "lower_series = pd.Series(pred_conf.iloc[:, 0].values, index=forecast_index)\n",
    "upper_series = pd.Series(pred_conf.iloc[:, 1].values, index=forecast_index)\n",
    "fig = go.Figure()\n",
    "# Forecast\n",
    "fig.add_trace(go.Scatter(\n",
    "    x=forecast_series.index,\n",
    "    y=forecast_series.values,\n",
    "    mode='lines',\n",
    "    name='Forecast',\n",
    "    line=dict(color='red', dash='dash')\n",
    "))\n",
    "# Confidence interval\n",
    "fig.add_trace(go.Scatter(\n",
    "    x=forecast_index.tolist() + forecast_index.tolist()[::-1],\n",
    "    y=upper_series.tolist() + lower_series.tolist()[::-1],\n",
    "    fill='toself',\n",
    "    fillcolor='rgba(231,107,243,0.2)',\n",
    "    line=dict(color='rgba(255,255,255,0)'),\n",
    "    name='95% Confidence Interval'\n",
    "))\n",
    "fig.update_layout(\n",
    "    title=f'3-Month Forecast of Fully Vaccinated People per 100 - {target_country}',\n",
    "    xaxis_title='Date',\n",
    "    yaxis_title='Percentage of Population Fully Vaccinated',\n",
    "    legend_title='Data Series',\n",
    "    height=600\n",
    ")\n",
    "fig.show()"
   ]
  },
  {
   "cell_type": "markdown",
   "metadata": {},
   "source": [
    "model analysis and interpretation"
   ]
  },
  {
   "cell_type": "code",
   "execution_count": 50,
   "metadata": {},
   "outputs": [
    {
     "data": {
      "image/png": "[encoded data removed]",
      "text/plain": [
       "<Figure size 1008x720 with 2 Axes>"
      ]
     },
     "metadata": {},
     "output_type": "display_data"
    },
    {
     "data": {
      "image/png": "[encoded data removed]",
      "text/plain": [
       "<Figure size 720x432 with 1 Axes>"
      ]
     },
     "metadata": {},
     "output_type": "display_data"
    },
    {
     "name": "stdout",
     "output_type": "stream",
     "text": [
      "\n",
      "Interpreting the forecast results:\n",
      "\n",
      "Current vaccination level (2023-05-09): 69.47%\n",
      "Forecasted vaccination level after 3 months (2023-08-07): 69.43%\n",
      "Projected increase: -0.04 percentage points (-0.06% relative change)\n",
      "Not projected to reach 70% fully vaccinated within the forecast period\n",
      "Not projected to reach 80% fully vaccinated within the forecast period\n",
      "Not projected to reach 90% fully vaccinated within the forecast period\n"
     ]
    },
    {
     "data": {
      "application/vnd.plotly.v1+json": {
       "config": {
        "plotlyServerURL": "https://plot.ly"
       },
       "data": [
        {
         "line": {
          "color": "blue"
         },
         "mode": "lines",
         "name": "United States - Historical",
         "type": "scatter",
         "x": [
          "2020-12-13T00:00:00.000000000",
          "2020-12-14T00:00:00.000000000",
          "2020-12-15T00:00:00.000000000",
          "2020-12-16T00:00:00.000000000",
          "2020-12-17T00:00:00.000000000",
          "2020-12-18T00:00:00.000000000",
          "2020-12-19T00:00:00.000000000",
          "2020-12-20T00:00:00.000000000",
          "2020-12-21T00:00:00.000000000",
          "2020-12-22T00:00:00.000000000",
          "2020-12-23T00:00:00.000000000",
          "2020-12-24T00:00:00.000000000",
          "2020-12-25T00:00:00.000000000",
          "2020-12-26T00:00:00.000000000",
          "2020-12-27T00:00:00.000000000",
          "2020-12-28T00:00:00.000000000",
          "2020-12-29T00:00:00.000000000",
          "2020-12-30T00:00:00.000000000",
          "2020-12-31T00:00:00.000000000",
          "2021-01-01T00:00:00.000000000",
          "2021-01-02T00:00:00.000000000",
          "2021-01-03T00:00:00.000000000",
          "2021-01-04T00:00:00.000000000",
          "2021-01-05T00:00:00.000000000",
          "2021-01-06T00:00:00.000000000",
          "2021-01-07T00:00:00.000000000",
          "2021-01-08T00:00:00.000000000",
          "2021-01-09T00:00:00.000000000",
          "2021-01-10T00:00:00.000000000",
          "2021-01-11T00:00:00.000000000",
          "2021-01-12T00:00:00.000000000",
          "2021-01-13T00:00:00.000000000",
          "2021-01-14T00:00:00.000000000",
          "2021-01-15T00:00:00.000000000",
          "2021-01-16T00:00:00.000000000",
          "2021-01-17T00:00:00.000000000",
          "2021-01-18T00:00:00.000000000",
          "2021-01-19T00:00:00.000000000",
          "2021-01-20T00:00:00.000000000",
          "2021-01-21T00:00:00.000000000",
          "2021-01-22T00:00:00.000000000",
          "2021-01-23T00:00:00.000000000",
          "2021-01-24T00:00:00.000000000",
          "2021-01-25T00:00:00.000000000",
          "2021-01-26T00:00:00.000000000",
          "2021-01-27T00:00:00.000000000",
          "2021-01-28T00:00:00.000000000",
          "2021-01-29T00:00:00.000000000",
          "2021-01-30T00:00:00.000000000",
          "2021-01-31T00:00:00.000000000",
          "2021-02-01T00:00:00.000000000",
          "2021-02-02T00:00:00.000000000",
          "2021-02-03T00:00:00.000000000",
          "2021-02-04T00:00:00.000000000",
          "2021-02-05T00:00:00.000000000",
          "2021-02-06T00:00:00.000000000",
          "2021-02-07T00:00:00.000000000",
          "2021-02-08T00:00:00.000000000",
          "2021-02-09T00:00:00.000000000",
          "2021-02-10T00:00:00.000000000",
          "2021-02-11T00:00:00.000000000",
          "2021-02-12T00:00:00.000000000",
          "2021-02-13T00:00:00.000000000",
          "2021-02-14T00:00:00.000000000",
          "2021-02-15T00:00:00.000000000",
          "2021-02-16T00:00:00.000000000",
          "2021-02-17T00:00:00.000000000",
          "2021-02-18T00:00:00.000000000",
          "2021-02-19T00:00:00.000000000",
          "2021-02-20T00:00:00.000000000",
          "2021-02-21T00:00:00.000000000",
          "2021-02-22T00:00:00.000000000",
          "2021-02-23T00:00:00.000000000",
          "2021-02-24T00:00:00.000000000",
          "2021-02-25T00:00:00.000000000",
          "2021-02-26T00:00:00.000000000",
          "2021-02-27T00:00:00.000000000",
          "2021-02-28T00:00:00.000000000",
          "2021-03-01T00:00:00.000000000",
          "2021-03-02T00:00:00.000000000",
          "2021-03-03T00:00:00.000000000",
          "2021-03-04T00:00:00.000000000",
          "2021-03-05T00:00:00.000000000",
          "2021-03-06T00:00:00.000000000",
          "2021-03-07T00:00:00.000000000",
          "2021-03-08T00:00:00.000000000",
          "2021-03-09T00:00:00.000000000",
          "2021-03-10T00:00:00.000000000",
          "2021-03-11T00:00:00.000000000",
          "2021-03-12T00:00:00.000000000",
          "2021-03-13T00:00:00.000000000",
          "2021-03-14T00:00:00.000000000",
          "2021-03-15T00:00:00.000000000",
          "2021-03-16T00:00:00.000000000",
          "2021-03-17T00:00:00.000000000",
          "2021-03-18T00:00:00.000000000",
          "2021-03-19T00:00:00.000000000",
          "2021-03-20T00:00:00.000000000",
          "2021-03-21T00:00:00.000000000",
          "2021-03-22T00:00:00.000000000",
          "2021-03-23T00:00:00.000000000",
          "2021-03-24T00:00:00.000000000",
          "2021-03-25T00:00:00.000000000",
          "2021-03-26T00:00:00.000000000",
          "2021-03-27T00:00:00.000000000",
          "2021-03-28T00:00:00.000000000",
          "2021-03-29T00:00:00.000000000",
          "2021-03-30T00:00:00.000000000",
          "2021-03-31T00:00:00.000000000",
          "2021-04-01T00:00:00.000000000",
          "2021-04-02T00:00:00.000000000",
          "2021-04-03T00:00:00.000000000",
          "2021-04-04T00:00:00.000000000",
          "2021-04-05T00:00:00.000000000",
          "2021-04-06T00:00:00.000000000",
          "2021-04-07T00:00:00.000000000",
          "2021-04-08T00:00:00.000000000",
          "2021-04-09T00:00:00.000000000",
          "2021-04-10T00:00:00.000000000",
          "2021-04-11T00:00:00.000000000",
          "2021-04-12T00:00:00.000000000",
          "2021-04-13T00:00:00.000000000",
          "2021-04-14T00:00:00.000000000",
          "2021-04-15T00:00:00.000000000",
          "2021-04-16T00:00:00.000000000",
          "2021-04-17T00:00:00.000000000",
          "2021-04-18T00:00:00.000000000",
          "2021-04-19T00:00:00.000000000",
          "2021-04-20T00:00:00.000000000",
          "2021-04-21T00:00:00.000000000",
          "2021-04-22T00:00:00.000000000",
          "2021-04-23T00:00:00.000000000",
          "2021-04-24T00:00:00.000000000",
          "2021-04-25T00:00:00.000000000",
          "2021-04-26T00:00:00.000000000",
          "2021-04-27T00:00:00.000000000",
          "2021-04-28T00:00:00.000000000",
          "2021-04-29T00:00:00.000000000",
          "2021-04-30T00:00:00.000000000",
          "2021-05-01T00:00:00.000000000",
          "2021-05-02T00:00:00.000000000",
          "2021-05-03T00:00:00.000000000",
          "2021-05-04T00:00:00.000000000",
          "2021-05-05T00:00:00.000000000",
          "2021-05-06T00:00:00.000000000",
          "2021-05-07T00:00:00.000000000",
          "2021-05-08T00:00:00.000000000",
          "2021-05-09T00:00:00.000000000",
          "2021-05-10T00:00:00.000000000",
          "2021-05-11T00:00:00.000000000",
          "2021-05-12T00:00:00.000000000",
          "2021-05-13T00:00:00.000000000",
          "2021-05-14T00:00:00.000000000",
          "2021-05-15T00:00:00.000000000",
          "2021-05-16T00:00:00.000000000",
          "2021-05-17T00:00:00.000000000",
          "2021-05-18T00:00:00.000000000",
          "2021-05-19T00:00:00.000000000",
          "2021-05-20T00:00:00.000000000",
          "2021-05-21T00:00:00.000000000",
          "2021-05-22T00:00:00.000000000",
          "2021-05-23T00:00:00.000000000",
          "2021-05-24T00:00:00.000000000",
          "2021-05-25T00:00:00.000000000",
          "2021-05-26T00:00:00.000000000",
          "2021-05-27T00:00:00.000000000",
          "2021-05-28T00:00:00.000000000",
          "2021-05-29T00:00:00.000000000",
          "2021-05-30T00:00:00.000000000",
          "2021-05-31T00:00:00.000000000",
          "2021-06-01T00:00:00.000000000",
          "2021-06-02T00:00:00.000000000",
          "2021-06-03T00:00:00.000000000",
          "2021-06-04T00:00:00.000000000",
          "2021-06-05T00:00:00.000000000",
          "2021-06-06T00:00:00.000000000",
          "2021-06-07T00:00:00.000000000",
          "2021-06-08T00:00:00.000000000",
          "2021-06-09T00:00:00.000000000",
          "2021-06-10T00:00:00.000000000",
          "2021-06-11T00:00:00.000000000",
          "2021-06-12T00:00:00.000000000",
          "2021-06-13T00:00:00.000000000",
          "2021-06-14T00:00:00.000000000",
          "2021-06-15T00:00:00.000000000",
          "2021-06-16T00:00:00.000000000",
          "2021-06-17T00:00:00.000000000",
          "2021-06-18T00:00:00.000000000",
          "2021-06-19T00:00:00.000000000",
          "2021-06-20T00:00:00.000000000",
          "2021-06-21T00:00:00.000000000",
          "2021-06-22T00:00:00.000000000",
          "2021-06-23T00:00:00.000000000",
          "2021-06-24T00:00:00.000000000",
          "2021-06-25T00:00:00.000000000",
          "2021-06-26T00:00:00.000000000",
          "2021-06-27T00:00:00.000000000",
          "2021-06-28T00:00:00.000000000",
          "2021-06-29T00:00:00.000000000",
          "2021-06-30T00:00:00.000000000",
          "2021-07-01T00:00:00.000000000",
          "2021-07-02T00:00:00.000000000",
          "2021-07-03T00:00:00.000000000",
          "2021-07-04T00:00:00.000000000",
          "2021-07-05T00:00:00.000000000",
          "2021-07-06T00:00:00.000000000",
          "2021-07-07T00:00:00.000000000",
          "2021-07-08T00:00:00.000000000",
          "2021-07-09T00:00:00.000000000",
          "2021-07-10T00:00:00.000000000",
          "2021-07-11T00:00:00.000000000",
          "2021-07-12T00:00:00.000000000",
          "2021-07-13T00:00:00.000000000",
          "2021-07-14T00:00:00.000000000",
          "2021-07-15T00:00:00.000000000",
          "2021-07-16T00:00:00.000000000",
          "2021-07-17T00:00:00.000000000",
          "2021-07-18T00:00:00.000000000",
          "2021-07-19T00:00:00.000000000",
          "2021-07-20T00:00:00.000000000",
          "2021-07-21T00:00:00.000000000",
          "2021-07-22T00:00:00.000000000",
          "2021-07-23T00:00:00.000000000",
          "2021-07-24T00:00:00.000000000",
          "2021-07-25T00:00:00.000000000",
          "2021-07-26T00:00:00.000000000",
          "2021-07-27T00:00:00.000000000",
          "2021-07-28T00:00:00.000000000",
          "2021-07-29T00:00:00.000000000",
          "2021-07-30T00:00:00.000000000",
          "2021-07-31T00:00:00.000000000",
          "2021-08-01T00:00:00.000000000",
          "2021-08-02T00:00:00.000000000",
          "2021-08-03T00:00:00.000000000",
          "2021-08-04T00:00:00.000000000",
          "2021-08-05T00:00:00.000000000",
          "2021-08-06T00:00:00.000000000",
          "2021-08-07T00:00:00.000000000",
          "2021-08-08T00:00:00.000000000",
          "2021-08-09T00:00:00.000000000",
          "2021-08-10T00:00:00.000000000",
          "2021-08-11T00:00:00.000000000",
          "2021-08-12T00:00:00.000000000",
          "2021-08-13T00:00:00.000000000",
          "2021-08-14T00:00:00.000000000",
          "2021-08-15T00:00:00.000000000",
          "2021-08-16T00:00:00.000000000",
          "2021-08-17T00:00:00.000000000",
          "2021-08-18T00:00:00.000000000",
          "2021-08-19T00:00:00.000000000",
          "2021-08-20T00:00:00.000000000",
          "2021-08-21T00:00:00.000000000",
          "2021-08-22T00:00:00.000000000",
          "2021-08-23T00:00:00.000000000",
          "2021-08-24T00:00:00.000000000",
          "2021-08-25T00:00:00.000000000",
          "2021-08-26T00:00:00.000000000",
          "2021-08-27T00:00:00.000000000",
          "2021-08-28T00:00:00.000000000",
          "2021-08-29T00:00:00.000000000",
          "2021-08-30T00:00:00.000000000",
          "2021-08-31T00:00:00.000000000",
          "2021-09-01T00:00:00.000000000",
          "2021-09-02T00:00:00.000000000",
          "2021-09-03T00:00:00.000000000",
          "2021-09-04T00:00:00.000000000",
          "2021-09-05T00:00:00.000000000",
          "2021-09-06T00:00:00.000000000",
          "2021-09-07T00:00:00.000000000",
          "2021-09-08T00:00:00.000000000",
          "2021-09-09T00:00:00.000000000",
          "2021-09-10T00:00:00.000000000",
          "2021-09-11T00:00:00.000000000",
          "2021-09-12T00:00:00.000000000",
          "2021-09-13T00:00:00.000000000",
          "2021-09-14T00:00:00.000000000",
          "2021-09-15T00:00:00.000000000",
          "2021-09-16T00:00:00.000000000",
          "2021-09-17T00:00:00.000000000",
          "2021-09-18T00:00:00.000000000",
          "2021-09-19T00:00:00.000000000",
          "2021-09-20T00:00:00.000000000",
          "2021-09-21T00:00:00.000000000",
          "2021-09-22T00:00:00.000000000",
          "2021-09-23T00:00:00.000000000",
          "2021-09-24T00:00:00.000000000",
          "2021-09-25T00:00:00.000000000",
          "2021-09-26T00:00:00.000000000",
          "2021-09-27T00:00:00.000000000",
          "2021-09-28T00:00:00.000000000",
          "2021-09-29T00:00:00.000000000",
          "2021-09-30T00:00:00.000000000",
          "2021-10-01T00:00:00.000000000",
          "2021-10-02T00:00:00.000000000",
          "2021-10-03T00:00:00.000000000",
          "2021-10-04T00:00:00.000000000",
          "2021-10-05T00:00:00.000000000",
          "2021-10-06T00:00:00.000000000",
          "2021-10-07T00:00:00.000000000",
          "2021-10-08T00:00:00.000000000",
          "2021-10-09T00:00:00.000000000",
          "2021-10-10T00:00:00.000000000",
          "2021-10-11T00:00:00.000000000",
          "2021-10-12T00:00:00.000000000",
          "2021-10-13T00:00:00.000000000",
          "2021-10-14T00:00:00.000000000",
          "2021-10-15T00:00:00.000000000",
          "2021-10-16T00:00:00.000000000",
          "2021-10-17T00:00:00.000000000",
          "2021-10-18T00:00:00.000000000",
          "2021-10-19T00:00:00.000000000",
          "2021-10-20T00:00:00.000000000",
          "2021-10-21T00:00:00.000000000",
          "2021-10-22T00:00:00.000000000",
          "2021-10-23T00:00:00.000000000",
          "2021-10-24T00:00:00.000000000",
          "2021-10-25T00:00:00.000000000",
          "2021-10-26T00:00:00.000000000",
          "2021-10-27T00:00:00.000000000",
          "2021-10-28T00:00:00.000000000",
          "2021-10-29T00:00:00.000000000",
          "2021-10-30T00:00:00.000000000",
          "2021-10-31T00:00:00.000000000",
          "2021-11-01T00:00:00.000000000",
          "2021-11-02T00:00:00.000000000",
          "2021-11-03T00:00:00.000000000",
          "2021-11-04T00:00:00.000000000",
          "2021-11-05T00:00:00.000000000",
          "2021-11-06T00:00:00.000000000",
          "2021-11-07T00:00:00.000000000",
          "2021-11-08T00:00:00.000000000",
          "2021-11-09T00:00:00.000000000",
          "2021-11-10T00:00:00.000000000",
          "2021-11-11T00:00:00.000000000",
          "2021-11-12T00:00:00.000000000",
          "2021-11-13T00:00:00.000000000",
          "2021-11-14T00:00:00.000000000",
          "2021-11-15T00:00:00.000000000",
          "2021-11-16T00:00:00.000000000",
          "2021-11-17T00:00:00.000000000",
          "2021-11-18T00:00:00.000000000",
          "2021-11-19T00:00:00.000000000",
          "2021-11-20T00:00:00.000000000",
          "2021-11-21T00:00:00.000000000",
          "2021-11-22T00:00:00.000000000",
          "2021-11-23T00:00:00.000000000",
          "2021-11-24T00:00:00.000000000",
          "2021-11-25T00:00:00.000000000",
          "2021-11-26T00:00:00.000000000",
          "2021-11-27T00:00:00.000000000",
          "2021-11-28T00:00:00.000000000",
          "2021-11-29T00:00:00.000000000",
          "2021-11-30T00:00:00.000000000",
          "2021-12-01T00:00:00.000000000",
          "2021-12-02T00:00:00.000000000",
          "2021-12-03T00:00:00.000000000",
          "2021-12-04T00:00:00.000000000",
          "2021-12-05T00:00:00.000000000",
          "2021-12-06T00:00:00.000000000",
          "2021-12-07T00:00:00.000000000",
          "2021-12-08T00:00:00.000000000",
          "2021-12-09T00:00:00.000000000",
          "2021-12-10T00:00:00.000000000",
          "2021-12-11T00:00:00.000000000",
          "2021-12-12T00:00:00.000000000",
          "2021-12-13T00:00:00.000000000",
          "2021-12-14T00:00:00.000000000",
          "2021-12-15T00:00:00.000000000",
          "2021-12-16T00:00:00.000000000",
          "2021-12-17T00:00:00.000000000",
          "2021-12-18T00:00:00.000000000",
          "2021-12-19T00:00:00.000000000",
          "2021-12-20T00:00:00.000000000",
          "2021-12-21T00:00:00.000000000",
          "2021-12-22T00:00:00.000000000",
          "2021-12-23T00:00:00.000000000",
          "2021-12-24T00:00:00.000000000",
          "2021-12-25T00:00:00.000000000",
          "2021-12-26T00:00:00.000000000",
          "2021-12-27T00:00:00.000000000",
          "2021-12-28T00:00:00.000000000",
          "2021-12-29T00:00:00.000000000",
          "2021-12-30T00:00:00.000000000",
          "2021-12-31T00:00:00.000000000",
          "2022-01-01T00:00:00.000000000",
          "2022-01-02T00:00:00.000000000",
          "2022-01-03T00:00:00.000000000",
          "2022-01-04T00:00:00.000000000",
          "2022-01-05T00:00:00.000000000",
          "2022-01-06T00:00:00.000000000",
          "2022-01-07T00:00:00.000000000",
          "2022-01-08T00:00:00.000000000",
          "2022-01-09T00:00:00.000000000",
          "2022-01-10T00:00:00.000000000",
          "2022-01-11T00:00:00.000000000",
          "2022-01-12T00:00:00.000000000",
          "2022-01-13T00:00:00.000000000",
          "2022-01-14T00:00:00.000000000",
          "2022-01-15T00:00:00.000000000",
          "2022-01-16T00:00:00.000000000",
          "2022-01-17T00:00:00.000000000",
          "2022-01-18T00:00:00.000000000",
          "2022-01-19T00:00:00.000000000",
          "2022-01-20T00:00:00.000000000",
          "2022-01-21T00:00:00.000000000",
          "2022-01-22T00:00:00.000000000",
          "2022-01-23T00:00:00.000000000",
          "2022-01-24T00:00:00.000000000",
          "2022-01-25T00:00:00.000000000",
          "2022-01-26T00:00:00.000000000",
          "2022-01-27T00:00:00.000000000",
          "2022-01-28T00:00:00.000000000",
          "2022-01-29T00:00:00.000000000",
          "2022-01-30T00:00:00.000000000",
          "2022-01-31T00:00:00.000000000",
          "2022-02-01T00:00:00.000000000",
          "2022-02-02T00:00:00.000000000",
          "2022-02-03T00:00:00.000000000",
          "2022-02-04T00:00:00.000000000",
          "2022-02-05T00:00:00.000000000",
          "2022-02-06T00:00:00.000000000",
          "2022-02-07T00:00:00.000000000",
          "2022-02-08T00:00:00.000000000",
          "2022-02-09T00:00:00.000000000",
          "2022-02-10T00:00:00.000000000",
          "2022-02-11T00:00:00.000000000",
          "2022-02-12T00:00:00.000000000",
          "2022-02-13T00:00:00.000000000",
          "2022-02-14T00:00:00.000000000",
          "2022-02-15T00:00:00.000000000",
          "2022-02-16T00:00:00.000000000",
          "2022-02-17T00:00:00.000000000",
          "2022-02-18T00:00:00.000000000",
          "2022-02-19T00:00:00.000000000",
          "2022-02-20T00:00:00.000000000",
          "2022-02-21T00:00:00.000000000",
          "2022-02-22T00:00:00.000000000",
          "2022-02-23T00:00:00.000000000",
          "2022-02-24T00:00:00.000000000",
          "2022-02-25T00:00:00.000000000",
          "2022-02-26T00:00:00.000000000",
          "2022-02-27T00:00:00.000000000",
          "2022-02-28T00:00:00.000000000",
          "2022-03-01T00:00:00.000000000",
          "2022-03-02T00:00:00.000000000",
          "2022-03-03T00:00:00.000000000",
          "2022-03-04T00:00:00.000000000",
          "2022-03-05T00:00:00.000000000",
          "2022-03-06T00:00:00.000000000",
          "2022-03-07T00:00:00.000000000",
          "2022-03-08T00:00:00.000000000",
          "2022-03-09T00:00:00.000000000",
          "2022-03-10T00:00:00.000000000",
          "2022-03-11T00:00:00.000000000",
          "2022-03-12T00:00:00.000000000",
          "2022-03-13T00:00:00.000000000",
          "2022-03-14T00:00:00.000000000",
          "2022-03-15T00:00:00.000000000",
          "2022-03-16T00:00:00.000000000",
          "2022-03-17T00:00:00.000000000",
          "2022-03-18T00:00:00.000000000",
          "2022-03-19T00:00:00.000000000",
          "2022-03-20T00:00:00.000000000",
          "2022-03-21T00:00:00.000000000",
          "2022-03-22T00:00:00.000000000",
          "2022-03-23T00:00:00.000000000",
          "2022-03-24T00:00:00.000000000",
          "2022-03-25T00:00:00.000000000",
          "2022-03-26T00:00:00.000000000",
          "2022-03-27T00:00:00.000000000",
          "2022-03-28T00:00:00.000000000",
          "2022-03-29T00:00:00.000000000",
          "2022-03-30T00:00:00.000000000",
          "2022-03-31T00:00:00.000000000",
          "2022-04-01T00:00:00.000000000",
          "2022-04-02T00:00:00.000000000",
          "2022-04-03T00:00:00.000000000",
          "2022-04-04T00:00:00.000000000",
          "2022-04-05T00:00:00.000000000",
          "2022-04-06T00:00:00.000000000",
          "2022-04-07T00:00:00.000000000",
          "2022-04-08T00:00:00.000000000",
          "2022-04-09T00:00:00.000000000",
          "2022-04-10T00:00:00.000000000",
          "2022-04-11T00:00:00.000000000",
          "2022-04-12T00:00:00.000000000",
          "2022-04-13T00:00:00.000000000",
          "2022-04-14T00:00:00.000000000",
          "2022-04-15T00:00:00.000000000",
          "2022-04-16T00:00:00.000000000",
          "2022-04-17T00:00:00.000000000",
          "2022-04-18T00:00:00.000000000",
          "2022-04-19T00:00:00.000000000",
          "2022-04-20T00:00:00.000000000",
          "2022-04-21T00:00:00.000000000",
          "2022-04-22T00:00:00.000000000",
          "2022-04-23T00:00:00.000000000",
          "2022-04-24T00:00:00.000000000",
          "2022-04-25T00:00:00.000000000",
          "2022-04-26T00:00:00.000000000",
          "2022-04-27T00:00:00.000000000",
          "2022-04-28T00:00:00.000000000",
          "2022-04-29T00:00:00.000000000",
          "2022-04-30T00:00:00.000000000",
          "2022-05-01T00:00:00.000000000",
          "2022-05-02T00:00:00.000000000",
          "2022-05-03T00:00:00.000000000",
          "2022-05-04T00:00:00.000000000",
          "2022-05-05T00:00:00.000000000",
          "2022-05-06T00:00:00.000000000",
          "2022-05-07T00:00:00.000000000",
          "2022-05-08T00:00:00.000000000",
          "2022-05-09T00:00:00.000000000",
          "2022-05-10T00:00:00.000000000",
          "2022-05-11T00:00:00.000000000",
          "2022-05-12T00:00:00.000000000",
          "2022-05-13T00:00:00.000000000",
          "2022-05-14T00:00:00.000000000",
          "2022-05-15T00:00:00.000000000",
          "2022-05-16T00:00:00.000000000",
          "2022-05-17T00:00:00.000000000",
          "2022-05-18T00:00:00.000000000",
          "2022-05-19T00:00:00.000000000",
          "2022-05-20T00:00:00.000000000",
          "2022-05-21T00:00:00.000000000",
          "2022-05-22T00:00:00.000000000",
          "2022-05-23T00:00:00.000000000",
          "2022-05-24T00:00:00.000000000",
          "2022-05-25T00:00:00.000000000",
          "2022-05-26T00:00:00.000000000",
          "2022-05-27T00:00:00.000000000",
          "2022-05-28T00:00:00.000000000",
          "2022-05-29T00:00:00.000000000",
          "2022-05-30T00:00:00.000000000",
          "2022-05-31T00:00:00.000000000",
          "2022-06-01T00:00:00.000000000",
          "2022-06-02T00:00:00.000000000",
          "2022-06-03T00:00:00.000000000",
          "2022-06-04T00:00:00.000000000",
          "2022-06-05T00:00:00.000000000",
          "2022-06-06T00:00:00.000000000",
          "2022-06-07T00:00:00.000000000",
          "2022-06-08T00:00:00.000000000",
          "2022-06-09T00:00:00.000000000",
          "2022-06-10T00:00:00.000000000",
          "2022-06-11T00:00:00.000000000",
          "2022-06-12T00:00:00.000000000",
          "2022-06-13T00:00:00.000000000",
          "2022-06-14T00:00:00.000000000",
          "2022-06-15T00:00:00.000000000",
          "2022-06-16T00:00:00.000000000",
          "2022-06-17T00:00:00.000000000",
          "2022-06-18T00:00:00.000000000",
          "2022-06-19T00:00:00.000000000",
          "2022-06-20T00:00:00.000000000",
          "2022-06-21T00:00:00.000000000",
          "2022-06-22T00:00:00.000000000",
          "2022-06-23T00:00:00.000000000",
          "2022-06-24T00:00:00.000000000",
          "2022-06-25T00:00:00.000000000",
          "2022-06-26T00:00:00.000000000",
          "2022-06-27T00:00:00.000000000",
          "2022-06-28T00:00:00.000000000",
          "2022-06-29T00:00:00.000000000",
          "2022-06-30T00:00:00.000000000",
          "2022-07-01T00:00:00.000000000",
          "2022-07-02T00:00:00.000000000",
          "2022-07-03T00:00:00.000000000",
          "2022-07-04T00:00:00.000000000",
          "2022-07-05T00:00:00.000000000",
          "2022-07-06T00:00:00.000000000",
          "2022-07-07T00:00:00.000000000",
          "2022-07-08T00:00:00.000000000",
          "2022-07-09T00:00:00.000000000",
          "2022-07-10T00:00:00.000000000",
          "2022-07-11T00:00:00.000000000",
          "2022-07-12T00:00:00.000000000",
          "2022-07-13T00:00:00.000000000",
          "2022-07-14T00:00:00.000000000",
          "2022-07-15T00:00:00.000000000",
          "2022-07-16T00:00:00.000000000",
          "2022-07-17T00:00:00.000000000",
          "2022-07-18T00:00:00.000000000",
          "2022-07-19T00:00:00.000000000",
          "2022-07-20T00:00:00.000000000",
          "2022-07-21T00:00:00.000000000",
          "2022-07-22T00:00:00.000000000",
          "2022-07-23T00:00:00.000000000",
          "2022-07-24T00:00:00.000000000",
          "2022-07-25T00:00:00.000000000",
          "2022-07-26T00:00:00.000000000",
          "2022-07-27T00:00:00.000000000",
          "2022-07-28T00:00:00.000000000",
          "2022-07-29T00:00:00.000000000",
          "2022-07-30T00:00:00.000000000",
          "2022-07-31T00:00:00.000000000",
          "2022-08-01T00:00:00.000000000",
          "2022-08-02T00:00:00.000000000",
          "2022-08-03T00:00:00.000000000",
          "2022-08-04T00:00:00.000000000",
          "2022-08-05T00:00:00.000000000",
          "2022-08-06T00:00:00.000000000",
          "2022-08-07T00:00:00.000000000",
          "2022-08-08T00:00:00.000000000",
          "2022-08-09T00:00:00.000000000",
          "2022-08-10T00:00:00.000000000",
          "2022-08-11T00:00:00.000000000",
          "2022-08-12T00:00:00.000000000",
          "2022-08-13T00:00:00.000000000",
          "2022-08-14T00:00:00.000000000",
          "2022-08-15T00:00:00.000000000",
          "2022-08-16T00:00:00.000000000",
          "2022-08-17T00:00:00.000000000",
          "2022-08-18T00:00:00.000000000",
          "2022-08-19T00:00:00.000000000",
          "2022-08-20T00:00:00.000000000",
          "2022-08-21T00:00:00.000000000",
          "2022-08-22T00:00:00.000000000",
          "2022-08-23T00:00:00.000000000",
          "2022-08-24T00:00:00.000000000",
          "2022-08-25T00:00:00.000000000",
          "2022-08-26T00:00:00.000000000",
          "2022-08-27T00:00:00.000000000",
          "2022-08-28T00:00:00.000000000",
          "2022-08-29T00:00:00.000000000",
          "2022-08-30T00:00:00.000000000",
          "2022-08-31T00:00:00.000000000",
          "2022-09-01T00:00:00.000000000",
          "2022-09-02T00:00:00.000000000",
          "2022-09-03T00:00:00.000000000",
          "2022-09-04T00:00:00.000000000",
          "2022-09-05T00:00:00.000000000",
          "2022-09-06T00:00:00.000000000",
          "2022-09-07T00:00:00.000000000",
          "2022-09-08T00:00:00.000000000",
          "2022-09-09T00:00:00.000000000",
          "2022-09-10T00:00:00.000000000",
          "2022-09-11T00:00:00.000000000",
          "2022-09-12T00:00:00.000000000",
          "2022-09-13T00:00:00.000000000",
          "2022-09-14T00:00:00.000000000",
          "2022-09-15T00:00:00.000000000",
          "2022-09-16T00:00:00.000000000",
          "2022-09-17T00:00:00.000000000",
          "2022-09-18T00:00:00.000000000",
          "2022-09-19T00:00:00.000000000",
          "2022-09-20T00:00:00.000000000",
          "2022-09-21T00:00:00.000000000",
          "2022-09-22T00:00:00.000000000",
          "2022-09-23T00:00:00.000000000",
          "2022-09-24T00:00:00.000000000",
          "2022-09-25T00:00:00.000000000",
          "2022-09-26T00:00:00.000000000",
          "2022-09-27T00:00:00.000000000",
          "2022-09-28T00:00:00.000000000",
          "2022-09-29T00:00:00.000000000",
          "2022-09-30T00:00:00.000000000",
          "2022-10-01T00:00:00.000000000",
          "2022-10-02T00:00:00.000000000",
          "2022-10-03T00:00:00.000000000",
          "2022-10-04T00:00:00.000000000",
          "2022-10-05T00:00:00.000000000",
          "2022-10-06T00:00:00.000000000",
          "2022-10-07T00:00:00.000000000",
          "2022-10-08T00:00:00.000000000",
          "2022-10-09T00:00:00.000000000",
          "2022-10-10T00:00:00.000000000",
          "2022-10-11T00:00:00.000000000",
          "2022-10-12T00:00:00.000000000",
          "2022-10-13T00:00:00.000000000",
          "2022-10-14T00:00:00.000000000",
          "2022-10-15T00:00:00.000000000",
          "2022-10-16T00:00:00.000000000",
          "2022-10-17T00:00:00.000000000",
          "2022-10-18T00:00:00.000000000",
          "2022-10-19T00:00:00.000000000",
          "2022-10-20T00:00:00.000000000",
          "2022-10-21T00:00:00.000000000",
          "2022-10-22T00:00:00.000000000",
          "2022-10-23T00:00:00.000000000",
          "2022-10-24T00:00:00.000000000",
          "2022-10-25T00:00:00.000000000",
          "2022-10-26T00:00:00.000000000",
          "2022-10-27T00:00:00.000000000",
          "2022-10-28T00:00:00.000000000",
          "2022-10-29T00:00:00.000000000",
          "2022-10-30T00:00:00.000000000",
          "2022-10-31T00:00:00.000000000",
          "2022-11-01T00:00:00.000000000",
          "2022-11-02T00:00:00.000000000",
          "2022-11-03T00:00:00.000000000",
          "2022-11-04T00:00:00.000000000",
          "2022-11-05T00:00:00.000000000",
          "2022-11-06T00:00:00.000000000",
          "2022-11-07T00:00:00.000000000",
          "2022-11-08T00:00:00.000000000",
          "2022-11-09T00:00:00.000000000",
          "2022-11-10T00:00:00.000000000",
          "2022-11-11T00:00:00.000000000",
          "2022-11-12T00:00:00.000000000",
          "2022-11-13T00:00:00.000000000",
          "2022-11-14T00:00:00.000000000",
          "2022-11-15T00:00:00.000000000",
          "2022-11-16T00:00:00.000000000",
          "2022-11-17T00:00:00.000000000",
          "2022-11-18T00:00:00.000000000",
          "2022-11-19T00:00:00.000000000",
          "2022-11-20T00:00:00.000000000",
          "2022-11-21T00:00:00.000000000",
          "2022-11-22T00:00:00.000000000",
          "2022-11-23T00:00:00.000000000",
          "2022-11-24T00:00:00.000000000",
          "2022-11-25T00:00:00.000000000",
          "2022-11-26T00:00:00.000000000",
          "2022-11-27T00:00:00.000000000",
          "2022-11-28T00:00:00.000000000",
          "2022-11-29T00:00:00.000000000",
          "2022-11-30T00:00:00.000000000",
          "2022-12-01T00:00:00.000000000",
          "2022-12-02T00:00:00.000000000",
          "2022-12-03T00:00:00.000000000",
          "2022-12-04T00:00:00.000000000",
          "2022-12-05T00:00:00.000000000",
          "2022-12-06T00:00:00.000000000",
          "2022-12-07T00:00:00.000000000",
          "2022-12-08T00:00:00.000000000",
          "2022-12-09T00:00:00.000000000",
          "2022-12-10T00:00:00.000000000",
          "2022-12-11T00:00:00.000000000",
          "2022-12-12T00:00:00.000000000",
          "2022-12-13T00:00:00.000000000",
          "2022-12-14T00:00:00.000000000",
          "2022-12-15T00:00:00.000000000",
          "2022-12-16T00:00:00.000000000",
          "2022-12-17T00:00:00.000000000",
          "2022-12-18T00:00:00.000000000",
          "2022-12-19T00:00:00.000000000",
          "2022-12-20T00:00:00.000000000",
          "2022-12-21T00:00:00.000000000",
          "2022-12-22T00:00:00.000000000",
          "2022-12-23T00:00:00.000000000",
          "2022-12-24T00:00:00.000000000",
          "2022-12-25T00:00:00.000000000",
          "2022-12-26T00:00:00.000000000",
          "2022-12-27T00:00:00.000000000",
          "2022-12-28T00:00:00.000000000",
          "2022-12-29T00:00:00.000000000",
          "2022-12-30T00:00:00.000000000",
          "2022-12-31T00:00:00.000000000",
          "2023-01-01T00:00:00.000000000",
          "2023-01-02T00:00:00.000000000",
          "2023-01-03T00:00:00.000000000",
          "2023-01-04T00:00:00.000000000",
          "2023-01-05T00:00:00.000000000",
          "2023-01-06T00:00:00.000000000",
          "2023-01-07T00:00:00.000000000",
          "2023-01-08T00:00:00.000000000",
          "2023-01-09T00:00:00.000000000",
          "2023-01-10T00:00:00.000000000",
          "2023-01-11T00:00:00.000000000",
          "2023-01-12T00:00:00.000000000",
          "2023-01-13T00:00:00.000000000",
          "2023-01-14T00:00:00.000000000",
          "2023-01-15T00:00:00.000000000",
          "2023-01-16T00:00:00.000000000",
          "2023-01-17T00:00:00.000000000",
          "2023-01-18T00:00:00.000000000",
          "2023-01-19T00:00:00.000000000",
          "2023-01-20T00:00:00.000000000",
          "2023-01-21T00:00:00.000000000",
          "2023-01-22T00:00:00.000000000",
          "2023-01-23T00:00:00.000000000",
          "2023-01-24T00:00:00.000000000",
          "2023-01-25T00:00:00.000000000",
          "2023-01-26T00:00:00.000000000",
          "2023-01-27T00:00:00.000000000",
          "2023-01-28T00:00:00.000000000",
          "2023-01-29T00:00:00.000000000",
          "2023-01-30T00:00:00.000000000",
          "2023-01-31T00:00:00.000000000",
          "2023-02-01T00:00:00.000000000",
          "2023-02-02T00:00:00.000000000",
          "2023-02-03T00:00:00.000000000",
          "2023-02-04T00:00:00.000000000",
          "2023-02-05T00:00:00.000000000",
          "2023-02-06T00:00:00.000000000",
          "2023-02-07T00:00:00.000000000",
          "2023-02-08T00:00:00.000000000",
          "2023-02-09T00:00:00.000000000",
          "2023-02-10T00:00:00.000000000",
          "2023-02-11T00:00:00.000000000",
          "2023-02-12T00:00:00.000000000",
          "2023-02-13T00:00:00.000000000",
          "2023-02-14T00:00:00.000000000",
          "2023-02-15T00:00:00.000000000",
          "2023-02-16T00:00:00.000000000",
          "2023-02-17T00:00:00.000000000",
          "2023-02-18T00:00:00.000000000",
          "2023-02-19T00:00:00.000000000",
          "2023-02-20T00:00:00.000000000",
          "2023-02-21T00:00:00.000000000",
          "2023-02-22T00:00:00.000000000",
          "2023-02-23T00:00:00.000000000",
          "2023-02-24T00:00:00.000000000",
          "2023-02-25T00:00:00.000000000",
          "2023-02-26T00:00:00.000000000",
          "2023-02-27T00:00:00.000000000",
          "2023-02-28T00:00:00.000000000",
          "2023-03-01T00:00:00.000000000",
          "2023-03-02T00:00:00.000000000",
          "2023-03-03T00:00:00.000000000",
          "2023-03-04T00:00:00.000000000",
          "2023-03-05T00:00:00.000000000",
          "2023-03-06T00:00:00.000000000",
          "2023-03-07T00:00:00.000000000",
          "2023-03-08T00:00:00.000000000",
          "2023-03-09T00:00:00.000000000",
          "2023-03-10T00:00:00.000000000",
          "2023-03-11T00:00:00.000000000",
          "2023-03-12T00:00:00.000000000",
          "2023-03-13T00:00:00.000000000",
          "2023-03-14T00:00:00.000000000",
          "2023-03-15T00:00:00.000000000",
          "2023-03-16T00:00:00.000000000",
          "2023-03-17T00:00:00.000000000",
          "2023-03-18T00:00:00.000000000",
          "2023-03-19T00:00:00.000000000",
          "2023-03-20T00:00:00.000000000",
          "2023-03-21T00:00:00.000000000",
          "2023-03-22T00:00:00.000000000",
          "2023-03-23T00:00:00.000000000",
          "2023-03-24T00:00:00.000000000",
          "2023-03-25T00:00:00.000000000",
          "2023-03-26T00:00:00.000000000",
          "2023-03-27T00:00:00.000000000",
          "2023-03-28T00:00:00.000000000",
          "2023-03-29T00:00:00.000000000",
          "2023-03-30T00:00:00.000000000",
          "2023-03-31T00:00:00.000000000",
          "2023-04-01T00:00:00.000000000",
          "2023-04-02T00:00:00.000000000",
          "2023-04-03T00:00:00.000000000",
          "2023-04-04T00:00:00.000000000",
          "2023-04-05T00:00:00.000000000",
          "2023-04-06T00:00:00.000000000",
          "2023-04-07T00:00:00.000000000",
          "2023-04-08T00:00:00.000000000",
          "2023-04-09T00:00:00.000000000",
          "2023-04-10T00:00:00.000000000",
          "2023-04-11T00:00:00.000000000",
          "2023-04-12T00:00:00.000000000",
          "2023-04-13T00:00:00.000000000",
          "2023-04-14T00:00:00.000000000",
          "2023-04-15T00:00:00.000000000",
          "2023-04-16T00:00:00.000000000",
          "2023-04-17T00:00:00.000000000",
          "2023-04-18T00:00:00.000000000",
          "2023-04-19T00:00:00.000000000",
          "2023-04-20T00:00:00.000000000",
          "2023-04-21T00:00:00.000000000",
          "2023-04-22T00:00:00.000000000",
          "2023-04-23T00:00:00.000000000",
          "2023-04-24T00:00:00.000000000",
          "2023-04-25T00:00:00.000000000",
          "2023-04-26T00:00:00.000000000",
          "2023-04-27T00:00:00.000000000",
          "2023-04-28T00:00:00.000000000",
          "2023-04-29T00:00:00.000000000",
          "2023-04-30T00:00:00.000000000",
          "2023-05-01T00:00:00.000000000",
          "2023-05-02T00:00:00.000000000",
          "2023-05-03T00:00:00.000000000",
          "2023-05-04T00:00:00.000000000",
          "2023-05-05T00:00:00.000000000",
          "2023-05-06T00:00:00.000000000",
          "2023-05-07T00:00:00.000000000",
          "2023-05-08T00:00:00.000000000",
          "2023-05-09T00:00:00.000000000"
         ],
         "y": {
          "bdata": "AAAAAAAAAAAAAAAAAAAAAAAAAAAAAAAAAAAAAAAAAAAAAAAAAAAAAAAAAAAAAAAAAAAAAAAAAAAAAAAAAAAAAAAAAAAAAAAAexSuR+F6hD97FK5H4XqEP3sUrkfheoQ/exSuR+F6hD97FK5H4XqEP3sUrkfheoQ/exSuR+F6hD97FK5H4XqEP3sUrkfheoQ/exSuR+F6hD97FK5H4XqUP3sUrkfhepQ/exSuR+F6lD+4HoXrUbieP7gehetRuK4/KVyPwvUovD+amZmZmZnJP9ejcD0K19M/ZmZmZmZm1j+uR+F6FK7XPxSuR+F6FN4/7FG4HoXr4T97FK5H4XrkPxSuR+F6FOY/CtejcD0K5z8AAAAAAADoP1K4HoXrUeg/j8L1KFyP6j8UrkfhehTuP/YoXI/C9fA/ZmZmZmZm8j9cj8L1KFzzPylcj8L1KPQ/pHA9Ctej9D/hehSuR+H2P8P1KFyPwvk/9ihcj8L1/D+uR+F6FK7/PwrXo3A9CgFAmpmZmZmZAUDsUbgehesBQFyPwvUoXANACtejcD0KBUAK16NwPQoHQEjhehSuRwlAmpmZmZmZC0CkcD0K16MMQArXo3A9Cg1AuB6F61G4DkBxPQrXo3AQQLgehetRuBFACtejcD0KE0BxPQrXo3AUQB+F61G4HhVAZmZmZmZmFUAUrkfhehQWQArXo3A9ChdAPQrXo3A9GEBmZmZmZmYZQMP1KFyPwhpAj8L1KFyPG0D2KFyPwvUbQOxRuB6F6xxAMzMzMzMzHkCuR+F6FK4fQClcj8L1qCBAAAAAAACAIUB7FK5H4fohQK5H4XoULiJAKVyPwvWoIkA9CtejcD0jQOxRuB6F6yNArkfhehSuJEB7FK5H4XolQAAAAAAAACZAuB6F61E4JkA9CtejcL0mQGZmZmZmZidArkfhehQuKECF61G4HgUpQPYoXI/C9SlAFK5H4XqUKkDXo3A9CtcqQFyPwvUoXCtAAAAAAAAALEAzMzMzM7MsQHE9CtejcC1ArkfhehQuLkAzMzMzM7MuQOxRuB6F6y5A7FG4HoVrL0CPwvUoXA8wQD0K16NwfTBAPQrXo3D9MEAK16NwPYoxQKRwPQrX4zFAj8L1KFwPMkBxPQrXo3AyQDMzMzMz8zJASOF6FK6HM0C4HoXrUTg0QIXrUbgexTRAH4XrUbgeNUB7FK5H4To1QLgehetRuDVAmpmZmZlZNkAK16NwPQo3QI/C9ShczzdAzczMzMyMOEDNzMzMzAw5QArXo3A9SjlAj8L1KFzPOUAUrkfhelQ6QClcj8L16DpAAAAAAACAO0AUrkfhehQ8QHE9CtejcDxAXI/C9SicPECPwvUoXA89QFyPwvUonD1AexSuR+E6PkCamZmZmdk+QK5H4XoUbj9ACtejcD3KP0BxPQrXo/A/QI/C9ShcL0BAFK5H4Xp0QEAAAAAAAMBAQM3MzMzMDEFAFK5H4XpUQUDhehSuR4FBQLgehetRmEFArkfhehTOQUAzMzMzMxNCQLgehetRWEJAH4XrUbieQkCkcD0K1+NCQK5H4XoUDkNAAAAAAAAgQ0DNzMzMzExDQIXrUbgehUNAPQrXo3C9Q0AzMzMzM/NDQOxRuB6FK0RAUrgehetRRECF61G4HmVEQOxRuB6Fi0RAmpmZmZm5REBmZmZmZuZEQBSuR+F6FEVApHA9CtdDRUDhehSuR2FFQI/C9Shcb0VA7FG4HoWLRUDNzMzMzKxFQM3MzMzMzEVAzczMzMzsRUAK16NwPQpGQHsUrkfhGkZAw/UoXI8iRkBI4XoUridGQGZmZmZmRkZA4XoUrkdhRkDhehSuR4FGQEjhehSup0ZApHA9CtfDRkBSuB6F69FGQI/C9Shc70ZAj8L1KFwPR0CPwvUoXC9HQI/C9ShcT0dAcT0K16NwR0ApXI/C9YhHQBSuR+F6lEdAzczMzMysR0BmZmZmZsZHQB+F61G43kdA9ihcj8L1R0DNzMzMzAxIQHsUrkfhGkhAw/UoXI8iSECuR+F6FC5IQAAAAAAAQEhAcT0K16NQSEDhehSuR2FIQDMzMzMzc0hAH4XrUbh+SECkcD0K14NIQHE9CtejkEhAH4XrUbieSEDsUbgehatIQLgehetRuEhAZmZmZmbGSECuR+F6FM5IQK5H4XoUzkhA16NwPQrXSECkcD0K1+NIQHE9Ctej8EhAXI/C9Sj8SEAK16NwPQpJQFK4HoXrEUlA9ihcj8IVSUAAAAAAACBJQOxRuB6FK0lA9ihcj8I1SUAAAAAAAEBJQOxRuB6FS0lAMzMzMzNTSUDXo3A9CldJQOF6FK5HYUlA7FG4HoVrSUD2KFyPwnVJQAAAAAAAgElACtejcD2KSUBSuB6F65FJQDMzMzMzk0lAXI/C9SicSUBmZmZmZqZJQHE9CtejsElAmpmZmZm5SUCF61G4HsVJQM3MzMzMzElAcT0K16PQSUCamZmZmdlJQKRwPQrX40lAzczMzMzsSUC4HoXrUfhJQKRwPQrXA0pA7FG4HoULSkCPwvUoXA9KQHsUrkfhGkpAZmZmZmYmSkBSuB6F6zFKQB+F61G4PkpAzczMzMxMSkDXo3A9CldKQD0K16NwXUpACtejcD1qSkC4HoXrUXhKQEjhehSuh0pA9ihcj8KVSkApXI/C9ahKQBSuR+F6tEpAexSuR+G6SkDsUbgehctKQHsUrkfh2kpA7FG4HoXrSkBcj8L1KPxKQFK4HoXrEUtAH4XrUbgeS0BmZmZmZiZLQNejcD0KN0tASOF6FK5HS0C4HoXrUVhLQEjhehSuZ0tAexSuR+F6S0CF61G4HoVLQM3MzMzMjEtAj8L1KFyPS0DD9Shcj6JLQFK4HoXrsUtA4XoUrkfBS0AUrkfhetRLQOF6FK5H4UtASOF6FK7nS0D2KFyPwvVLQIXrUbgeBUxAFK5H4XoUTECkcD0K1yNMQPYoXI/CNUxA4XoUrkdBTEBI4XoUrkdMQPYoXI/CVUxAw/UoXI9iTECPwvUoXG9MQFyPwvUofExAzczMzMyMTED2KFyPwpVMQHsUrkfhmkxApHA9CtejTECPwvUoXK9MQFyPwvUovExASOF6FK7HTEDXo3A9CtdMQB+F61G43kxApHA9CtfjTECuR+F6FO5MQLgehetR+ExAw/UoXI8CTUDNzMzMzAxNQLgehetRGE1AH4XrUbgeTUCkcD0K1yNNQOxRuB6FK01A9ihcj8I1TUAfhetRuD5NQEjhehSuR01AUrgehetRTUDXo3A9CldNQHsUrkfhWk1ApHA9CtdjTUAK16NwPWpNQFK4HoXrcU1AmpmZmZl5TUCkcD0K14NNQClcj8L1iE1A7FG4HoWLTUAzMzMzM5NNQFyPwvUonE1ApHA9CtejTUDsUbgehatNQPYoXI/CtU1AmpmZmZm5TUBcj8L1KLxNQKRwPQrXw01A7FG4HoXLTUAzMzMzM9NNQHsUrkfh2k1ApHA9CtfjTUBI4XoUrudNQArXo3A96k1AUrgehevxTUC4HoXrUfhNQB+F61G4/k1AhetRuB4FTkDNzMzMzAxOQHE9CtejEE5AMzMzMzMTTkCamZmZmRlOQAAAAAAAIE5AZmZmZmYmTkDNzMzMzCxOQBSuR+F6NE5AuB6F61E4TkB7FK5H4TpOQOF6FK5HQU5ASOF6FK5HTkCuR+F6FE5OQK5H4XoUTk5AFK5H4XpUTkA9CtejcF1OQMP1KFyPYk5AcT0K16NwTkAAAAAAAIBOQHE9CtejkE5AAAAAAACgTkAzMzMzM7NOQIXrUbgexU5AzczMzMzMTkCamZmZmdlOQGZmZmZm5k5AFK5H4Xr0TkDhehSuRwFPQFK4HoXrEU9AH4XrUbgeT0CkcD0K1yNPQK5H4XoULk9AmpmZmZk5T0CkcD0K10NPQArXo3A9Sk9AFK5H4XpUT0B7FK5H4VpPQB+F61G4Xk9AZmZmZmZmT0BxPQrXo3BPQJqZmZmZeU9A4XoUrkeBT0DD9Shcj4JPQMP1KFyPgk9AZmZmZmaGT0CPwvUoXI9PQLgehetRmE9Aw/UoXI+iT0AK16NwPapPQK5H4XoUrk9Aj8L1KFyvT0BSuB6F67FPQJqZmZmZuU9Aw/UoXI/CT0AK16NwPcpPQDMzMzMz009AXI/C9SjcT0CkcD0K1+NPQGZmZmZm5k9ArkfhehTuT0D2KFyPwvVPQD0K16Nw/U9Aw/UoXI8CUED2KFyPwgVQQEjhehSuB1BAKVyPwvUIUEDsUbgehQtQQI/C9ShcD1BAMzMzMzMTUEBmZmZmZhZQQJqZmZmZGVBAexSuR+EaUEBcj8L1KBxQQI/C9ShcH1BAMzMzMzMjUEBmZmZmZiZQQJqZmZmZKVBArkfhehQuUEAAAAAAADBQQOF6FK5HMVBAFK5H4Xo0UEBI4XoUrjdQQHsUrkfhOlBAPQrXo3A9UEDhehSuR0FQQKRwPQrXQ1BAhetRuB5FUEBI4XoUrkdQQArXo3A9SlBAPQrXo3BNUEAAAAAAAFBQQDMzMzMzU1BAhetRuB5VUEBmZmZmZlZQQLgehetRWFBACtejcD1aUEDNzMzMzFxQQB+F61G4XlBAUrgehethUEAzMzMzM2NQQKRwPQrXY1BA9ihcj8JlUEBI4XoUrmdQQJqZmZmZaVBAexSuR+FqUEA9CtejcG1QQB+F61G4blBAj8L1KFxvUEBxPQrXo3BQQFK4HoXrcVBAMzMzMzNzUECF61G4HnVQQGZmZmZmdlBASOF6FK53UEC4HoXrUXhQQClcj8L1eFBACtejcD16UEDsUbgehXtQQM3MzMzMfFBArkfhehR+UEAfhetRuH5QQI/C9Shcf1BAAAAAAACAUEDhehSuR4FQQMP1KFyPglBAMzMzMzODUEAUrkfheoRQQIXrUbgehVBA9ihcj8KFUEBmZmZmZoZQQNejcD0Kh1BAuB6F61GIUEApXI/C9YhQQArXo3A9ilBAexSuR+GKUEB7FK5H4YpQQOxRuB6Fi1BAzczMzMyMUEA9CtejcI1QQB+F61G4jlBAcT0K16OQUEDhehSuR5FQQFK4HoXrkVBAMzMzMzOTUEAUrkfhepRQQPYoXI/ClVBAZmZmZmaWUEC4HoXrUZhQQClcj8L1mFBAmpmZmZmZUEB7FK5H4ZpQQFyPwvUonFBAzczMzMycUECuR+F6FJ5QQI/C9Shcn1BAAAAAAACgUEAAAAAAAKBQQOF6FK5HoVBAw/UoXI+iUECkcD0K16NQQBSuR+F6pFBA9ihcj8KlUEBmZmZmZqZQQNejcD0Kp1BASOF6FK6nUEApXI/C9ahQQJqZmZmZqVBAexSuR+GqUEBcj8L1KKxQQM3MzMzMrFBAzczMzMysUEA9CtejcK1QQB+F61G4rlBAj8L1KFyvUEBxPQrXo7BQQOF6FK5HsVBAUrgeheuxUEBSuB6F67FQQDMzMzMzs1BApHA9CtezUECF61G4HrVQQPYoXI/CtVBA16NwPQq3UEBI4XoUrrdQQEjhehSut1BAuB6F61G4UECamZmZmblQQArXo3A9ulBA7FG4HoW7UEBcj8L1KLxQQM3MzMzMvFBAPQrXo3C9UECuR+F6FL5QQI/C9Shcv1BAAAAAAADAUEBxPQrXo8BQQFK4HoXrwVBAUrgehevBUEDD9Shcj8JQQMP1KFyPwlBAMzMzMzPDUEAUrkfhesRQQIXrUbgexVBA9ihcj8LFUEBmZmZmZsZQQGZmZmZmxlBA16NwPQrHUEBI4XoUrsdQQClcj8L1yFBAmpmZmZnJUEAK16NwPcpQQHsUrkfhylBAexSuR+HKUEDsUbgehctQQFyPwvUozFBAzczMzMzMUEA9CtejcM1QQK5H4XoUzlBAH4XrUbjOUEAfhetRuM5QQI/C9Shcz1BAAAAAAADQUEBxPQrXo9BQQOF6FK5H0VBAUrgehevRUEBSuB6F69FQQFK4HoXr0VBAw/UoXI/SUEAzMzMzM9NQQKRwPQrX01BAFK5H4XrUUECF61G4HtVQQIXrUbge1VBA9ihcj8LVUED2KFyPwtVQQGZmZmZm1lBA16NwPQrXUEBI4XoUrtdQQLgehetR2FBAuB6F61HYUEC4HoXrUdhQQClcj8L12FBAmpmZmZnZUEAK16NwPdpQQOxRuB6F21BAXI/C9SjcUEBcj8L1KNxQQM3MzMzM3FBAPQrXo3DdUECuR+F6FN5QQB+F61G43lBAAAAAAADgUEBxPQrXo+BQQOF6FK5H4VBAUrgehevhUEDD9Shcj+JQQDMzMzMz41BApHA9CtfjUECF61G4HuVQQPYoXI/C5VBAZmZmZmbmUEBmZmZmZuZQQNejcD0K51BASOF6FK7nUEC4HoXrUehQQClcj8L16FBAmpmZmZnpUEAK16NwPepQQHsUrkfh6lBA7FG4HoXrUEBcj8L1KOxQQM3MzMzM7FBAPQrXo3DtUECuR+F6FO5QQK5H4XoU7lBAH4XrUbjuUECPwvUoXO9QQI/C9Shc71BAAAAAAADwUEBxPQrXo/BQQOF6FK5H8VBAUrgehevxUEBSuB6F6/FQQMP1KFyP8lBAMzMzMzPzUECkcD0K1/NQQBSuR+F69FBAhetRuB71UECF61G4HvVQQIXrUbge9VBA9ihcj8L1UEBmZmZmZvZQQNejcD0K91BA16NwPQr3UEBI4XoUrvdQQEjhehSu91BASOF6FK73UEC4HoXrUfhQQLgehetR+FBAmpmZmZn5UEAK16NwPfpQQOxRuB6F+1BAXI/C9Sj8UEBcj8L1KPxQQD0K16Nw/VBArkfhehT+UECPwvUoXP9QQAAAAAAAAFFA4XoUrkcBUUBSuB6F6wFRQMP1KFyPAlFAMzMzMzMDUUAUrkfhegRRQIXrUbgeBVFAZmZmZmYGUUBI4XoUrgdRQLgehetRCFFAKVyPwvUIUUCamZmZmQlRQHsUrkfhClFAXI/C9SgMUUDNzMzMzAxRQK5H4XoUDlFAH4XrUbgOUUCPwvUoXA9RQAAAAAAAEFFA4XoUrkcRUUDD9ShcjxJRQDMzMzMzE1FAFK5H4XoUUUCF61G4HhVRQPYoXI/CFVFAZmZmZmYWUUBI4XoUrhdRQClcj8L1GFFACtejcD0aUUDsUbgehRtRQOxRuB6FG1FAXI/C9SgcUUA9CtejcB1RQK5H4XoUHlFAj8L1KFwfUUBxPQrXoyBRQFK4HoXrIVFAUrgeheshUUDD9ShcjyJRQKRwPQrXI1FAFK5H4XokUUD2KFyPwiVRQNejcD0KJ1FAuB6F61EoUUC4HoXrUShRQClcj8L1KFFAmpmZmZkpUUAK16NwPSpRQOxRuB6FK1FAXI/C9SgsUUA9CtejcC1RQK5H4XoULlFArkfhehQuUUCPwvUoXC9RQAAAAAAAMFFAcT0K16MwUUDhehSuRzFRQMP1KFyPMlFAw/UoXI8yUUAzMzMzMzNRQKRwPQrXM1FAFK5H4Xo0UUCF61G4HjVRQGZmZmZmNlFA16NwPQo3UUBI4XoUrjdRQEjhehSuN1FAuB6F61E4UUApXI/C9ThRQJqZmZmZOVFAmpmZmZk5UUAK16NwPTpRQArXo3A9OlFAexSuR+E6UUB7FK5H4TpRQOxRuB6FO1FAXI/C9Sg8UUDNzMzMzDxRQK5H4XoUPlFArkfhehQ+UUCuR+F6FD5RQB+F61G4PlFAj8L1KFw/UUAAAAAAAEBRQHE9CtejQFFA4XoUrkdBUUDhehSuR0FRQFK4HoXrQVFAw/UoXI9CUUAzMzMzM0NRQDMzMzMzQ1FApHA9CtdDUUAUrkfhekRRQIXrUbgeRVFAhetRuB5FUUD2KFyPwkVRQGZmZmZmRlFAZmZmZmZGUUDXo3A9CkdRQNejcD0KR1FASOF6FK5HUUBI4XoUrkdRQEjhehSuR1FAuB6F61FIUUC4HoXrUUhRQClcj8L1SFFAmpmZmZlJUUCamZmZmUlRQJqZmZmZSVFAmpmZmZlJUUAK16NwPUpRQHsUrkfhSlFAexSuR+FKUUDsUbgehUtRQOxRuB6FS1FAXI/C9ShMUUBcj8L1KExRQM3MzMzMTFFAzczMzMxMUUA9CtejcE1RQK5H4XoUTlFArkfhehROUUCuR+F6FE5RQK5H4XoUTlFAH4XrUbhOUUAfhetRuE5RQI/C9ShcT1FAj8L1KFxPUUAAAAAAAFBRQAAAAAAAUFFAAAAAAABQUUAAAAAAAFBRQHE9CtejUFFAcT0K16NQUUDhehSuR1FRQOF6FK5HUVFA4XoUrkdRUUDhehSuR1FRQFK4HoXrUVFAUrgehetRUUBSuB6F61FRQMP1KFyPUlFAw/UoXI9SUUDD9Shcj1JRQMP1KFyPUlFAMzMzMzNTUUAzMzMzM1NRQDMzMzMzU1FApHA9CtdTUUCkcD0K11NRQKRwPQrXU1FApHA9CtdTUUAUrkfhelRRQBSuR+F6VFFAFK5H4XpUUUCF61G4HlVRQIXrUbgeVVFAhetRuB5VUUCF61G4HlVRQIXrUbgeVVFAhetRuB5VUUD2KFyPwlVRQPYoXI/CVVFA9ihcj8JVUUD2KFyPwlVRQGZmZmZmVlFAZmZmZmZWUUBmZmZmZlZRQGZmZmZmVlFA16NwPQpXUUDXo3A9CldRQNejcD0KV1FA16NwPQpXUUDXo3A9CldRQEjhehSuV1FASOF6FK5XUUBI4XoUrldRQEjhehSuV1FASOF6FK5XUUC4HoXrUVhRQLgehetRWFFAuB6F61FYUUC4HoXrUVhRQClcj8L1WFFAKVyPwvVYUUApXI/C9VhRQClcj8L1WFFAKVyPwvVYUUApXI/C9VhRQJqZmZmZWVFAmpmZmZlZUUCamZmZmVlRQJqZmZmZWVFAmpmZmZlZUUAK16NwPVpRQArXo3A9WlFACtejcD1aUUAK16NwPVpRQArXo3A9WlFACtejcD1aUUB7FK5H4VpRQHsUrkfhWlFAexSuR+FaUUB7FK5H4VpRQHsUrkfhWlFA7FG4HoVbUUDsUbgehVtRQOxRuB6FW1FA7FG4HoVbUUDsUbgehVtRQOxRuB6FW1FAXI/C9ShcUUBcj8L1KFxRQFyPwvUoXFFAXI/C9ShcUUBcj8L1KFxRQFyPwvUoXFFAXI/C9ShcUUDNzMzMzFxRQM3MzMzMXFFAzczMzMxcUUDNzMzMzFxRQM3MzMzMXFFAzczMzMxcUUDNzMzMzFxRQD0K16NwXVFAPQrXo3BdUUA9CtejcF1RQD0K16NwXVFAPQrXo3BdUUA9CtejcF1RQD0K16NwXVFAPQrXo3BdUUCuR+F6FF5RQK5H4XoUXlFArkfhehReUUCuR+F6FF5RQA==",
          "dtype": "f8"
         }
        },
        {
         "line": {
          "color": "blue",
          "dash": "dash"
         },
         "mode": "lines",
         "name": "United States - Forecast",
         "type": "scatter",
         "x": [
          "2023-05-10T00:00:00.000000000",
          "2023-05-11T00:00:00.000000000",
          "2023-05-12T00:00:00.000000000",
          "2023-05-13T00:00:00.000000000",
          "2023-05-14T00:00:00.000000000",
          "2023-05-15T00:00:00.000000000",
          "2023-05-16T00:00:00.000000000",
          "2023-05-17T00:00:00.000000000",
          "2023-05-18T00:00:00.000000000",
          "2023-05-19T00:00:00.000000000",
          "2023-05-20T00:00:00.000000000",
          "2023-05-21T00:00:00.000000000",
          "2023-05-22T00:00:00.000000000",
          "2023-05-23T00:00:00.000000000",
          "2023-05-24T00:00:00.000000000",
          "2023-05-25T00:00:00.000000000",
          "2023-05-26T00:00:00.000000000",
          "2023-05-27T00:00:00.000000000",
          "2023-05-28T00:00:00.000000000",
          "2023-05-29T00:00:00.000000000",
          "2023-05-30T00:00:00.000000000",
          "2023-05-31T00:00:00.000000000",
          "2023-06-01T00:00:00.000000000",
          "2023-06-02T00:00:00.000000000",
          "2023-06-03T00:00:00.000000000",
          "2023-06-04T00:00:00.000000000",
          "2023-06-05T00:00:00.000000000",
          "2023-06-06T00:00:00.000000000",
          "2023-06-07T00:00:00.000000000",
          "2023-06-08T00:00:00.000000000",
          "2023-06-09T00:00:00.000000000",
          "2023-06-10T00:00:00.000000000",
          "2023-06-11T00:00:00.000000000",
          "2023-06-12T00:00:00.000000000",
          "2023-06-13T00:00:00.000000000",
          "2023-06-14T00:00:00.000000000",
          "2023-06-15T00:00:00.000000000",
          "2023-06-16T00:00:00.000000000",
          "2023-06-17T00:00:00.000000000",
          "2023-06-18T00:00:00.000000000",
          "2023-06-19T00:00:00.000000000",
          "2023-06-20T00:00:00.000000000",
          "2023-06-21T00:00:00.000000000",
          "2023-06-22T00:00:00.000000000",
          "2023-06-23T00:00:00.000000000",
          "2023-06-24T00:00:00.000000000",
          "2023-06-25T00:00:00.000000000",
          "2023-06-26T00:00:00.000000000",
          "2023-06-27T00:00:00.000000000",
          "2023-06-28T00:00:00.000000000",
          "2023-06-29T00:00:00.000000000",
          "2023-06-30T00:00:00.000000000",
          "2023-07-01T00:00:00.000000000",
          "2023-07-02T00:00:00.000000000",
          "2023-07-03T00:00:00.000000000",
          "2023-07-04T00:00:00.000000000",
          "2023-07-05T00:00:00.000000000",
          "2023-07-06T00:00:00.000000000",
          "2023-07-07T00:00:00.000000000",
          "2023-07-08T00:00:00.000000000",
          "2023-07-09T00:00:00.000000000",
          "2023-07-10T00:00:00.000000000",
          "2023-07-11T00:00:00.000000000",
          "2023-07-12T00:00:00.000000000",
          "2023-07-13T00:00:00.000000000",
          "2023-07-14T00:00:00.000000000",
          "2023-07-15T00:00:00.000000000",
          "2023-07-16T00:00:00.000000000",
          "2023-07-17T00:00:00.000000000",
          "2023-07-18T00:00:00.000000000",
          "2023-07-19T00:00:00.000000000",
          "2023-07-20T00:00:00.000000000",
          "2023-07-21T00:00:00.000000000",
          "2023-07-22T00:00:00.000000000",
          "2023-07-23T00:00:00.000000000",
          "2023-07-24T00:00:00.000000000",
          "2023-07-25T00:00:00.000000000",
          "2023-07-26T00:00:00.000000000",
          "2023-07-27T00:00:00.000000000",
          "2023-07-28T00:00:00.000000000",
          "2023-07-29T00:00:00.000000000",
          "2023-07-30T00:00:00.000000000",
          "2023-07-31T00:00:00.000000000",
          "2023-08-01T00:00:00.000000000",
          "2023-08-02T00:00:00.000000000",
          "2023-08-03T00:00:00.000000000",
          "2023-08-04T00:00:00.000000000",
          "2023-08-05T00:00:00.000000000",
          "2023-08-06T00:00:00.000000000",
          "2023-08-07T00:00:00.000000000"
         ],
         "y": {
          "bdata": "pb62xw9eUUBHVY+BC15RQCmJip4HXlFA+++sFQReUUDEdcveAF5RQIx8ePL9XVFA37HySftdUUBzchXf+F1RQOyXSqz2XVFA4Y99rPRdUUBVng/b8l1RQIMwzTPxXVFASCfksu9dUUDKAttU7l1RQOHaiBbtXVFAyREO9etdUUArsM3t6l1RQC5bZ/7pXVFAm9axJOldUUBgBrZe6F1RQOtjqqrnXVFA2tzuBuddUUB3EQly5l1RQFbqoOrlXVFAJn19b+VdUUCVOYL/5F1RQLFXrJnkXVFA5IEQPeRdUUAetdjo411RQEFSQpzjXVFAYlycVuNdUUDF30UX411RQO59rN3iXVFAXhtLqeJdUUD6q6h54l1RQFAbV07iXVFANU7yJuJdUUBsOx8D4l1RQEgZi+LhXVFAWZ7qxOFdUUByU/mp4V1RQHD1eJHhXVFAWOUwe+FdUUB/pe1m4V1RQIpigFThXVFAOoe+Q+FdUUAEWoE04V1RQJOjpSbhXVFAZl0LGuFdUUDOZ5UO4V1RQKJGKQThXVFAB+Su+uBdUUDKWBDy4F1RQMK5OergXVFAyOkY4+BdUUDab53c4F1RQApRuNbgXVFA4e1b0eBdUUDi4nvM4F1RQOrrDMjgXVFAKMoExOBdUUBtLFrA4F1RQKeZBL3gXVFASl38ueBdUUCDdTq34F1RQAaDuLTgXVFAVbpwsuBdUUBb1l2w4F1RQD8Me67gXVFAUADErOBdUUDzuzSr4F1RQHukyangXVFA1HJ/qOBdUUDwK1On4F1RQOUZQqbgXVFApsVJpeBdUUBV8Wek4F1RQBGTmqPgXVFAQ9DfouBdUUBU+TWi4F1RQMiFm6HgXVFAsRAPoeBdUUB6VY+g4F1RQPQsG6DgXVFAsYqxn+BdUUCUelGf4F1RQJ8e+p7gXVFA8KyqnuBdUUDwbWKe4F1RQKu6IJ7gXVFA",
          "dtype": "f8"
         }
        },
        {
         "line": {
          "color": "red"
         },
         "mode": "lines",
         "name": "United Kingdom - Historical",
         "type": "scatter",
         "x": [
          "2021-01-10T00:00:00.000000000",
          "2021-01-11T00:00:00.000000000",
          "2021-01-12T00:00:00.000000000",
          "2021-01-13T00:00:00.000000000",
          "2021-01-14T00:00:00.000000000",
          "2021-01-15T00:00:00.000000000",
          "2021-01-16T00:00:00.000000000",
          "2021-01-17T00:00:00.000000000",
          "2021-01-18T00:00:00.000000000",
          "2021-01-19T00:00:00.000000000",
          "2021-01-20T00:00:00.000000000",
          "2021-01-21T00:00:00.000000000",
          "2021-01-22T00:00:00.000000000",
          "2021-01-23T00:00:00.000000000",
          "2021-01-24T00:00:00.000000000",
          "2021-01-25T00:00:00.000000000",
          "2021-01-26T00:00:00.000000000",
          "2021-01-27T00:00:00.000000000",
          "2021-01-28T00:00:00.000000000",
          "2021-01-29T00:00:00.000000000",
          "2021-01-30T00:00:00.000000000",
          "2021-01-31T00:00:00.000000000",
          "2021-02-01T00:00:00.000000000",
          "2021-02-02T00:00:00.000000000",
          "2021-02-03T00:00:00.000000000",
          "2021-02-04T00:00:00.000000000",
          "2021-02-05T00:00:00.000000000",
          "2021-02-06T00:00:00.000000000",
          "2021-02-07T00:00:00.000000000",
          "2021-02-08T00:00:00.000000000",
          "2021-02-09T00:00:00.000000000",
          "2021-02-10T00:00:00.000000000",
          "2021-02-11T00:00:00.000000000",
          "2021-02-12T00:00:00.000000000",
          "2021-02-13T00:00:00.000000000",
          "2021-02-14T00:00:00.000000000",
          "2021-02-15T00:00:00.000000000",
          "2021-02-16T00:00:00.000000000",
          "2021-02-17T00:00:00.000000000",
          "2021-02-18T00:00:00.000000000",
          "2021-02-19T00:00:00.000000000",
          "2021-02-20T00:00:00.000000000",
          "2021-02-21T00:00:00.000000000",
          "2021-02-22T00:00:00.000000000",
          "2021-02-23T00:00:00.000000000",
          "2021-02-24T00:00:00.000000000",
          "2021-02-25T00:00:00.000000000",
          "2021-02-26T00:00:00.000000000",
          "2021-02-27T00:00:00.000000000",
          "2021-02-28T00:00:00.000000000",
          "2021-03-01T00:00:00.000000000",
          "2021-03-02T00:00:00.000000000",
          "2021-03-03T00:00:00.000000000",
          "2021-03-04T00:00:00.000000000",
          "2021-03-05T00:00:00.000000000",
          "2021-03-06T00:00:00.000000000",
          "2021-03-07T00:00:00.000000000",
          "2021-03-08T00:00:00.000000000",
          "2021-03-09T00:00:00.000000000",
          "2021-03-10T00:00:00.000000000",
          "2021-03-11T00:00:00.000000000",
          "2021-03-12T00:00:00.000000000",
          "2021-03-13T00:00:00.000000000",
          "2021-03-14T00:00:00.000000000",
          "2021-03-15T00:00:00.000000000",
          "2021-03-16T00:00:00.000000000",
          "2021-03-17T00:00:00.000000000",
          "2021-03-18T00:00:00.000000000",
          "2021-03-19T00:00:00.000000000",
          "2021-03-20T00:00:00.000000000",
          "2021-03-21T00:00:00.000000000",
          "2021-03-22T00:00:00.000000000",
          "2021-03-23T00:00:00.000000000",
          "2021-03-24T00:00:00.000000000",
          "2021-03-25T00:00:00.000000000",
          "2021-03-26T00:00:00.000000000",
          "2021-03-27T00:00:00.000000000",
          "2021-03-28T00:00:00.000000000",
          "2021-03-29T00:00:00.000000000",
          "2021-03-30T00:00:00.000000000",
          "2021-03-31T00:00:00.000000000",
          "2021-04-01T00:00:00.000000000",
          "2021-04-02T00:00:00.000000000",
          "2021-04-03T00:00:00.000000000",
          "2021-04-04T00:00:00.000000000",
          "2021-04-05T00:00:00.000000000",
          "2021-04-06T00:00:00.000000000",
          "2021-04-07T00:00:00.000000000",
          "2021-04-08T00:00:00.000000000",
          "2021-04-09T00:00:00.000000000",
          "2021-04-10T00:00:00.000000000",
          "2021-04-11T00:00:00.000000000",
          "2021-04-12T00:00:00.000000000",
          "2021-04-13T00:00:00.000000000",
          "2021-04-14T00:00:00.000000000",
          "2021-04-15T00:00:00.000000000",
          "2021-04-16T00:00:00.000000000",
          "2021-04-17T00:00:00.000000000",
          "2021-04-18T00:00:00.000000000",
          "2021-04-19T00:00:00.000000000",
          "2021-04-20T00:00:00.000000000",
          "2021-04-21T00:00:00.000000000",
          "2021-04-22T00:00:00.000000000",
          "2021-04-23T00:00:00.000000000",
          "2021-04-24T00:00:00.000000000",
          "2021-04-25T00:00:00.000000000",
          "2021-04-26T00:00:00.000000000",
          "2021-04-27T00:00:00.000000000",
          "2021-04-28T00:00:00.000000000",
          "2021-04-29T00:00:00.000000000",
          "2021-04-30T00:00:00.000000000",
          "2021-05-01T00:00:00.000000000",
          "2021-05-02T00:00:00.000000000",
          "2021-05-03T00:00:00.000000000",
          "2021-05-04T00:00:00.000000000",
          "2021-05-05T00:00:00.000000000",
          "2021-05-06T00:00:00.000000000",
          "2021-05-07T00:00:00.000000000",
          "2021-05-08T00:00:00.000000000",
          "2021-05-09T00:00:00.000000000",
          "2021-05-10T00:00:00.000000000",
          "2021-05-11T00:00:00.000000000",
          "2021-05-12T00:00:00.000000000",
          "2021-05-13T00:00:00.000000000",
          "2021-05-14T00:00:00.000000000",
          "2021-05-15T00:00:00.000000000",
          "2021-05-16T00:00:00.000000000",
          "2021-05-17T00:00:00.000000000",
          "2021-05-18T00:00:00.000000000",
          "2021-05-19T00:00:00.000000000",
          "2021-05-20T00:00:00.000000000",
          "2021-05-21T00:00:00.000000000",
          "2021-05-22T00:00:00.000000000",
          "2021-05-23T00:00:00.000000000",
          "2021-05-24T00:00:00.000000000",
          "2021-05-25T00:00:00.000000000",
          "2021-05-26T00:00:00.000000000",
          "2021-05-27T00:00:00.000000000",
          "2021-05-28T00:00:00.000000000",
          "2021-05-29T00:00:00.000000000",
          "2021-05-30T00:00:00.000000000",
          "2021-05-31T00:00:00.000000000",
          "2021-06-01T00:00:00.000000000",
          "2021-06-02T00:00:00.000000000",
          "2021-06-03T00:00:00.000000000",
          "2021-06-04T00:00:00.000000000",
          "2021-06-05T00:00:00.000000000",
          "2021-06-06T00:00:00.000000000",
          "2021-06-07T00:00:00.000000000",
          "2021-06-08T00:00:00.000000000",
          "2021-06-09T00:00:00.000000000",
          "2021-06-10T00:00:00.000000000",
          "2021-06-11T00:00:00.000000000",
          "2021-06-12T00:00:00.000000000",
          "2021-06-13T00:00:00.000000000",
          "2021-06-14T00:00:00.000000000",
          "2021-06-15T00:00:00.000000000",
          "2021-06-16T00:00:00.000000000",
          "2021-06-17T00:00:00.000000000",
          "2021-06-18T00:00:00.000000000",
          "2021-06-19T00:00:00.000000000",
          "2021-06-20T00:00:00.000000000",
          "2021-06-21T00:00:00.000000000",
          "2021-06-22T00:00:00.000000000",
          "2021-06-23T00:00:00.000000000",
          "2021-06-24T00:00:00.000000000",
          "2021-06-25T00:00:00.000000000",
          "2021-06-26T00:00:00.000000000",
          "2021-06-27T00:00:00.000000000",
          "2021-06-28T00:00:00.000000000",
          "2021-06-29T00:00:00.000000000",
          "2021-06-30T00:00:00.000000000",
          "2021-07-01T00:00:00.000000000",
          "2021-07-02T00:00:00.000000000",
          "2021-07-03T00:00:00.000000000",
          "2021-07-04T00:00:00.000000000",
          "2021-07-05T00:00:00.000000000",
          "2021-07-06T00:00:00.000000000",
          "2021-07-07T00:00:00.000000000",
          "2021-07-08T00:00:00.000000000",
          "2021-07-09T00:00:00.000000000",
          "2021-07-10T00:00:00.000000000",
          "2021-07-11T00:00:00.000000000",
          "2021-07-12T00:00:00.000000000",
          "2021-07-13T00:00:00.000000000",
          "2021-07-14T00:00:00.000000000",
          "2021-07-15T00:00:00.000000000",
          "2021-07-16T00:00:00.000000000",
          "2021-07-17T00:00:00.000000000",
          "2021-07-18T00:00:00.000000000",
          "2021-07-19T00:00:00.000000000",
          "2021-07-20T00:00:00.000000000",
          "2021-07-21T00:00:00.000000000",
          "2021-07-22T00:00:00.000000000",
          "2021-07-23T00:00:00.000000000",
          "2021-07-24T00:00:00.000000000",
          "2021-07-25T00:00:00.000000000",
          "2021-07-26T00:00:00.000000000",
          "2021-07-27T00:00:00.000000000",
          "2021-07-28T00:00:00.000000000",
          "2021-07-29T00:00:00.000000000",
          "2021-07-30T00:00:00.000000000",
          "2021-07-31T00:00:00.000000000",
          "2021-08-01T00:00:00.000000000",
          "2021-08-02T00:00:00.000000000",
          "2021-08-03T00:00:00.000000000",
          "2021-08-04T00:00:00.000000000",
          "2021-08-05T00:00:00.000000000",
          "2021-08-06T00:00:00.000000000",
          "2021-08-07T00:00:00.000000000",
          "2021-08-08T00:00:00.000000000",
          "2021-08-09T00:00:00.000000000",
          "2021-08-10T00:00:00.000000000",
          "2021-08-11T00:00:00.000000000",
          "2021-08-12T00:00:00.000000000",
          "2021-08-13T00:00:00.000000000",
          "2021-08-14T00:00:00.000000000",
          "2021-08-15T00:00:00.000000000",
          "2021-08-16T00:00:00.000000000",
          "2021-08-17T00:00:00.000000000",
          "2021-08-18T00:00:00.000000000",
          "2021-08-19T00:00:00.000000000",
          "2021-08-20T00:00:00.000000000",
          "2021-08-21T00:00:00.000000000",
          "2021-08-22T00:00:00.000000000",
          "2021-08-23T00:00:00.000000000",
          "2021-08-24T00:00:00.000000000",
          "2021-08-25T00:00:00.000000000",
          "2021-08-26T00:00:00.000000000",
          "2021-08-27T00:00:00.000000000",
          "2021-08-28T00:00:00.000000000",
          "2021-08-29T00:00:00.000000000",
          "2021-08-30T00:00:00.000000000",
          "2021-08-31T00:00:00.000000000",
          "2021-09-01T00:00:00.000000000",
          "2021-09-02T00:00:00.000000000",
          "2021-09-03T00:00:00.000000000",
          "2021-09-04T00:00:00.000000000",
          "2021-09-05T00:00:00.000000000",
          "2021-09-06T00:00:00.000000000",
          "2021-09-07T00:00:00.000000000",
          "2021-09-08T00:00:00.000000000",
          "2021-09-09T00:00:00.000000000",
          "2021-09-10T00:00:00.000000000",
          "2021-09-11T00:00:00.000000000",
          "2021-09-12T00:00:00.000000000",
          "2021-09-13T00:00:00.000000000",
          "2021-09-14T00:00:00.000000000",
          "2021-09-15T00:00:00.000000000",
          "2021-09-16T00:00:00.000000000",
          "2021-09-17T00:00:00.000000000",
          "2021-09-18T00:00:00.000000000",
          "2021-09-19T00:00:00.000000000",
          "2021-09-20T00:00:00.000000000",
          "2021-09-21T00:00:00.000000000",
          "2021-09-22T00:00:00.000000000",
          "2021-09-23T00:00:00.000000000",
          "2021-09-24T00:00:00.000000000",
          "2021-09-25T00:00:00.000000000",
          "2021-09-26T00:00:00.000000000",
          "2021-09-27T00:00:00.000000000",
          "2021-09-28T00:00:00.000000000",
          "2021-09-29T00:00:00.000000000",
          "2021-09-30T00:00:00.000000000",
          "2021-10-01T00:00:00.000000000",
          "2021-10-02T00:00:00.000000000",
          "2021-10-03T00:00:00.000000000",
          "2021-10-04T00:00:00.000000000",
          "2021-10-05T00:00:00.000000000",
          "2021-10-06T00:00:00.000000000",
          "2021-10-07T00:00:00.000000000",
          "2021-10-08T00:00:00.000000000",
          "2021-10-09T00:00:00.000000000",
          "2021-10-10T00:00:00.000000000",
          "2021-10-11T00:00:00.000000000",
          "2021-10-12T00:00:00.000000000",
          "2021-10-13T00:00:00.000000000",
          "2021-10-14T00:00:00.000000000",
          "2021-10-15T00:00:00.000000000",
          "2021-10-16T00:00:00.000000000",
          "2021-10-17T00:00:00.000000000",
          "2021-10-18T00:00:00.000000000",
          "2021-10-19T00:00:00.000000000",
          "2021-10-20T00:00:00.000000000",
          "2021-10-21T00:00:00.000000000",
          "2021-10-22T00:00:00.000000000",
          "2021-10-23T00:00:00.000000000",
          "2021-10-24T00:00:00.000000000",
          "2021-10-25T00:00:00.000000000",
          "2021-10-26T00:00:00.000000000",
          "2021-10-27T00:00:00.000000000",
          "2021-10-28T00:00:00.000000000",
          "2021-10-29T00:00:00.000000000",
          "2021-10-30T00:00:00.000000000",
          "2021-10-31T00:00:00.000000000",
          "2021-11-01T00:00:00.000000000",
          "2021-11-02T00:00:00.000000000",
          "2021-11-03T00:00:00.000000000",
          "2021-11-04T00:00:00.000000000",
          "2021-11-05T00:00:00.000000000",
          "2021-11-06T00:00:00.000000000",
          "2021-11-07T00:00:00.000000000",
          "2021-11-08T00:00:00.000000000",
          "2021-11-09T00:00:00.000000000",
          "2021-11-10T00:00:00.000000000",
          "2021-11-11T00:00:00.000000000",
          "2021-11-12T00:00:00.000000000",
          "2021-11-13T00:00:00.000000000",
          "2021-11-14T00:00:00.000000000",
          "2021-11-15T00:00:00.000000000",
          "2021-11-16T00:00:00.000000000",
          "2021-11-17T00:00:00.000000000",
          "2021-11-18T00:00:00.000000000",
          "2021-11-19T00:00:00.000000000",
          "2021-11-20T00:00:00.000000000",
          "2021-11-21T00:00:00.000000000",
          "2021-11-22T00:00:00.000000000",
          "2021-11-23T00:00:00.000000000",
          "2021-11-24T00:00:00.000000000",
          "2021-11-25T00:00:00.000000000",
          "2021-11-26T00:00:00.000000000",
          "2021-11-27T00:00:00.000000000",
          "2021-11-28T00:00:00.000000000",
          "2021-11-29T00:00:00.000000000",
          "2021-11-30T00:00:00.000000000",
          "2021-12-01T00:00:00.000000000",
          "2021-12-02T00:00:00.000000000",
          "2021-12-03T00:00:00.000000000",
          "2021-12-04T00:00:00.000000000",
          "2021-12-05T00:00:00.000000000",
          "2021-12-06T00:00:00.000000000",
          "2021-12-07T00:00:00.000000000",
          "2021-12-08T00:00:00.000000000",
          "2021-12-09T00:00:00.000000000",
          "2021-12-10T00:00:00.000000000",
          "2021-12-11T00:00:00.000000000",
          "2021-12-12T00:00:00.000000000",
          "2021-12-13T00:00:00.000000000",
          "2021-12-14T00:00:00.000000000",
          "2021-12-15T00:00:00.000000000",
          "2021-12-16T00:00:00.000000000",
          "2021-12-17T00:00:00.000000000",
          "2021-12-18T00:00:00.000000000",
          "2021-12-19T00:00:00.000000000",
          "2021-12-20T00:00:00.000000000",
          "2021-12-21T00:00:00.000000000",
          "2021-12-22T00:00:00.000000000",
          "2021-12-23T00:00:00.000000000",
          "2021-12-24T00:00:00.000000000",
          "2021-12-25T00:00:00.000000000",
          "2021-12-26T00:00:00.000000000",
          "2021-12-27T00:00:00.000000000",
          "2021-12-28T00:00:00.000000000",
          "2021-12-29T00:00:00.000000000",
          "2021-12-30T00:00:00.000000000",
          "2021-12-31T00:00:00.000000000",
          "2022-01-01T00:00:00.000000000",
          "2022-01-02T00:00:00.000000000",
          "2022-01-03T00:00:00.000000000",
          "2022-01-04T00:00:00.000000000",
          "2022-01-05T00:00:00.000000000",
          "2022-01-06T00:00:00.000000000",
          "2022-01-07T00:00:00.000000000",
          "2022-01-08T00:00:00.000000000",
          "2022-01-09T00:00:00.000000000",
          "2022-01-10T00:00:00.000000000",
          "2022-01-11T00:00:00.000000000",
          "2022-01-12T00:00:00.000000000",
          "2022-01-13T00:00:00.000000000",
          "2022-01-14T00:00:00.000000000",
          "2022-01-15T00:00:00.000000000",
          "2022-01-16T00:00:00.000000000",
          "2022-01-17T00:00:00.000000000",
          "2022-01-18T00:00:00.000000000",
          "2022-01-19T00:00:00.000000000",
          "2022-01-20T00:00:00.000000000",
          "2022-01-21T00:00:00.000000000",
          "2022-01-22T00:00:00.000000000",
          "2022-01-23T00:00:00.000000000",
          "2022-01-24T00:00:00.000000000",
          "2022-01-25T00:00:00.000000000",
          "2022-01-26T00:00:00.000000000",
          "2022-01-27T00:00:00.000000000",
          "2022-01-28T00:00:00.000000000",
          "2022-01-29T00:00:00.000000000",
          "2022-01-30T00:00:00.000000000",
          "2022-01-31T00:00:00.000000000",
          "2022-02-01T00:00:00.000000000",
          "2022-02-02T00:00:00.000000000",
          "2022-02-03T00:00:00.000000000",
          "2022-02-04T00:00:00.000000000",
          "2022-02-05T00:00:00.000000000",
          "2022-02-06T00:00:00.000000000",
          "2022-02-07T00:00:00.000000000",
          "2022-02-08T00:00:00.000000000",
          "2022-02-09T00:00:00.000000000",
          "2022-02-10T00:00:00.000000000",
          "2022-02-11T00:00:00.000000000",
          "2022-02-12T00:00:00.000000000",
          "2022-02-13T00:00:00.000000000",
          "2022-02-14T00:00:00.000000000",
          "2022-02-15T00:00:00.000000000",
          "2022-02-16T00:00:00.000000000",
          "2022-02-17T00:00:00.000000000",
          "2022-02-18T00:00:00.000000000",
          "2022-02-19T00:00:00.000000000",
          "2022-02-20T00:00:00.000000000",
          "2022-02-21T00:00:00.000000000",
          "2022-02-22T00:00:00.000000000",
          "2022-02-23T00:00:00.000000000",
          "2022-02-24T00:00:00.000000000",
          "2022-02-25T00:00:00.000000000",
          "2022-02-26T00:00:00.000000000",
          "2022-02-27T00:00:00.000000000",
          "2022-02-28T00:00:00.000000000",
          "2022-03-01T00:00:00.000000000",
          "2022-03-02T00:00:00.000000000",
          "2022-03-03T00:00:00.000000000",
          "2022-03-04T00:00:00.000000000",
          "2022-03-05T00:00:00.000000000",
          "2022-03-06T00:00:00.000000000",
          "2022-03-07T00:00:00.000000000",
          "2022-03-08T00:00:00.000000000",
          "2022-03-09T00:00:00.000000000",
          "2022-03-10T00:00:00.000000000",
          "2022-03-11T00:00:00.000000000",
          "2022-03-12T00:00:00.000000000",
          "2022-03-13T00:00:00.000000000",
          "2022-03-14T00:00:00.000000000",
          "2022-03-15T00:00:00.000000000",
          "2022-03-16T00:00:00.000000000",
          "2022-03-17T00:00:00.000000000",
          "2022-03-18T00:00:00.000000000",
          "2022-03-19T00:00:00.000000000",
          "2022-03-20T00:00:00.000000000",
          "2022-03-21T00:00:00.000000000",
          "2022-03-22T00:00:00.000000000",
          "2022-03-23T00:00:00.000000000",
          "2022-03-24T00:00:00.000000000",
          "2022-03-25T00:00:00.000000000",
          "2022-03-26T00:00:00.000000000",
          "2022-03-27T00:00:00.000000000",
          "2022-03-28T00:00:00.000000000",
          "2022-03-29T00:00:00.000000000",
          "2022-03-30T00:00:00.000000000",
          "2022-03-31T00:00:00.000000000",
          "2022-04-01T00:00:00.000000000",
          "2022-04-02T00:00:00.000000000",
          "2022-04-03T00:00:00.000000000",
          "2022-04-04T00:00:00.000000000",
          "2022-04-05T00:00:00.000000000",
          "2022-04-06T00:00:00.000000000",
          "2022-04-07T00:00:00.000000000",
          "2022-04-08T00:00:00.000000000",
          "2022-04-09T00:00:00.000000000",
          "2022-04-10T00:00:00.000000000",
          "2022-04-11T00:00:00.000000000",
          "2022-04-12T00:00:00.000000000",
          "2022-04-13T00:00:00.000000000",
          "2022-04-14T00:00:00.000000000",
          "2022-04-15T00:00:00.000000000",
          "2022-04-16T00:00:00.000000000",
          "2022-04-17T00:00:00.000000000",
          "2022-04-18T00:00:00.000000000",
          "2022-04-19T00:00:00.000000000",
          "2022-04-20T00:00:00.000000000",
          "2022-04-21T00:00:00.000000000",
          "2022-04-22T00:00:00.000000000",
          "2022-04-23T00:00:00.000000000",
          "2022-04-24T00:00:00.000000000",
          "2022-04-25T00:00:00.000000000",
          "2022-04-26T00:00:00.000000000",
          "2022-04-27T00:00:00.000000000",
          "2022-04-28T00:00:00.000000000",
          "2022-04-29T00:00:00.000000000",
          "2022-04-30T00:00:00.000000000",
          "2022-05-01T00:00:00.000000000",
          "2022-05-02T00:00:00.000000000",
          "2022-05-03T00:00:00.000000000",
          "2022-05-04T00:00:00.000000000",
          "2022-05-05T00:00:00.000000000",
          "2022-05-06T00:00:00.000000000",
          "2022-05-07T00:00:00.000000000",
          "2022-05-08T00:00:00.000000000",
          "2022-05-09T00:00:00.000000000",
          "2022-05-10T00:00:00.000000000",
          "2022-05-11T00:00:00.000000000",
          "2022-05-12T00:00:00.000000000",
          "2022-05-13T00:00:00.000000000",
          "2022-05-14T00:00:00.000000000",
          "2022-05-15T00:00:00.000000000",
          "2022-05-16T00:00:00.000000000",
          "2022-05-17T00:00:00.000000000",
          "2022-05-18T00:00:00.000000000",
          "2022-05-19T00:00:00.000000000",
          "2022-05-20T00:00:00.000000000",
          "2022-05-21T00:00:00.000000000",
          "2022-05-22T00:00:00.000000000",
          "2022-05-23T00:00:00.000000000",
          "2022-05-24T00:00:00.000000000",
          "2022-05-25T00:00:00.000000000",
          "2022-05-26T00:00:00.000000000",
          "2022-05-27T00:00:00.000000000",
          "2022-05-28T00:00:00.000000000",
          "2022-05-29T00:00:00.000000000",
          "2022-05-30T00:00:00.000000000",
          "2022-05-31T00:00:00.000000000",
          "2022-06-01T00:00:00.000000000",
          "2022-06-02T00:00:00.000000000",
          "2022-06-03T00:00:00.000000000",
          "2022-06-04T00:00:00.000000000",
          "2022-06-05T00:00:00.000000000",
          "2022-06-06T00:00:00.000000000",
          "2022-06-07T00:00:00.000000000",
          "2022-06-08T00:00:00.000000000",
          "2022-06-09T00:00:00.000000000",
          "2022-06-10T00:00:00.000000000",
          "2022-06-11T00:00:00.000000000",
          "2022-06-12T00:00:00.000000000",
          "2022-06-13T00:00:00.000000000",
          "2022-06-14T00:00:00.000000000",
          "2022-06-15T00:00:00.000000000",
          "2022-06-16T00:00:00.000000000",
          "2022-06-17T00:00:00.000000000",
          "2022-06-18T00:00:00.000000000",
          "2022-06-19T00:00:00.000000000",
          "2022-06-20T00:00:00.000000000",
          "2022-06-21T00:00:00.000000000",
          "2022-06-22T00:00:00.000000000",
          "2022-06-23T00:00:00.000000000",
          "2022-06-24T00:00:00.000000000",
          "2022-06-25T00:00:00.000000000",
          "2022-06-26T00:00:00.000000000",
          "2022-06-27T00:00:00.000000000",
          "2022-06-28T00:00:00.000000000",
          "2022-06-29T00:00:00.000000000",
          "2022-06-30T00:00:00.000000000",
          "2022-07-01T00:00:00.000000000",
          "2022-07-02T00:00:00.000000000",
          "2022-07-03T00:00:00.000000000",
          "2022-07-04T00:00:00.000000000",
          "2022-07-05T00:00:00.000000000",
          "2022-07-06T00:00:00.000000000",
          "2022-07-07T00:00:00.000000000",
          "2022-07-08T00:00:00.000000000",
          "2022-07-09T00:00:00.000000000",
          "2022-07-10T00:00:00.000000000",
          "2022-07-11T00:00:00.000000000",
          "2022-07-12T00:00:00.000000000",
          "2022-07-13T00:00:00.000000000",
          "2022-07-14T00:00:00.000000000",
          "2022-07-15T00:00:00.000000000",
          "2022-07-16T00:00:00.000000000",
          "2022-07-17T00:00:00.000000000",
          "2022-07-18T00:00:00.000000000",
          "2022-07-19T00:00:00.000000000",
          "2022-07-20T00:00:00.000000000",
          "2022-07-21T00:00:00.000000000",
          "2022-07-22T00:00:00.000000000",
          "2022-07-23T00:00:00.000000000",
          "2022-07-24T00:00:00.000000000",
          "2022-07-25T00:00:00.000000000",
          "2022-07-26T00:00:00.000000000",
          "2022-07-27T00:00:00.000000000",
          "2022-07-28T00:00:00.000000000",
          "2022-07-29T00:00:00.000000000",
          "2022-07-30T00:00:00.000000000",
          "2022-07-31T00:00:00.000000000",
          "2022-08-01T00:00:00.000000000",
          "2022-08-02T00:00:00.000000000",
          "2022-08-03T00:00:00.000000000",
          "2022-08-04T00:00:00.000000000",
          "2022-08-05T00:00:00.000000000",
          "2022-08-06T00:00:00.000000000",
          "2022-08-07T00:00:00.000000000",
          "2022-08-08T00:00:00.000000000",
          "2022-08-09T00:00:00.000000000",
          "2022-08-10T00:00:00.000000000",
          "2022-08-11T00:00:00.000000000",
          "2022-08-12T00:00:00.000000000",
          "2022-08-13T00:00:00.000000000",
          "2022-08-14T00:00:00.000000000",
          "2022-08-15T00:00:00.000000000",
          "2022-08-16T00:00:00.000000000",
          "2022-08-17T00:00:00.000000000",
          "2022-08-18T00:00:00.000000000",
          "2022-08-19T00:00:00.000000000",
          "2022-08-20T00:00:00.000000000",
          "2022-08-21T00:00:00.000000000",
          "2022-08-22T00:00:00.000000000",
          "2022-08-23T00:00:00.000000000",
          "2022-08-24T00:00:00.000000000",
          "2022-08-25T00:00:00.000000000",
          "2022-08-26T00:00:00.000000000",
          "2022-08-27T00:00:00.000000000",
          "2022-08-28T00:00:00.000000000",
          "2022-08-29T00:00:00.000000000",
          "2022-08-30T00:00:00.000000000",
          "2022-08-31T00:00:00.000000000",
          "2022-09-01T00:00:00.000000000",
          "2022-09-02T00:00:00.000000000",
          "2022-09-03T00:00:00.000000000",
          "2022-09-04T00:00:00.000000000",
          "2022-09-05T00:00:00.000000000",
          "2022-09-06T00:00:00.000000000",
          "2022-09-07T00:00:00.000000000",
          "2022-09-08T00:00:00.000000000",
          "2022-09-09T00:00:00.000000000",
          "2022-09-10T00:00:00.000000000",
          "2022-09-11T00:00:00.000000000"
         ],
         "y": {
          "bdata": "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",
          "dtype": "f8"
         }
        },
        {
         "line": {
          "color": "red",
          "dash": "dash"
         },
         "mode": "lines",
         "name": "United Kingdom - Forecast",
         "type": "scatter",
         "x": [
          "2022-09-12T00:00:00.000000000",
          "2022-09-13T00:00:00.000000000",
          "2022-09-14T00:00:00.000000000",
          "2022-09-15T00:00:00.000000000",
          "2022-09-16T00:00:00.000000000",
          "2022-09-17T00:00:00.000000000",
          "2022-09-18T00:00:00.000000000",
          "2022-09-19T00:00:00.000000000",
          "2022-09-20T00:00:00.000000000",
          "2022-09-21T00:00:00.000000000",
          "2022-09-22T00:00:00.000000000",
          "2022-09-23T00:00:00.000000000",
          "2022-09-24T00:00:00.000000000",
          "2022-09-25T00:00:00.000000000",
          "2022-09-26T00:00:00.000000000",
          "2022-09-27T00:00:00.000000000",
          "2022-09-28T00:00:00.000000000",
          "2022-09-29T00:00:00.000000000",
          "2022-09-30T00:00:00.000000000",
          "2022-10-01T00:00:00.000000000",
          "2022-10-02T00:00:00.000000000",
          "2022-10-03T00:00:00.000000000",
          "2022-10-04T00:00:00.000000000",
          "2022-10-05T00:00:00.000000000",
          "2022-10-06T00:00:00.000000000",
          "2022-10-07T00:00:00.000000000",
          "2022-10-08T00:00:00.000000000",
          "2022-10-09T00:00:00.000000000",
          "2022-10-10T00:00:00.000000000",
          "2022-10-11T00:00:00.000000000",
          "2022-10-12T00:00:00.000000000",
          "2022-10-13T00:00:00.000000000",
          "2022-10-14T00:00:00.000000000",
          "2022-10-15T00:00:00.000000000",
          "2022-10-16T00:00:00.000000000",
          "2022-10-17T00:00:00.000000000",
          "2022-10-18T00:00:00.000000000",
          "2022-10-19T00:00:00.000000000",
          "2022-10-20T00:00:00.000000000",
          "2022-10-21T00:00:00.000000000",
          "2022-10-22T00:00:00.000000000",
          "2022-10-23T00:00:00.000000000",
          "2022-10-24T00:00:00.000000000",
          "2022-10-25T00:00:00.000000000",
          "2022-10-26T00:00:00.000000000",
          "2022-10-27T00:00:00.000000000",
          "2022-10-28T00:00:00.000000000",
          "2022-10-29T00:00:00.000000000",
          "2022-10-30T00:00:00.000000000",
          "2022-10-31T00:00:00.000000000",
          "2022-11-01T00:00:00.000000000",
          "2022-11-02T00:00:00.000000000",
          "2022-11-03T00:00:00.000000000",
          "2022-11-04T00:00:00.000000000",
          "2022-11-05T00:00:00.000000000",
          "2022-11-06T00:00:00.000000000",
          "2022-11-07T00:00:00.000000000",
          "2022-11-08T00:00:00.000000000",
          "2022-11-09T00:00:00.000000000",
          "2022-11-10T00:00:00.000000000",
          "2022-11-11T00:00:00.000000000",
          "2022-11-12T00:00:00.000000000",
          "2022-11-13T00:00:00.000000000",
          "2022-11-14T00:00:00.000000000",
          "2022-11-15T00:00:00.000000000",
          "2022-11-16T00:00:00.000000000",
          "2022-11-17T00:00:00.000000000",
          "2022-11-18T00:00:00.000000000",
          "2022-11-19T00:00:00.000000000",
          "2022-11-20T00:00:00.000000000",
          "2022-11-21T00:00:00.000000000",
          "2022-11-22T00:00:00.000000000",
          "2022-11-23T00:00:00.000000000",
          "2022-11-24T00:00:00.000000000",
          "2022-11-25T00:00:00.000000000",
          "2022-11-26T00:00:00.000000000",
          "2022-11-27T00:00:00.000000000",
          "2022-11-28T00:00:00.000000000",
          "2022-11-29T00:00:00.000000000",
          "2022-11-30T00:00:00.000000000",
          "2022-12-01T00:00:00.000000000",
          "2022-12-02T00:00:00.000000000",
          "2022-12-03T00:00:00.000000000",
          "2022-12-04T00:00:00.000000000",
          "2022-12-05T00:00:00.000000000",
          "2022-12-06T00:00:00.000000000",
          "2022-12-07T00:00:00.000000000",
          "2022-12-08T00:00:00.000000000",
          "2022-12-09T00:00:00.000000000",
          "2022-12-10T00:00:00.000000000"
         ],
         "y": {
          "bdata": "gvsYZy/MUkBRBoWPNcxSQJLoP3I7zFJAml9eEkHMUkAuStJyRsxSQCczbJZLzFJAoMrcf1DMUkB5TrYxVcxSQO7iba5ZzFJA6dtc+F3MUkDO98ERYsxSQFeMwvxlzFJAJaZru2nMUkCaG7NPbcxSQIyTeLtwzFJAXICGAHTMUkDyD5Mgd8xSQB4RQR16zFJA084g+HzMUkC14bCyf8xSQF/4Xk6CzFJA0JaIzITMUkBjzXsuh8xSQK7nd3WJzFJApxOuoovMUkBlAUK3jcxSQNN7SrSPzFJAnvrRmpHMUkC0Lddrk8xSQJiCTSiVzFJAzqMd0ZbMUkCm8iVnmMxSQKj7OuuZzFJA1eUnXpvMUkAC3a7AnMxSQHp3iROezFJAJxdpV5/MUkBsRveMoMxSQOYQ1rShzFJAPligz6LMUkA/Jerdo8xSQFL1QOCkzFJAkgQs16XMUkCTlCzDpsxSQA4wvqSnzFJAjetWfKjMUkA6o2dKqcxSQPU1XA+qzFJAyr2by6rMUkDpxYh/q8xSQEB+gSuszFJAw+zfz6zMUkCSHPpsrcxSQABLIgOuzFJAoRKnkq7MUkBwlNMbr8xSQCKf756vzFJAvtQ/HLDMUkCLzgWUsMxSQGU/gAaxzFJAkBTrc7HMUkAZlX/cscxSQM5/dECyzFJA6if+n7LMUkB3kE77ssxSQHyGlVKzzFJAA7oAprPMUkAG1rv1s8xSQEeX8EG0zFJALeLGirTMUkCi12TQtMxSQAzp7hK1zFJAYOuHUrXMUkBdKVGPtcxSQPl0asm1zFJACzjyALbMUkA2hAU2tsxSQB8iwGi2zFJA+588mbbMUkBzX5THtsxSQPCi3/O2zFJAS5o1HrfMUkD0bqxGt8xSQIlPWW23zFJA7XpQkrfMUkDiSqW1t8xSQCo+ate3zFJANgKx97fMUkBlfIoWuMxSQN7SBjS4zFJA",
          "dtype": "f8"
         }
        },
        {
         "line": {
          "color": "green"
         },
         "mode": "lines",
         "name": "Germany - Historical",
         "type": "scatter",
         "x": [
          "2021-01-15T00:00:00.000000000",
          "2021-01-16T00:00:00.000000000",
          "2021-01-17T00:00:00.000000000",
          "2021-01-18T00:00:00.000000000",
          "2021-01-19T00:00:00.000000000",
          "2021-01-20T00:00:00.000000000",
          "2021-01-21T00:00:00.000000000",
          "2021-01-22T00:00:00.000000000",
          "2021-01-23T00:00:00.000000000",
          "2021-01-24T00:00:00.000000000",
          "2021-01-25T00:00:00.000000000",
          "2021-01-26T00:00:00.000000000",
          "2021-01-27T00:00:00.000000000",
          "2021-01-28T00:00:00.000000000",
          "2021-01-29T00:00:00.000000000",
          "2021-01-30T00:00:00.000000000",
          "2021-01-31T00:00:00.000000000",
          "2021-02-01T00:00:00.000000000",
          "2021-02-02T00:00:00.000000000",
          "2021-02-03T00:00:00.000000000",
          "2021-02-04T00:00:00.000000000",
          "2021-02-05T00:00:00.000000000",
          "2021-02-06T00:00:00.000000000",
          "2021-02-07T00:00:00.000000000",
          "2021-02-08T00:00:00.000000000",
          "2021-02-09T00:00:00.000000000",
          "2021-02-10T00:00:00.000000000",
          "2021-02-11T00:00:00.000000000",
          "2021-02-12T00:00:00.000000000",
          "2021-02-13T00:00:00.000000000",
          "2021-02-14T00:00:00.000000000",
          "2021-02-15T00:00:00.000000000",
          "2021-02-16T00:00:00.000000000",
          "2021-02-17T00:00:00.000000000",
          "2021-02-18T00:00:00.000000000",
          "2021-02-19T00:00:00.000000000",
          "2021-02-20T00:00:00.000000000",
          "2021-02-21T00:00:00.000000000",
          "2021-02-22T00:00:00.000000000",
          "2021-02-23T00:00:00.000000000",
          "2021-02-24T00:00:00.000000000",
          "2021-02-25T00:00:00.000000000",
          "2021-02-26T00:00:00.000000000",
          "2021-02-27T00:00:00.000000000",
          "2021-02-28T00:00:00.000000000",
          "2021-03-01T00:00:00.000000000",
          "2021-03-02T00:00:00.000000000",
          "2021-03-03T00:00:00.000000000",
          "2021-03-04T00:00:00.000000000",
          "2021-03-05T00:00:00.000000000",
          "2021-03-06T00:00:00.000000000",
          "2021-03-07T00:00:00.000000000",
          "2021-03-08T00:00:00.000000000",
          "2021-03-09T00:00:00.000000000",
          "2021-03-10T00:00:00.000000000",
          "2021-03-11T00:00:00.000000000",
          "2021-03-12T00:00:00.000000000",
          "2021-03-13T00:00:00.000000000",
          "2021-03-14T00:00:00.000000000",
          "2021-03-15T00:00:00.000000000",
          "2021-03-16T00:00:00.000000000",
          "2021-03-17T00:00:00.000000000",
          "2021-03-18T00:00:00.000000000",
          "2021-03-19T00:00:00.000000000",
          "2021-03-20T00:00:00.000000000",
          "2021-03-21T00:00:00.000000000",
          "2021-03-22T00:00:00.000000000",
          "2021-03-23T00:00:00.000000000",
          "2021-03-24T00:00:00.000000000",
          "2021-03-25T00:00:00.000000000",
          "2021-03-26T00:00:00.000000000",
          "2021-03-27T00:00:00.000000000",
          "2021-03-28T00:00:00.000000000",
          "2021-03-29T00:00:00.000000000",
          "2021-03-30T00:00:00.000000000",
          "2021-03-31T00:00:00.000000000",
          "2021-04-01T00:00:00.000000000",
          "2021-04-02T00:00:00.000000000",
          "2021-04-03T00:00:00.000000000",
          "2021-04-04T00:00:00.000000000",
          "2021-04-05T00:00:00.000000000",
          "2021-04-06T00:00:00.000000000",
          "2021-04-07T00:00:00.000000000",
          "2021-04-08T00:00:00.000000000",
          "2021-04-09T00:00:00.000000000",
          "2021-04-10T00:00:00.000000000",
          "2021-04-11T00:00:00.000000000",
          "2021-04-12T00:00:00.000000000",
          "2021-04-13T00:00:00.000000000",
          "2021-04-14T00:00:00.000000000",
          "2021-04-15T00:00:00.000000000",
          "2021-04-16T00:00:00.000000000",
          "2021-04-17T00:00:00.000000000",
          "2021-04-18T00:00:00.000000000",
          "2021-04-19T00:00:00.000000000",
          "2021-04-20T00:00:00.000000000",
          "2021-04-21T00:00:00.000000000",
          "2021-04-22T00:00:00.000000000",
          "2021-04-23T00:00:00.000000000",
          "2021-04-24T00:00:00.000000000",
          "2021-04-25T00:00:00.000000000",
          "2021-04-26T00:00:00.000000000",
          "2021-04-27T00:00:00.000000000",
          "2021-04-28T00:00:00.000000000",
          "2021-04-29T00:00:00.000000000",
          "2021-04-30T00:00:00.000000000",
          "2021-05-01T00:00:00.000000000",
          "2021-05-02T00:00:00.000000000",
          "2021-05-03T00:00:00.000000000",
          "2021-05-04T00:00:00.000000000",
          "2021-05-05T00:00:00.000000000",
          "2021-05-06T00:00:00.000000000",
          "2021-05-07T00:00:00.000000000",
          "2021-05-08T00:00:00.000000000",
          "2021-05-09T00:00:00.000000000",
          "2021-05-10T00:00:00.000000000",
          "2021-05-11T00:00:00.000000000",
          "2021-05-12T00:00:00.000000000",
          "2021-05-13T00:00:00.000000000",
          "2021-05-14T00:00:00.000000000",
          "2021-05-15T00:00:00.000000000",
          "2021-05-16T00:00:00.000000000",
          "2021-05-17T00:00:00.000000000",
          "2021-05-18T00:00:00.000000000",
          "2021-05-19T00:00:00.000000000",
          "2021-05-20T00:00:00.000000000",
          "2021-05-21T00:00:00.000000000",
          "2021-05-22T00:00:00.000000000",
          "2021-05-23T00:00:00.000000000",
          "2021-05-24T00:00:00.000000000",
          "2021-05-25T00:00:00.000000000",
          "2021-05-26T00:00:00.000000000",
          "2021-05-27T00:00:00.000000000",
          "2021-05-28T00:00:00.000000000",
          "2021-05-29T00:00:00.000000000",
          "2021-05-30T00:00:00.000000000",
          "2021-05-31T00:00:00.000000000",
          "2021-06-01T00:00:00.000000000",
          "2021-06-02T00:00:00.000000000",
          "2021-06-03T00:00:00.000000000",
          "2021-06-04T00:00:00.000000000",
          "2021-06-05T00:00:00.000000000",
          "2021-06-06T00:00:00.000000000",
          "2021-06-07T00:00:00.000000000",
          "2021-06-08T00:00:00.000000000",
          "2021-06-09T00:00:00.000000000",
          "2021-06-10T00:00:00.000000000",
          "2021-06-11T00:00:00.000000000",
          "2021-06-12T00:00:00.000000000",
          "2021-06-13T00:00:00.000000000",
          "2021-06-14T00:00:00.000000000",
          "2021-06-15T00:00:00.000000000",
          "2021-06-16T00:00:00.000000000",
          "2021-06-17T00:00:00.000000000",
          "2021-06-18T00:00:00.000000000",
          "2021-06-19T00:00:00.000000000",
          "2021-06-20T00:00:00.000000000",
          "2021-06-21T00:00:00.000000000",
          "2021-06-22T00:00:00.000000000",
          "2021-06-23T00:00:00.000000000",
          "2021-06-24T00:00:00.000000000",
          "2021-06-25T00:00:00.000000000",
          "2021-06-26T00:00:00.000000000",
          "2021-06-27T00:00:00.000000000",
          "2021-06-28T00:00:00.000000000",
          "2021-06-29T00:00:00.000000000",
          "2021-06-30T00:00:00.000000000",
          "2021-07-01T00:00:00.000000000",
          "2021-07-02T00:00:00.000000000",
          "2021-07-03T00:00:00.000000000",
          "2021-07-04T00:00:00.000000000",
          "2021-07-05T00:00:00.000000000",
          "2021-07-06T00:00:00.000000000",
          "2021-07-07T00:00:00.000000000",
          "2021-07-08T00:00:00.000000000",
          "2021-07-09T00:00:00.000000000",
          "2021-07-10T00:00:00.000000000",
          "2021-07-11T00:00:00.000000000",
          "2021-07-12T00:00:00.000000000",
          "2021-07-13T00:00:00.000000000",
          "2021-07-14T00:00:00.000000000",
          "2021-07-15T00:00:00.000000000",
          "2021-07-16T00:00:00.000000000",
          "2021-07-17T00:00:00.000000000",
          "2021-07-18T00:00:00.000000000",
          "2021-07-19T00:00:00.000000000",
          "2021-07-20T00:00:00.000000000",
          "2021-07-21T00:00:00.000000000",
          "2021-07-22T00:00:00.000000000",
          "2021-07-23T00:00:00.000000000",
          "2021-07-24T00:00:00.000000000",
          "2021-07-25T00:00:00.000000000",
          "2021-07-26T00:00:00.000000000",
          "2021-07-27T00:00:00.000000000",
          "2021-07-28T00:00:00.000000000",
          "2021-07-29T00:00:00.000000000",
          "2021-07-30T00:00:00.000000000",
          "2021-07-31T00:00:00.000000000",
          "2021-08-01T00:00:00.000000000",
          "2021-08-02T00:00:00.000000000",
          "2021-08-03T00:00:00.000000000",
          "2021-08-04T00:00:00.000000000",
          "2021-08-05T00:00:00.000000000",
          "2021-08-06T00:00:00.000000000",
          "2021-08-07T00:00:00.000000000",
          "2021-08-08T00:00:00.000000000",
          "2021-08-09T00:00:00.000000000",
          "2021-08-10T00:00:00.000000000",
          "2021-08-11T00:00:00.000000000",
          "2021-08-12T00:00:00.000000000",
          "2021-08-13T00:00:00.000000000",
          "2021-08-14T00:00:00.000000000",
          "2021-08-15T00:00:00.000000000",
          "2021-08-16T00:00:00.000000000",
          "2021-08-17T00:00:00.000000000",
          "2021-08-18T00:00:00.000000000",
          "2021-08-19T00:00:00.000000000",
          "2021-08-20T00:00:00.000000000",
          "2021-08-21T00:00:00.000000000",
          "2021-08-22T00:00:00.000000000",
          "2021-08-23T00:00:00.000000000",
          "2021-08-24T00:00:00.000000000",
          "2021-08-25T00:00:00.000000000",
          "2021-08-26T00:00:00.000000000",
          "2021-08-27T00:00:00.000000000",
          "2021-08-28T00:00:00.000000000",
          "2021-08-29T00:00:00.000000000",
          "2021-08-30T00:00:00.000000000",
          "2021-08-31T00:00:00.000000000",
          "2021-09-01T00:00:00.000000000",
          "2021-09-02T00:00:00.000000000",
          "2021-09-03T00:00:00.000000000",
          "2021-09-04T00:00:00.000000000",
          "2021-09-05T00:00:00.000000000",
          "2021-09-06T00:00:00.000000000",
          "2021-09-07T00:00:00.000000000",
          "2021-09-08T00:00:00.000000000",
          "2021-09-09T00:00:00.000000000",
          "2021-09-10T00:00:00.000000000",
          "2021-09-11T00:00:00.000000000",
          "2021-09-12T00:00:00.000000000",
          "2021-09-13T00:00:00.000000000",
          "2021-09-14T00:00:00.000000000",
          "2021-09-15T00:00:00.000000000",
          "2021-09-16T00:00:00.000000000",
          "2021-09-17T00:00:00.000000000",
          "2021-09-18T00:00:00.000000000",
          "2021-09-19T00:00:00.000000000",
          "2021-09-20T00:00:00.000000000",
          "2021-09-21T00:00:00.000000000",
          "2021-09-22T00:00:00.000000000",
          "2021-09-23T00:00:00.000000000",
          "2021-09-24T00:00:00.000000000",
          "2021-09-25T00:00:00.000000000",
          "2021-09-26T00:00:00.000000000",
          "2021-09-27T00:00:00.000000000",
          "2021-09-28T00:00:00.000000000",
          "2021-09-29T00:00:00.000000000",
          "2021-09-30T00:00:00.000000000",
          "2021-10-01T00:00:00.000000000",
          "2021-10-02T00:00:00.000000000",
          "2021-10-03T00:00:00.000000000",
          "2021-10-04T00:00:00.000000000",
          "2021-10-05T00:00:00.000000000",
          "2021-10-06T00:00:00.000000000",
          "2021-10-07T00:00:00.000000000",
          "2021-10-08T00:00:00.000000000",
          "2021-10-09T00:00:00.000000000",
          "2021-10-10T00:00:00.000000000",
          "2021-10-11T00:00:00.000000000",
          "2021-10-12T00:00:00.000000000",
          "2021-10-13T00:00:00.000000000",
          "2021-10-14T00:00:00.000000000",
          "2021-10-15T00:00:00.000000000",
          "2021-10-16T00:00:00.000000000",
          "2021-10-17T00:00:00.000000000",
          "2021-10-18T00:00:00.000000000",
          "2021-10-19T00:00:00.000000000",
          "2021-10-20T00:00:00.000000000",
          "2021-10-21T00:00:00.000000000",
          "2021-10-22T00:00:00.000000000",
          "2021-10-23T00:00:00.000000000",
          "2021-10-24T00:00:00.000000000",
          "2021-10-25T00:00:00.000000000",
          "2021-10-26T00:00:00.000000000",
          "2021-10-27T00:00:00.000000000",
          "2021-10-28T00:00:00.000000000",
          "2021-10-29T00:00:00.000000000",
          "2021-10-30T00:00:00.000000000",
          "2021-10-31T00:00:00.000000000",
          "2021-11-01T00:00:00.000000000",
          "2021-11-02T00:00:00.000000000",
          "2021-11-03T00:00:00.000000000",
          "2021-11-04T00:00:00.000000000",
          "2021-11-05T00:00:00.000000000",
          "2021-11-06T00:00:00.000000000",
          "2021-11-07T00:00:00.000000000",
          "2021-11-08T00:00:00.000000000",
          "2021-11-09T00:00:00.000000000",
          "2021-11-10T00:00:00.000000000",
          "2021-11-11T00:00:00.000000000",
          "2021-11-12T00:00:00.000000000",
          "2021-11-13T00:00:00.000000000",
          "2021-11-14T00:00:00.000000000",
          "2021-11-15T00:00:00.000000000",
          "2021-11-16T00:00:00.000000000",
          "2021-11-17T00:00:00.000000000",
          "2021-11-18T00:00:00.000000000",
          "2021-11-19T00:00:00.000000000",
          "2021-11-20T00:00:00.000000000",
          "2021-11-21T00:00:00.000000000",
          "2021-11-22T00:00:00.000000000",
          "2021-11-23T00:00:00.000000000",
          "2021-11-24T00:00:00.000000000",
          "2021-11-25T00:00:00.000000000",
          "2021-11-26T00:00:00.000000000",
          "2021-11-27T00:00:00.000000000",
          "2021-11-28T00:00:00.000000000",
          "2021-11-29T00:00:00.000000000",
          "2021-11-30T00:00:00.000000000",
          "2021-12-01T00:00:00.000000000",
          "2021-12-02T00:00:00.000000000",
          "2021-12-03T00:00:00.000000000",
          "2021-12-04T00:00:00.000000000",
          "2021-12-05T00:00:00.000000000",
          "2021-12-06T00:00:00.000000000",
          "2021-12-07T00:00:00.000000000",
          "2021-12-08T00:00:00.000000000",
          "2021-12-09T00:00:00.000000000",
          "2021-12-10T00:00:00.000000000",
          "2021-12-11T00:00:00.000000000",
          "2021-12-12T00:00:00.000000000",
          "2021-12-13T00:00:00.000000000",
          "2021-12-14T00:00:00.000000000",
          "2021-12-15T00:00:00.000000000",
          "2021-12-16T00:00:00.000000000",
          "2021-12-17T00:00:00.000000000",
          "2021-12-18T00:00:00.000000000",
          "2021-12-19T00:00:00.000000000",
          "2021-12-20T00:00:00.000000000",
          "2021-12-21T00:00:00.000000000",
          "2021-12-22T00:00:00.000000000",
          "2021-12-23T00:00:00.000000000",
          "2021-12-24T00:00:00.000000000",
          "2021-12-25T00:00:00.000000000",
          "2021-12-26T00:00:00.000000000",
          "2021-12-27T00:00:00.000000000",
          "2021-12-28T00:00:00.000000000",
          "2021-12-29T00:00:00.000000000",
          "2021-12-30T00:00:00.000000000",
          "2021-12-31T00:00:00.000000000",
          "2022-01-01T00:00:00.000000000",
          "2022-01-02T00:00:00.000000000",
          "2022-01-03T00:00:00.000000000",
          "2022-01-04T00:00:00.000000000",
          "2022-01-05T00:00:00.000000000",
          "2022-01-06T00:00:00.000000000",
          "2022-01-07T00:00:00.000000000",
          "2022-01-08T00:00:00.000000000",
          "2022-01-09T00:00:00.000000000",
          "2022-01-10T00:00:00.000000000",
          "2022-01-11T00:00:00.000000000",
          "2022-01-12T00:00:00.000000000",
          "2022-01-13T00:00:00.000000000",
          "2022-01-14T00:00:00.000000000",
          "2022-01-15T00:00:00.000000000",
          "2022-01-16T00:00:00.000000000",
          "2022-01-17T00:00:00.000000000",
          "2022-01-18T00:00:00.000000000",
          "2022-01-19T00:00:00.000000000",
          "2022-01-20T00:00:00.000000000",
          "2022-01-21T00:00:00.000000000",
          "2022-01-22T00:00:00.000000000",
          "2022-01-23T00:00:00.000000000",
          "2022-01-24T00:00:00.000000000",
          "2022-01-25T00:00:00.000000000",
          "2022-01-26T00:00:00.000000000",
          "2022-01-27T00:00:00.000000000",
          "2022-01-28T00:00:00.000000000",
          "2022-01-29T00:00:00.000000000",
          "2022-01-30T00:00:00.000000000",
          "2022-01-31T00:00:00.000000000",
          "2022-02-01T00:00:00.000000000",
          "2022-02-02T00:00:00.000000000",
          "2022-02-03T00:00:00.000000000",
          "2022-02-04T00:00:00.000000000",
          "2022-02-05T00:00:00.000000000",
          "2022-02-06T00:00:00.000000000",
          "2022-02-07T00:00:00.000000000",
          "2022-02-08T00:00:00.000000000",
          "2022-02-09T00:00:00.000000000",
          "2022-02-10T00:00:00.000000000",
          "2022-02-11T00:00:00.000000000",
          "2022-02-12T00:00:00.000000000",
          "2022-02-13T00:00:00.000000000",
          "2022-02-14T00:00:00.000000000",
          "2022-02-15T00:00:00.000000000",
          "2022-02-16T00:00:00.000000000",
          "2022-02-17T00:00:00.000000000",
          "2022-02-18T00:00:00.000000000",
          "2022-02-19T00:00:00.000000000",
          "2022-02-20T00:00:00.000000000",
          "2022-02-21T00:00:00.000000000",
          "2022-02-22T00:00:00.000000000",
          "2022-02-23T00:00:00.000000000",
          "2022-02-24T00:00:00.000000000",
          "2022-02-25T00:00:00.000000000",
          "2022-02-26T00:00:00.000000000",
          "2022-02-27T00:00:00.000000000",
          "2022-02-28T00:00:00.000000000",
          "2022-03-01T00:00:00.000000000",
          "2022-03-02T00:00:00.000000000",
          "2022-03-03T00:00:00.000000000",
          "2022-03-04T00:00:00.000000000",
          "2022-03-05T00:00:00.000000000",
          "2022-03-06T00:00:00.000000000",
          "2022-03-07T00:00:00.000000000",
          "2022-03-08T00:00:00.000000000",
          "2022-03-09T00:00:00.000000000",
          "2022-03-10T00:00:00.000000000",
          "2022-03-11T00:00:00.000000000",
          "2022-03-12T00:00:00.000000000",
          "2022-03-13T00:00:00.000000000",
          "2022-03-14T00:00:00.000000000",
          "2022-03-15T00:00:00.000000000",
          "2022-03-16T00:00:00.000000000",
          "2022-03-17T00:00:00.000000000",
          "2022-03-18T00:00:00.000000000",
          "2022-03-19T00:00:00.000000000",
          "2022-03-20T00:00:00.000000000",
          "2022-03-21T00:00:00.000000000",
          "2022-03-22T00:00:00.000000000",
          "2022-03-23T00:00:00.000000000",
          "2022-03-24T00:00:00.000000000",
          "2022-03-25T00:00:00.000000000",
          "2022-03-26T00:00:00.000000000",
          "2022-03-27T00:00:00.000000000",
          "2022-03-28T00:00:00.000000000",
          "2022-03-29T00:00:00.000000000",
          "2022-03-30T00:00:00.000000000",
          "2022-03-31T00:00:00.000000000",
          "2022-04-01T00:00:00.000000000",
          "2022-04-02T00:00:00.000000000",
          "2022-04-03T00:00:00.000000000",
          "2022-04-04T00:00:00.000000000",
          "2022-04-05T00:00:00.000000000",
          "2022-04-06T00:00:00.000000000",
          "2022-04-07T00:00:00.000000000",
          "2022-04-08T00:00:00.000000000",
          "2022-04-09T00:00:00.000000000",
          "2022-04-10T00:00:00.000000000",
          "2022-04-11T00:00:00.000000000",
          "2022-04-12T00:00:00.000000000",
          "2022-04-13T00:00:00.000000000",
          "2022-04-14T00:00:00.000000000",
          "2022-04-15T00:00:00.000000000",
          "2022-04-16T00:00:00.000000000",
          "2022-04-17T00:00:00.000000000",
          "2022-04-18T00:00:00.000000000",
          "2022-04-19T00:00:00.000000000",
          "2022-04-20T00:00:00.000000000",
          "2022-04-21T00:00:00.000000000",
          "2022-04-22T00:00:00.000000000",
          "2022-04-23T00:00:00.000000000",
          "2022-04-24T00:00:00.000000000",
          "2022-04-25T00:00:00.000000000",
          "2022-04-26T00:00:00.000000000",
          "2022-04-27T00:00:00.000000000",
          "2022-04-28T00:00:00.000000000",
          "2022-04-29T00:00:00.000000000",
          "2022-04-30T00:00:00.000000000",
          "2022-05-01T00:00:00.000000000",
          "2022-05-02T00:00:00.000000000",
          "2022-05-03T00:00:00.000000000",
          "2022-05-04T00:00:00.000000000",
          "2022-05-05T00:00:00.000000000",
          "2022-05-06T00:00:00.000000000",
          "2022-05-07T00:00:00.000000000",
          "2022-05-08T00:00:00.000000000",
          "2022-05-09T00:00:00.000000000",
          "2022-05-10T00:00:00.000000000",
          "2022-05-11T00:00:00.000000000",
          "2022-05-12T00:00:00.000000000",
          "2022-05-13T00:00:00.000000000",
          "2022-05-14T00:00:00.000000000",
          "2022-05-15T00:00:00.000000000",
          "2022-05-16T00:00:00.000000000",
          "2022-05-17T00:00:00.000000000",
          "2022-05-18T00:00:00.000000000",
          "2022-05-19T00:00:00.000000000",
          "2022-05-20T00:00:00.000000000",
          "2022-05-21T00:00:00.000000000",
          "2022-05-22T00:00:00.000000000",
          "2022-05-23T00:00:00.000000000",
          "2022-05-24T00:00:00.000000000",
          "2022-05-25T00:00:00.000000000",
          "2022-05-26T00:00:00.000000000",
          "2022-05-27T00:00:00.000000000",
          "2022-05-28T00:00:00.000000000",
          "2022-05-29T00:00:00.000000000",
          "2022-05-30T00:00:00.000000000",
          "2022-05-31T00:00:00.000000000",
          "2022-06-01T00:00:00.000000000",
          "2022-06-02T00:00:00.000000000",
          "2022-06-03T00:00:00.000000000",
          "2022-06-04T00:00:00.000000000",
          "2022-06-05T00:00:00.000000000",
          "2022-06-06T00:00:00.000000000",
          "2022-06-07T00:00:00.000000000",
          "2022-06-08T00:00:00.000000000",
          "2022-06-09T00:00:00.000000000",
          "2022-06-10T00:00:00.000000000",
          "2022-06-11T00:00:00.000000000",
          "2022-06-12T00:00:00.000000000",
          "2022-06-13T00:00:00.000000000",
          "2022-06-14T00:00:00.000000000",
          "2022-06-15T00:00:00.000000000",
          "2022-06-16T00:00:00.000000000",
          "2022-06-17T00:00:00.000000000",
          "2022-06-18T00:00:00.000000000",
          "2022-06-19T00:00:00.000000000",
          "2022-06-20T00:00:00.000000000",
          "2022-06-21T00:00:00.000000000",
          "2022-06-22T00:00:00.000000000",
          "2022-06-23T00:00:00.000000000",
          "2022-06-24T00:00:00.000000000",
          "2022-06-25T00:00:00.000000000",
          "2022-06-26T00:00:00.000000000",
          "2022-06-27T00:00:00.000000000",
          "2022-06-28T00:00:00.000000000",
          "2022-06-29T00:00:00.000000000",
          "2022-06-30T00:00:00.000000000",
          "2022-07-01T00:00:00.000000000",
          "2022-07-02T00:00:00.000000000",
          "2022-07-03T00:00:00.000000000",
          "2022-07-04T00:00:00.000000000",
          "2022-07-05T00:00:00.000000000",
          "2022-07-06T00:00:00.000000000",
          "2022-07-07T00:00:00.000000000",
          "2022-07-08T00:00:00.000000000",
          "2022-07-09T00:00:00.000000000",
          "2022-07-10T00:00:00.000000000",
          "2022-07-11T00:00:00.000000000",
          "2022-07-12T00:00:00.000000000",
          "2022-07-13T00:00:00.000000000",
          "2022-07-14T00:00:00.000000000",
          "2022-07-15T00:00:00.000000000",
          "2022-07-16T00:00:00.000000000",
          "2022-07-17T00:00:00.000000000",
          "2022-07-18T00:00:00.000000000",
          "2022-07-19T00:00:00.000000000",
          "2022-07-20T00:00:00.000000000",
          "2022-07-21T00:00:00.000000000",
          "2022-07-22T00:00:00.000000000",
          "2022-07-23T00:00:00.000000000",
          "2022-07-24T00:00:00.000000000",
          "2022-07-25T00:00:00.000000000",
          "2022-07-26T00:00:00.000000000",
          "2022-07-27T00:00:00.000000000",
          "2022-07-28T00:00:00.000000000",
          "2022-07-29T00:00:00.000000000",
          "2022-07-30T00:00:00.000000000",
          "2022-07-31T00:00:00.000000000",
          "2022-08-01T00:00:00.000000000",
          "2022-08-02T00:00:00.000000000",
          "2022-08-03T00:00:00.000000000",
          "2022-08-04T00:00:00.000000000",
          "2022-08-05T00:00:00.000000000",
          "2022-08-06T00:00:00.000000000",
          "2022-08-07T00:00:00.000000000",
          "2022-08-08T00:00:00.000000000",
          "2022-08-09T00:00:00.000000000",
          "2022-08-10T00:00:00.000000000",
          "2022-08-11T00:00:00.000000000",
          "2022-08-12T00:00:00.000000000",
          "2022-08-13T00:00:00.000000000",
          "2022-08-14T00:00:00.000000000",
          "2022-08-15T00:00:00.000000000",
          "2022-08-16T00:00:00.000000000",
          "2022-08-17T00:00:00.000000000",
          "2022-08-18T00:00:00.000000000",
          "2022-08-19T00:00:00.000000000",
          "2022-08-20T00:00:00.000000000",
          "2022-08-21T00:00:00.000000000",
          "2022-08-22T00:00:00.000000000",
          "2022-08-23T00:00:00.000000000",
          "2022-08-24T00:00:00.000000000",
          "2022-08-25T00:00:00.000000000",
          "2022-08-26T00:00:00.000000000",
          "2022-08-27T00:00:00.000000000",
          "2022-08-28T00:00:00.000000000",
          "2022-08-29T00:00:00.000000000",
          "2022-08-30T00:00:00.000000000",
          "2022-08-31T00:00:00.000000000",
          "2022-09-01T00:00:00.000000000",
          "2022-09-02T00:00:00.000000000",
          "2022-09-03T00:00:00.000000000",
          "2022-09-04T00:00:00.000000000",
          "2022-09-05T00:00:00.000000000",
          "2022-09-06T00:00:00.000000000",
          "2022-09-07T00:00:00.000000000",
          "2022-09-08T00:00:00.000000000",
          "2022-09-09T00:00:00.000000000",
          "2022-09-10T00:00:00.000000000",
          "2022-09-11T00:00:00.000000000",
          "2022-09-12T00:00:00.000000000",
          "2022-09-13T00:00:00.000000000",
          "2022-09-14T00:00:00.000000000",
          "2022-09-15T00:00:00.000000000",
          "2022-09-16T00:00:00.000000000",
          "2022-09-17T00:00:00.000000000",
          "2022-09-18T00:00:00.000000000",
          "2022-09-19T00:00:00.000000000",
          "2022-09-20T00:00:00.000000000",
          "2022-09-21T00:00:00.000000000",
          "2022-09-22T00:00:00.000000000",
          "2022-09-23T00:00:00.000000000",
          "2022-09-24T00:00:00.000000000",
          "2022-09-25T00:00:00.000000000",
          "2022-09-26T00:00:00.000000000",
          "2022-09-27T00:00:00.000000000",
          "2022-09-28T00:00:00.000000000",
          "2022-09-29T00:00:00.000000000",
          "2022-09-30T00:00:00.000000000",
          "2022-10-01T00:00:00.000000000",
          "2022-10-02T00:00:00.000000000",
          "2022-10-03T00:00:00.000000000",
          "2022-10-04T00:00:00.000000000",
          "2022-10-05T00:00:00.000000000",
          "2022-10-06T00:00:00.000000000",
          "2022-10-07T00:00:00.000000000",
          "2022-10-08T00:00:00.000000000",
          "2022-10-09T00:00:00.000000000",
          "2022-10-10T00:00:00.000000000",
          "2022-10-11T00:00:00.000000000",
          "2022-10-12T00:00:00.000000000",
          "2022-10-13T00:00:00.000000000",
          "2022-10-14T00:00:00.000000000",
          "2022-10-15T00:00:00.000000000",
          "2022-10-16T00:00:00.000000000",
          "2022-10-17T00:00:00.000000000",
          "2022-10-18T00:00:00.000000000",
          "2022-10-19T00:00:00.000000000",
          "2022-10-20T00:00:00.000000000",
          "2022-10-21T00:00:00.000000000",
          "2022-10-22T00:00:00.000000000",
          "2022-10-23T00:00:00.000000000",
          "2022-10-24T00:00:00.000000000",
          "2022-10-25T00:00:00.000000000",
          "2022-10-26T00:00:00.000000000",
          "2022-10-27T00:00:00.000000000",
          "2022-10-28T00:00:00.000000000",
          "2022-10-29T00:00:00.000000000",
          "2022-10-30T00:00:00.000000000",
          "2022-10-31T00:00:00.000000000",
          "2022-11-01T00:00:00.000000000",
          "2022-11-02T00:00:00.000000000",
          "2022-11-03T00:00:00.000000000",
          "2022-11-04T00:00:00.000000000",
          "2022-11-05T00:00:00.000000000",
          "2022-11-06T00:00:00.000000000",
          "2022-11-07T00:00:00.000000000",
          "2022-11-08T00:00:00.000000000",
          "2022-11-09T00:00:00.000000000",
          "2022-11-10T00:00:00.000000000",
          "2022-11-11T00:00:00.000000000",
          "2022-11-12T00:00:00.000000000",
          "2022-11-13T00:00:00.000000000",
          "2022-11-14T00:00:00.000000000",
          "2022-11-15T00:00:00.000000000",
          "2022-11-16T00:00:00.000000000",
          "2022-11-17T00:00:00.000000000",
          "2022-11-18T00:00:00.000000000",
          "2022-11-19T00:00:00.000000000",
          "2022-11-20T00:00:00.000000000",
          "2022-11-21T00:00:00.000000000",
          "2022-11-22T00:00:00.000000000",
          "2022-11-23T00:00:00.000000000",
          "2022-11-24T00:00:00.000000000",
          "2022-11-25T00:00:00.000000000",
          "2022-11-26T00:00:00.000000000",
          "2022-11-27T00:00:00.000000000",
          "2022-11-28T00:00:00.000000000",
          "2022-11-29T00:00:00.000000000",
          "2022-11-30T00:00:00.000000000",
          "2022-12-01T00:00:00.000000000",
          "2022-12-02T00:00:00.000000000",
          "2022-12-03T00:00:00.000000000",
          "2022-12-04T00:00:00.000000000",
          "2022-12-05T00:00:00.000000000",
          "2022-12-06T00:00:00.000000000",
          "2022-12-07T00:00:00.000000000",
          "2022-12-08T00:00:00.000000000",
          "2022-12-09T00:00:00.000000000",
          "2022-12-10T00:00:00.000000000",
          "2022-12-11T00:00:00.000000000",
          "2022-12-12T00:00:00.000000000",
          "2022-12-13T00:00:00.000000000",
          "2022-12-14T00:00:00.000000000",
          "2022-12-15T00:00:00.000000000",
          "2022-12-16T00:00:00.000000000",
          "2022-12-17T00:00:00.000000000",
          "2022-12-18T00:00:00.000000000",
          "2022-12-19T00:00:00.000000000",
          "2022-12-20T00:00:00.000000000",
          "2022-12-21T00:00:00.000000000",
          "2022-12-22T00:00:00.000000000",
          "2022-12-23T00:00:00.000000000",
          "2022-12-24T00:00:00.000000000",
          "2022-12-25T00:00:00.000000000",
          "2022-12-26T00:00:00.000000000",
          "2022-12-27T00:00:00.000000000",
          "2022-12-28T00:00:00.000000000",
          "2022-12-29T00:00:00.000000000",
          "2022-12-30T00:00:00.000000000",
          "2022-12-31T00:00:00.000000000",
          "2023-01-01T00:00:00.000000000",
          "2023-01-02T00:00:00.000000000",
          "2023-01-03T00:00:00.000000000",
          "2023-01-04T00:00:00.000000000",
          "2023-01-05T00:00:00.000000000",
          "2023-01-06T00:00:00.000000000",
          "2023-01-07T00:00:00.000000000",
          "2023-01-08T00:00:00.000000000",
          "2023-01-09T00:00:00.000000000",
          "2023-01-10T00:00:00.000000000",
          "2023-01-11T00:00:00.000000000",
          "2023-01-12T00:00:00.000000000",
          "2023-01-13T00:00:00.000000000",
          "2023-01-14T00:00:00.000000000",
          "2023-01-15T00:00:00.000000000",
          "2023-01-16T00:00:00.000000000",
          "2023-01-17T00:00:00.000000000",
          "2023-01-18T00:00:00.000000000",
          "2023-01-19T00:00:00.000000000",
          "2023-01-20T00:00:00.000000000",
          "2023-01-21T00:00:00.000000000",
          "2023-01-22T00:00:00.000000000",
          "2023-01-23T00:00:00.000000000",
          "2023-01-24T00:00:00.000000000",
          "2023-01-25T00:00:00.000000000",
          "2023-01-26T00:00:00.000000000",
          "2023-01-27T00:00:00.000000000",
          "2023-01-28T00:00:00.000000000",
          "2023-01-29T00:00:00.000000000",
          "2023-01-30T00:00:00.000000000",
          "2023-01-31T00:00:00.000000000",
          "2023-02-01T00:00:00.000000000",
          "2023-02-02T00:00:00.000000000",
          "2023-02-03T00:00:00.000000000",
          "2023-02-04T00:00:00.000000000",
          "2023-02-05T00:00:00.000000000",
          "2023-02-06T00:00:00.000000000",
          "2023-02-07T00:00:00.000000000",
          "2023-02-08T00:00:00.000000000",
          "2023-02-09T00:00:00.000000000",
          "2023-02-10T00:00:00.000000000",
          "2023-02-11T00:00:00.000000000",
          "2023-02-12T00:00:00.000000000",
          "2023-02-13T00:00:00.000000000",
          "2023-02-14T00:00:00.000000000",
          "2023-02-15T00:00:00.000000000",
          "2023-02-16T00:00:00.000000000",
          "2023-02-17T00:00:00.000000000",
          "2023-02-18T00:00:00.000000000",
          "2023-02-19T00:00:00.000000000",
          "2023-02-20T00:00:00.000000000",
          "2023-02-21T00:00:00.000000000",
          "2023-02-22T00:00:00.000000000",
          "2023-02-23T00:00:00.000000000",
          "2023-02-24T00:00:00.000000000",
          "2023-02-25T00:00:00.000000000",
          "2023-02-26T00:00:00.000000000",
          "2023-02-27T00:00:00.000000000",
          "2023-02-28T00:00:00.000000000",
          "2023-03-01T00:00:00.000000000",
          "2023-03-02T00:00:00.000000000",
          "2023-03-03T00:00:00.000000000",
          "2023-03-04T00:00:00.000000000",
          "2023-03-05T00:00:00.000000000",
          "2023-03-06T00:00:00.000000000",
          "2023-03-07T00:00:00.000000000",
          "2023-03-08T00:00:00.000000000",
          "2023-03-09T00:00:00.000000000",
          "2023-03-10T00:00:00.000000000",
          "2023-03-11T00:00:00.000000000",
          "2023-03-12T00:00:00.000000000",
          "2023-03-13T00:00:00.000000000",
          "2023-03-14T00:00:00.000000000",
          "2023-03-15T00:00:00.000000000",
          "2023-03-16T00:00:00.000000000",
          "2023-03-17T00:00:00.000000000",
          "2023-03-18T00:00:00.000000000",
          "2023-03-19T00:00:00.000000000",
          "2023-03-20T00:00:00.000000000",
          "2023-03-21T00:00:00.000000000",
          "2023-03-22T00:00:00.000000000",
          "2023-03-23T00:00:00.000000000",
          "2023-03-24T00:00:00.000000000",
          "2023-03-25T00:00:00.000000000",
          "2023-03-26T00:00:00.000000000",
          "2023-03-27T00:00:00.000000000",
          "2023-03-28T00:00:00.000000000",
          "2023-03-29T00:00:00.000000000",
          "2023-03-30T00:00:00.000000000",
          "2023-03-31T00:00:00.000000000",
          "2023-04-01T00:00:00.000000000",
          "2023-04-02T00:00:00.000000000",
          "2023-04-03T00:00:00.000000000",
          "2023-04-04T00:00:00.000000000",
          "2023-04-05T00:00:00.000000000",
          "2023-04-06T00:00:00.000000000",
          "2023-04-07T00:00:00.000000000"
         ],
         "y": {
          "bdata": "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",
          "dtype": "f8"
         }
        },
        {
         "line": {
          "color": "green",
          "dash": "dash"
         },
         "mode": "lines",
         "name": "Germany - Forecast",
         "type": "scatter",
         "x": [
          "2023-04-08T00:00:00.000000000",
          "2023-04-09T00:00:00.000000000",
          "2023-04-10T00:00:00.000000000",
          "2023-04-11T00:00:00.000000000",
          "2023-04-12T00:00:00.000000000",
          "2023-04-13T00:00:00.000000000",
          "2023-04-14T00:00:00.000000000",
          "2023-04-15T00:00:00.000000000",
          "2023-04-16T00:00:00.000000000",
          "2023-04-17T00:00:00.000000000",
          "2023-04-18T00:00:00.000000000",
          "2023-04-19T00:00:00.000000000",
          "2023-04-20T00:00:00.000000000",
          "2023-04-21T00:00:00.000000000",
          "2023-04-22T00:00:00.000000000",
          "2023-04-23T00:00:00.000000000",
          "2023-04-24T00:00:00.000000000",
          "2023-04-25T00:00:00.000000000",
          "2023-04-26T00:00:00.000000000",
          "2023-04-27T00:00:00.000000000",
          "2023-04-28T00:00:00.000000000",
          "2023-04-29T00:00:00.000000000",
          "2023-04-30T00:00:00.000000000",
          "2023-05-01T00:00:00.000000000",
          "2023-05-02T00:00:00.000000000",
          "2023-05-03T00:00:00.000000000",
          "2023-05-04T00:00:00.000000000",
          "2023-05-05T00:00:00.000000000",
          "2023-05-06T00:00:00.000000000",
          "2023-05-07T00:00:00.000000000",
          "2023-05-08T00:00:00.000000000",
          "2023-05-09T00:00:00.000000000",
          "2023-05-10T00:00:00.000000000",
          "2023-05-11T00:00:00.000000000",
          "2023-05-12T00:00:00.000000000",
          "2023-05-13T00:00:00.000000000",
          "2023-05-14T00:00:00.000000000",
          "2023-05-15T00:00:00.000000000",
          "2023-05-16T00:00:00.000000000",
          "2023-05-17T00:00:00.000000000",
          "2023-05-18T00:00:00.000000000",
          "2023-05-19T00:00:00.000000000",
          "2023-05-20T00:00:00.000000000",
          "2023-05-21T00:00:00.000000000",
          "2023-05-22T00:00:00.000000000",
          "2023-05-23T00:00:00.000000000",
          "2023-05-24T00:00:00.000000000",
          "2023-05-25T00:00:00.000000000",
          "2023-05-26T00:00:00.000000000",
          "2023-05-27T00:00:00.000000000",
          "2023-05-28T00:00:00.000000000",
          "2023-05-29T00:00:00.000000000",
          "2023-05-30T00:00:00.000000000",
          "2023-05-31T00:00:00.000000000",
          "2023-06-01T00:00:00.000000000",
          "2023-06-02T00:00:00.000000000",
          "2023-06-03T00:00:00.000000000",
          "2023-06-04T00:00:00.000000000",
          "2023-06-05T00:00:00.000000000",
          "2023-06-06T00:00:00.000000000",
          "2023-06-07T00:00:00.000000000",
          "2023-06-08T00:00:00.000000000",
          "2023-06-09T00:00:00.000000000",
          "2023-06-10T00:00:00.000000000",
          "2023-06-11T00:00:00.000000000",
          "2023-06-12T00:00:00.000000000",
          "2023-06-13T00:00:00.000000000",
          "2023-06-14T00:00:00.000000000",
          "2023-06-15T00:00:00.000000000",
          "2023-06-16T00:00:00.000000000",
          "2023-06-17T00:00:00.000000000",
          "2023-06-18T00:00:00.000000000",
          "2023-06-19T00:00:00.000000000",
          "2023-06-20T00:00:00.000000000",
          "2023-06-21T00:00:00.000000000",
          "2023-06-22T00:00:00.000000000",
          "2023-06-23T00:00:00.000000000",
          "2023-06-24T00:00:00.000000000",
          "2023-06-25T00:00:00.000000000",
          "2023-06-26T00:00:00.000000000",
          "2023-06-27T00:00:00.000000000",
          "2023-06-28T00:00:00.000000000",
          "2023-06-29T00:00:00.000000000",
          "2023-06-30T00:00:00.000000000",
          "2023-07-01T00:00:00.000000000",
          "2023-07-02T00:00:00.000000000",
          "2023-07-03T00:00:00.000000000",
          "2023-07-04T00:00:00.000000000",
          "2023-07-05T00:00:00.000000000",
          "2023-07-06T00:00:00.000000000"
         ],
         "y": {
          "bdata": "j8L1KFwPU0CPwvUoXA9TQI/C9ShcD1NAj8L1KFwPU0CPwvUoXA9TQI/C9ShcD1NAj8L1KFwPU0CPwvUoXA9TQI/C9ShcD1NAj8L1KFwPU0CPwvUoXA9TQI/C9ShcD1NAj8L1KFwPU0CPwvUoXA9TQI/C9ShcD1NAj8L1KFwPU0CPwvUoXA9TQI/C9ShcD1NAj8L1KFwPU0CPwvUoXA9TQI/C9ShcD1NAj8L1KFwPU0CPwvUoXA9TQI/C9ShcD1NAj8L1KFwPU0CPwvUoXA9TQI/C9ShcD1NAj8L1KFwPU0CPwvUoXA9TQI/C9ShcD1NAj8L1KFwPU0CPwvUoXA9TQI/C9ShcD1NAj8L1KFwPU0CPwvUoXA9TQI/C9ShcD1NAj8L1KFwPU0CPwvUoXA9TQI/C9ShcD1NAj8L1KFwPU0CPwvUoXA9TQI/C9ShcD1NAj8L1KFwPU0CPwvUoXA9TQI/C9ShcD1NAj8L1KFwPU0CPwvUoXA9TQI/C9ShcD1NAj8L1KFwPU0CPwvUoXA9TQI/C9ShcD1NAj8L1KFwPU0CPwvUoXA9TQI/C9ShcD1NAj8L1KFwPU0CPwvUoXA9TQI/C9ShcD1NAj8L1KFwPU0CPwvUoXA9TQI/C9ShcD1NAj8L1KFwPU0CPwvUoXA9TQI/C9ShcD1NAj8L1KFwPU0CPwvUoXA9TQI/C9ShcD1NAj8L1KFwPU0CPwvUoXA9TQI/C9ShcD1NAj8L1KFwPU0CPwvUoXA9TQI/C9ShcD1NAj8L1KFwPU0CPwvUoXA9TQI/C9ShcD1NAj8L1KFwPU0CPwvUoXA9TQI/C9ShcD1NAj8L1KFwPU0CPwvUoXA9TQI/C9ShcD1NAj8L1KFwPU0CPwvUoXA9TQI/C9ShcD1NAj8L1KFwPU0CPwvUoXA9TQI/C9ShcD1NAj8L1KFwPU0CPwvUoXA9TQI/C9ShcD1NA",
          "dtype": "f8"
         }
        },
        {
         "line": {
          "color": "purple"
         },
         "mode": "lines",
         "name": "France - Historical",
         "type": "scatter",
         "x": [
          "2020-12-28T00:00:00.000000000",
          "2020-12-29T00:00:00.000000000",
          "2020-12-30T00:00:00.000000000",
          "2020-12-31T00:00:00.000000000",
          "2021-01-01T00:00:00.000000000",
          "2021-01-02T00:00:00.000000000",
          "2021-01-03T00:00:00.000000000",
          "2021-01-04T00:00:00.000000000",
          "2021-01-05T00:00:00.000000000",
          "2021-01-06T00:00:00.000000000",
          "2021-01-07T00:00:00.000000000",
          "2021-01-08T00:00:00.000000000",
          "2021-01-09T00:00:00.000000000",
          "2021-01-10T00:00:00.000000000",
          "2021-01-11T00:00:00.000000000",
          "2021-01-12T00:00:00.000000000",
          "2021-01-13T00:00:00.000000000",
          "2021-01-14T00:00:00.000000000",
          "2021-01-15T00:00:00.000000000",
          "2021-01-16T00:00:00.000000000",
          "2021-01-17T00:00:00.000000000",
          "2021-01-18T00:00:00.000000000",
          "2021-01-19T00:00:00.000000000",
          "2021-01-20T00:00:00.000000000",
          "2021-01-21T00:00:00.000000000",
          "2021-01-22T00:00:00.000000000",
          "2021-01-23T00:00:00.000000000",
          "2021-01-24T00:00:00.000000000",
          "2021-01-25T00:00:00.000000000",
          "2021-01-26T00:00:00.000000000",
          "2021-01-27T00:00:00.000000000",
          "2021-01-28T00:00:00.000000000",
          "2021-01-29T00:00:00.000000000",
          "2021-01-30T00:00:00.000000000",
          "2021-01-31T00:00:00.000000000",
          "2021-02-01T00:00:00.000000000",
          "2021-02-02T00:00:00.000000000",
          "2021-02-03T00:00:00.000000000",
          "2021-02-04T00:00:00.000000000",
          "2021-02-05T00:00:00.000000000",
          "2021-02-06T00:00:00.000000000",
          "2021-02-07T00:00:00.000000000",
          "2021-02-08T00:00:00.000000000",
          "2021-02-09T00:00:00.000000000",
          "2021-02-10T00:00:00.000000000",
          "2021-02-11T00:00:00.000000000",
          "2021-02-12T00:00:00.000000000",
          "2021-02-13T00:00:00.000000000",
          "2021-02-14T00:00:00.000000000",
          "2021-02-15T00:00:00.000000000",
          "2021-02-16T00:00:00.000000000",
          "2021-02-17T00:00:00.000000000",
          "2021-02-18T00:00:00.000000000",
          "2021-02-19T00:00:00.000000000",
          "2021-02-20T00:00:00.000000000",
          "2021-02-21T00:00:00.000000000",
          "2021-02-22T00:00:00.000000000",
          "2021-02-23T00:00:00.000000000",
          "2021-02-24T00:00:00.000000000",
          "2021-02-25T00:00:00.000000000",
          "2021-02-26T00:00:00.000000000",
          "2021-02-27T00:00:00.000000000",
          "2021-02-28T00:00:00.000000000",
          "2021-03-01T00:00:00.000000000",
          "2021-03-02T00:00:00.000000000",
          "2021-03-03T00:00:00.000000000",
          "2021-03-04T00:00:00.000000000",
          "2021-03-05T00:00:00.000000000",
          "2021-03-06T00:00:00.000000000",
          "2021-03-07T00:00:00.000000000",
          "2021-03-08T00:00:00.000000000",
          "2021-03-09T00:00:00.000000000",
          "2021-03-10T00:00:00.000000000",
          "2021-03-11T00:00:00.000000000",
          "2021-03-12T00:00:00.000000000",
          "2021-03-13T00:00:00.000000000",
          "2021-03-14T00:00:00.000000000",
          "2021-03-15T00:00:00.000000000",
          "2021-03-16T00:00:00.000000000",
          "2021-03-17T00:00:00.000000000",
          "2021-03-18T00:00:00.000000000",
          "2021-03-19T00:00:00.000000000",
          "2021-03-20T00:00:00.000000000",
          "2021-03-21T00:00:00.000000000",
          "2021-03-22T00:00:00.000000000",
          "2021-03-23T00:00:00.000000000",
          "2021-03-24T00:00:00.000000000",
          "2021-03-25T00:00:00.000000000",
          "2021-03-26T00:00:00.000000000",
          "2021-03-27T00:00:00.000000000",
          "2021-03-28T00:00:00.000000000",
          "2021-03-29T00:00:00.000000000",
          "2021-03-30T00:00:00.000000000",
          "2021-03-31T00:00:00.000000000",
          "2021-04-01T00:00:00.000000000",
          "2021-04-02T00:00:00.000000000",
          "2021-04-03T00:00:00.000000000",
          "2021-04-04T00:00:00.000000000",
          "2021-04-05T00:00:00.000000000",
          "2021-04-06T00:00:00.000000000",
          "2021-04-07T00:00:00.000000000",
          "2021-04-08T00:00:00.000000000",
          "2021-04-09T00:00:00.000000000",
          "2021-04-10T00:00:00.000000000",
          "2021-04-11T00:00:00.000000000",
          "2021-04-12T00:00:00.000000000",
          "2021-04-13T00:00:00.000000000",
          "2021-04-14T00:00:00.000000000",
          "2021-04-15T00:00:00.000000000",
          "2021-04-16T00:00:00.000000000",
          "2021-04-17T00:00:00.000000000",
          "2021-04-18T00:00:00.000000000",
          "2021-04-19T00:00:00.000000000",
          "2021-04-20T00:00:00.000000000",
          "2021-04-21T00:00:00.000000000",
          "2021-04-22T00:00:00.000000000",
          "2021-04-23T00:00:00.000000000",
          "2021-04-24T00:00:00.000000000",
          "2021-04-25T00:00:00.000000000",
          "2021-04-26T00:00:00.000000000",
          "2021-04-27T00:00:00.000000000",
          "2021-04-28T00:00:00.000000000",
          "2021-04-29T00:00:00.000000000",
          "2021-04-30T00:00:00.000000000",
          "2021-05-01T00:00:00.000000000",
          "2021-05-02T00:00:00.000000000",
          "2021-05-03T00:00:00.000000000",
          "2021-05-04T00:00:00.000000000",
          "2021-05-05T00:00:00.000000000",
          "2021-05-06T00:00:00.000000000",
          "2021-05-07T00:00:00.000000000",
          "2021-05-08T00:00:00.000000000",
          "2021-05-09T00:00:00.000000000",
          "2021-05-10T00:00:00.000000000",
          "2021-05-11T00:00:00.000000000",
          "2021-05-12T00:00:00.000000000",
          "2021-05-13T00:00:00.000000000",
          "2021-05-14T00:00:00.000000000",
          "2021-05-15T00:00:00.000000000",
          "2021-05-16T00:00:00.000000000",
          "2021-05-17T00:00:00.000000000",
          "2021-05-18T00:00:00.000000000",
          "2021-05-19T00:00:00.000000000",
          "2021-05-20T00:00:00.000000000",
          "2021-05-21T00:00:00.000000000",
          "2021-05-22T00:00:00.000000000",
          "2021-05-23T00:00:00.000000000",
          "2021-05-24T00:00:00.000000000",
          "2021-05-25T00:00:00.000000000",
          "2021-05-26T00:00:00.000000000",
          "2021-05-27T00:00:00.000000000",
          "2021-05-28T00:00:00.000000000",
          "2021-05-29T00:00:00.000000000",
          "2021-05-30T00:00:00.000000000",
          "2021-05-31T00:00:00.000000000",
          "2021-06-01T00:00:00.000000000",
          "2021-06-02T00:00:00.000000000",
          "2021-06-03T00:00:00.000000000",
          "2021-06-04T00:00:00.000000000",
          "2021-06-05T00:00:00.000000000",
          "2021-06-06T00:00:00.000000000",
          "2021-06-07T00:00:00.000000000",
          "2021-06-08T00:00:00.000000000",
          "2021-06-09T00:00:00.000000000",
          "2021-06-10T00:00:00.000000000",
          "2021-06-11T00:00:00.000000000",
          "2021-06-12T00:00:00.000000000",
          "2021-06-13T00:00:00.000000000",
          "2021-06-14T00:00:00.000000000",
          "2021-06-15T00:00:00.000000000",
          "2021-06-16T00:00:00.000000000",
          "2021-06-17T00:00:00.000000000",
          "2021-06-18T00:00:00.000000000",
          "2021-06-19T00:00:00.000000000",
          "2021-06-20T00:00:00.000000000",
          "2021-06-21T00:00:00.000000000",
          "2021-06-22T00:00:00.000000000",
          "2021-06-23T00:00:00.000000000",
          "2021-06-24T00:00:00.000000000",
          "2021-06-25T00:00:00.000000000",
          "2021-06-26T00:00:00.000000000",
          "2021-06-27T00:00:00.000000000",
          "2021-06-28T00:00:00.000000000",
          "2021-06-29T00:00:00.000000000",
          "2021-06-30T00:00:00.000000000",
          "2021-07-01T00:00:00.000000000",
          "2021-07-02T00:00:00.000000000",
          "2021-07-03T00:00:00.000000000",
          "2021-07-04T00:00:00.000000000",
          "2021-07-05T00:00:00.000000000",
          "2021-07-06T00:00:00.000000000",
          "2021-07-07T00:00:00.000000000",
          "2021-07-08T00:00:00.000000000",
          "2021-07-09T00:00:00.000000000",
          "2021-07-10T00:00:00.000000000",
          "2021-07-11T00:00:00.000000000",
          "2021-07-12T00:00:00.000000000",
          "2021-07-13T00:00:00.000000000",
          "2021-07-14T00:00:00.000000000",
          "2021-07-15T00:00:00.000000000",
          "2021-07-16T00:00:00.000000000",
          "2021-07-17T00:00:00.000000000",
          "2021-07-18T00:00:00.000000000",
          "2021-07-19T00:00:00.000000000",
          "2021-07-20T00:00:00.000000000",
          "2021-07-21T00:00:00.000000000",
          "2021-07-22T00:00:00.000000000",
          "2021-07-23T00:00:00.000000000",
          "2021-07-24T00:00:00.000000000",
          "2021-07-25T00:00:00.000000000",
          "2021-07-26T00:00:00.000000000",
          "2021-07-27T00:00:00.000000000",
          "2021-07-28T00:00:00.000000000",
          "2021-07-29T00:00:00.000000000",
          "2021-07-30T00:00:00.000000000",
          "2021-07-31T00:00:00.000000000",
          "2021-08-01T00:00:00.000000000",
          "2021-08-02T00:00:00.000000000",
          "2021-08-03T00:00:00.000000000",
          "2021-08-04T00:00:00.000000000",
          "2021-08-05T00:00:00.000000000",
          "2021-08-06T00:00:00.000000000",
          "2021-08-07T00:00:00.000000000",
          "2021-08-08T00:00:00.000000000",
          "2021-08-09T00:00:00.000000000",
          "2021-08-10T00:00:00.000000000",
          "2021-08-11T00:00:00.000000000",
          "2021-08-12T00:00:00.000000000",
          "2021-08-13T00:00:00.000000000",
          "2021-08-14T00:00:00.000000000",
          "2021-08-15T00:00:00.000000000",
          "2021-08-16T00:00:00.000000000",
          "2021-08-17T00:00:00.000000000",
          "2021-08-18T00:00:00.000000000",
          "2021-08-19T00:00:00.000000000",
          "2021-08-20T00:00:00.000000000",
          "2021-08-21T00:00:00.000000000",
          "2021-08-22T00:00:00.000000000",
          "2021-08-23T00:00:00.000000000",
          "2021-08-24T00:00:00.000000000",
          "2021-08-25T00:00:00.000000000",
          "2021-08-26T00:00:00.000000000",
          "2021-08-27T00:00:00.000000000",
          "2021-08-28T00:00:00.000000000",
          "2021-08-29T00:00:00.000000000",
          "2021-08-30T00:00:00.000000000",
          "2021-08-31T00:00:00.000000000",
          "2021-09-01T00:00:00.000000000",
          "2021-09-02T00:00:00.000000000",
          "2021-09-03T00:00:00.000000000",
          "2021-09-04T00:00:00.000000000",
          "2021-09-05T00:00:00.000000000",
          "2021-09-06T00:00:00.000000000",
          "2021-09-07T00:00:00.000000000",
          "2021-09-08T00:00:00.000000000",
          "2021-09-09T00:00:00.000000000",
          "2021-09-10T00:00:00.000000000",
          "2021-09-11T00:00:00.000000000",
          "2021-09-12T00:00:00.000000000",
          "2021-09-13T00:00:00.000000000",
          "2021-09-14T00:00:00.000000000",
          "2021-09-15T00:00:00.000000000",
          "2021-09-16T00:00:00.000000000",
          "2021-09-17T00:00:00.000000000",
          "2021-09-18T00:00:00.000000000",
          "2021-09-19T00:00:00.000000000",
          "2021-09-20T00:00:00.000000000",
          "2021-09-21T00:00:00.000000000",
          "2021-09-22T00:00:00.000000000",
          "2021-09-23T00:00:00.000000000",
          "2021-09-24T00:00:00.000000000",
          "2021-09-25T00:00:00.000000000",
          "2021-09-26T00:00:00.000000000",
          "2021-09-27T00:00:00.000000000",
          "2021-09-28T00:00:00.000000000",
          "2021-09-29T00:00:00.000000000",
          "2021-09-30T00:00:00.000000000",
          "2021-10-01T00:00:00.000000000",
          "2021-10-02T00:00:00.000000000",
          "2021-10-03T00:00:00.000000000",
          "2021-10-04T00:00:00.000000000",
          "2021-10-05T00:00:00.000000000",
          "2021-10-06T00:00:00.000000000",
          "2021-10-07T00:00:00.000000000",
          "2021-10-08T00:00:00.000000000",
          "2021-10-09T00:00:00.000000000",
          "2021-10-10T00:00:00.000000000",
          "2021-10-11T00:00:00.000000000",
          "2021-10-12T00:00:00.000000000",
          "2021-10-13T00:00:00.000000000",
          "2021-10-14T00:00:00.000000000",
          "2021-10-15T00:00:00.000000000",
          "2021-10-16T00:00:00.000000000",
          "2021-10-17T00:00:00.000000000",
          "2021-10-18T00:00:00.000000000",
          "2021-10-19T00:00:00.000000000",
          "2021-10-20T00:00:00.000000000",
          "2021-10-21T00:00:00.000000000",
          "2021-10-22T00:00:00.000000000",
          "2021-10-23T00:00:00.000000000",
          "2021-10-24T00:00:00.000000000",
          "2021-10-25T00:00:00.000000000",
          "2021-10-26T00:00:00.000000000",
          "2021-10-27T00:00:00.000000000",
          "2021-10-28T00:00:00.000000000",
          "2021-10-29T00:00:00.000000000",
          "2021-10-30T00:00:00.000000000",
          "2021-10-31T00:00:00.000000000",
          "2021-11-01T00:00:00.000000000",
          "2021-11-02T00:00:00.000000000",
          "2021-11-03T00:00:00.000000000",
          "2021-11-04T00:00:00.000000000",
          "2021-11-05T00:00:00.000000000",
          "2021-11-06T00:00:00.000000000",
          "2021-11-07T00:00:00.000000000",
          "2021-11-08T00:00:00.000000000",
          "2021-11-09T00:00:00.000000000",
          "2021-11-10T00:00:00.000000000",
          "2021-11-11T00:00:00.000000000",
          "2021-11-12T00:00:00.000000000",
          "2021-11-13T00:00:00.000000000",
          "2021-11-14T00:00:00.000000000",
          "2021-11-15T00:00:00.000000000",
          "2021-11-16T00:00:00.000000000",
          "2021-11-17T00:00:00.000000000",
          "2021-11-18T00:00:00.000000000",
          "2021-11-19T00:00:00.000000000",
          "2021-11-20T00:00:00.000000000",
          "2021-11-21T00:00:00.000000000",
          "2021-11-22T00:00:00.000000000",
          "2021-11-23T00:00:00.000000000",
          "2021-11-24T00:00:00.000000000",
          "2021-11-25T00:00:00.000000000",
          "2021-11-26T00:00:00.000000000",
          "2021-11-27T00:00:00.000000000",
          "2021-11-28T00:00:00.000000000",
          "2021-11-29T00:00:00.000000000",
          "2021-11-30T00:00:00.000000000",
          "2021-12-01T00:00:00.000000000",
          "2021-12-02T00:00:00.000000000",
          "2021-12-03T00:00:00.000000000",
          "2021-12-04T00:00:00.000000000",
          "2021-12-05T00:00:00.000000000",
          "2021-12-06T00:00:00.000000000",
          "2021-12-07T00:00:00.000000000",
          "2021-12-08T00:00:00.000000000",
          "2021-12-09T00:00:00.000000000",
          "2021-12-10T00:00:00.000000000",
          "2021-12-11T00:00:00.000000000",
          "2021-12-12T00:00:00.000000000",
          "2021-12-13T00:00:00.000000000",
          "2021-12-14T00:00:00.000000000",
          "2021-12-15T00:00:00.000000000",
          "2021-12-16T00:00:00.000000000",
          "2021-12-17T00:00:00.000000000",
          "2021-12-18T00:00:00.000000000",
          "2021-12-19T00:00:00.000000000",
          "2021-12-20T00:00:00.000000000",
          "2021-12-21T00:00:00.000000000",
          "2021-12-22T00:00:00.000000000",
          "2021-12-23T00:00:00.000000000",
          "2021-12-24T00:00:00.000000000",
          "2021-12-25T00:00:00.000000000",
          "2021-12-26T00:00:00.000000000",
          "2021-12-27T00:00:00.000000000",
          "2021-12-28T00:00:00.000000000",
          "2021-12-29T00:00:00.000000000",
          "2021-12-30T00:00:00.000000000",
          "2021-12-31T00:00:00.000000000",
          "2022-01-01T00:00:00.000000000",
          "2022-01-02T00:00:00.000000000",
          "2022-01-03T00:00:00.000000000",
          "2022-01-04T00:00:00.000000000",
          "2022-01-05T00:00:00.000000000",
          "2022-01-06T00:00:00.000000000",
          "2022-01-07T00:00:00.000000000",
          "2022-01-08T00:00:00.000000000",
          "2022-01-09T00:00:00.000000000",
          "2022-01-10T00:00:00.000000000",
          "2022-01-11T00:00:00.000000000",
          "2022-01-12T00:00:00.000000000",
          "2022-01-13T00:00:00.000000000",
          "2022-01-14T00:00:00.000000000",
          "2022-01-15T00:00:00.000000000",
          "2022-01-16T00:00:00.000000000",
          "2022-01-17T00:00:00.000000000",
          "2022-01-18T00:00:00.000000000",
          "2022-01-19T00:00:00.000000000",
          "2022-01-20T00:00:00.000000000",
          "2022-01-21T00:00:00.000000000",
          "2022-01-22T00:00:00.000000000",
          "2022-01-23T00:00:00.000000000",
          "2022-01-24T00:00:00.000000000",
          "2022-01-25T00:00:00.000000000",
          "2022-01-26T00:00:00.000000000",
          "2022-01-27T00:00:00.000000000",
          "2022-01-28T00:00:00.000000000",
          "2022-01-29T00:00:00.000000000",
          "2022-01-30T00:00:00.000000000",
          "2022-01-31T00:00:00.000000000",
          "2022-02-01T00:00:00.000000000",
          "2022-02-02T00:00:00.000000000",
          "2022-02-03T00:00:00.000000000",
          "2022-02-04T00:00:00.000000000",
          "2022-02-05T00:00:00.000000000",
          "2022-02-06T00:00:00.000000000",
          "2022-02-07T00:00:00.000000000",
          "2022-02-08T00:00:00.000000000",
          "2022-02-09T00:00:00.000000000",
          "2022-02-10T00:00:00.000000000",
          "2022-02-11T00:00:00.000000000",
          "2022-02-12T00:00:00.000000000",
          "2022-02-13T00:00:00.000000000",
          "2022-02-14T00:00:00.000000000",
          "2022-02-15T00:00:00.000000000",
          "2022-02-16T00:00:00.000000000",
          "2022-02-17T00:00:00.000000000",
          "2022-02-18T00:00:00.000000000",
          "2022-02-19T00:00:00.000000000",
          "2022-02-20T00:00:00.000000000",
          "2022-02-21T00:00:00.000000000",
          "2022-02-22T00:00:00.000000000",
          "2022-02-23T00:00:00.000000000",
          "2022-02-24T00:00:00.000000000",
          "2022-02-25T00:00:00.000000000",
          "2022-02-26T00:00:00.000000000",
          "2022-02-27T00:00:00.000000000",
          "2022-02-28T00:00:00.000000000",
          "2022-03-01T00:00:00.000000000",
          "2022-03-02T00:00:00.000000000",
          "2022-03-03T00:00:00.000000000",
          "2022-03-04T00:00:00.000000000",
          "2022-03-05T00:00:00.000000000",
          "2022-03-06T00:00:00.000000000",
          "2022-03-07T00:00:00.000000000",
          "2022-03-08T00:00:00.000000000",
          "2022-03-09T00:00:00.000000000",
          "2022-03-10T00:00:00.000000000",
          "2022-03-11T00:00:00.000000000",
          "2022-03-12T00:00:00.000000000",
          "2022-03-13T00:00:00.000000000",
          "2022-03-14T00:00:00.000000000",
          "2022-03-15T00:00:00.000000000",
          "2022-03-16T00:00:00.000000000",
          "2022-03-17T00:00:00.000000000",
          "2022-03-18T00:00:00.000000000",
          "2022-03-19T00:00:00.000000000",
          "2022-03-20T00:00:00.000000000",
          "2022-03-21T00:00:00.000000000",
          "2022-03-22T00:00:00.000000000",
          "2022-03-23T00:00:00.000000000",
          "2022-03-24T00:00:00.000000000",
          "2022-03-25T00:00:00.000000000",
          "2022-03-26T00:00:00.000000000",
          "2022-03-27T00:00:00.000000000",
          "2022-03-28T00:00:00.000000000",
          "2022-03-29T00:00:00.000000000",
          "2022-03-30T00:00:00.000000000",
          "2022-03-31T00:00:00.000000000",
          "2022-04-01T00:00:00.000000000",
          "2022-04-02T00:00:00.000000000",
          "2022-04-03T00:00:00.000000000",
          "2022-04-04T00:00:00.000000000",
          "2022-04-05T00:00:00.000000000",
          "2022-04-06T00:00:00.000000000",
          "2022-04-07T00:00:00.000000000",
          "2022-04-08T00:00:00.000000000",
          "2022-04-09T00:00:00.000000000",
          "2022-04-10T00:00:00.000000000",
          "2022-04-11T00:00:00.000000000",
          "2022-04-12T00:00:00.000000000",
          "2022-04-13T00:00:00.000000000",
          "2022-04-14T00:00:00.000000000",
          "2022-04-15T00:00:00.000000000",
          "2022-04-16T00:00:00.000000000",
          "2022-04-17T00:00:00.000000000",
          "2022-04-18T00:00:00.000000000",
          "2022-04-19T00:00:00.000000000",
          "2022-04-20T00:00:00.000000000",
          "2022-04-21T00:00:00.000000000",
          "2022-04-22T00:00:00.000000000",
          "2022-04-23T00:00:00.000000000",
          "2022-04-24T00:00:00.000000000",
          "2022-04-25T00:00:00.000000000",
          "2022-04-26T00:00:00.000000000",
          "2022-04-27T00:00:00.000000000",
          "2022-04-28T00:00:00.000000000",
          "2022-04-29T00:00:00.000000000",
          "2022-04-30T00:00:00.000000000",
          "2022-05-01T00:00:00.000000000",
          "2022-05-02T00:00:00.000000000",
          "2022-05-03T00:00:00.000000000",
          "2022-05-04T00:00:00.000000000",
          "2022-05-05T00:00:00.000000000",
          "2022-05-06T00:00:00.000000000",
          "2022-05-07T00:00:00.000000000",
          "2022-05-08T00:00:00.000000000",
          "2022-05-09T00:00:00.000000000",
          "2022-05-10T00:00:00.000000000",
          "2022-05-11T00:00:00.000000000",
          "2022-05-12T00:00:00.000000000",
          "2022-05-13T00:00:00.000000000",
          "2022-05-14T00:00:00.000000000",
          "2022-05-15T00:00:00.000000000",
          "2022-05-16T00:00:00.000000000",
          "2022-05-17T00:00:00.000000000",
          "2022-05-18T00:00:00.000000000",
          "2022-05-19T00:00:00.000000000",
          "2022-05-20T00:00:00.000000000",
          "2022-05-21T00:00:00.000000000",
          "2022-05-22T00:00:00.000000000",
          "2022-05-23T00:00:00.000000000",
          "2022-05-24T00:00:00.000000000",
          "2022-05-25T00:00:00.000000000",
          "2022-05-26T00:00:00.000000000",
          "2022-05-27T00:00:00.000000000",
          "2022-05-28T00:00:00.000000000",
          "2022-05-29T00:00:00.000000000",
          "2022-05-30T00:00:00.000000000",
          "2022-05-31T00:00:00.000000000",
          "2022-06-01T00:00:00.000000000",
          "2022-06-02T00:00:00.000000000",
          "2022-06-03T00:00:00.000000000",
          "2022-06-04T00:00:00.000000000",
          "2022-06-05T00:00:00.000000000",
          "2022-06-06T00:00:00.000000000",
          "2022-06-07T00:00:00.000000000",
          "2022-06-08T00:00:00.000000000",
          "2022-06-09T00:00:00.000000000",
          "2022-06-10T00:00:00.000000000",
          "2022-06-11T00:00:00.000000000",
          "2022-06-12T00:00:00.000000000",
          "2022-06-13T00:00:00.000000000",
          "2022-06-14T00:00:00.000000000",
          "2022-06-15T00:00:00.000000000",
          "2022-06-16T00:00:00.000000000",
          "2022-06-17T00:00:00.000000000",
          "2022-06-18T00:00:00.000000000",
          "2022-06-19T00:00:00.000000000",
          "2022-06-20T00:00:00.000000000",
          "2022-06-21T00:00:00.000000000",
          "2022-06-22T00:00:00.000000000",
          "2022-06-23T00:00:00.000000000",
          "2022-06-24T00:00:00.000000000",
          "2022-06-25T00:00:00.000000000",
          "2022-06-26T00:00:00.000000000",
          "2022-06-27T00:00:00.000000000",
          "2022-06-28T00:00:00.000000000",
          "2022-06-29T00:00:00.000000000",
          "2022-06-30T00:00:00.000000000",
          "2022-07-01T00:00:00.000000000",
          "2022-07-02T00:00:00.000000000",
          "2022-07-03T00:00:00.000000000",
          "2022-07-04T00:00:00.000000000",
          "2022-07-05T00:00:00.000000000",
          "2022-07-06T00:00:00.000000000",
          "2022-07-07T00:00:00.000000000",
          "2022-07-08T00:00:00.000000000",
          "2022-07-09T00:00:00.000000000",
          "2022-07-10T00:00:00.000000000",
          "2022-07-11T00:00:00.000000000",
          "2022-07-12T00:00:00.000000000",
          "2022-07-13T00:00:00.000000000",
          "2022-07-14T00:00:00.000000000",
          "2022-07-15T00:00:00.000000000",
          "2022-07-16T00:00:00.000000000",
          "2022-07-17T00:00:00.000000000",
          "2022-07-18T00:00:00.000000000",
          "2022-07-19T00:00:00.000000000",
          "2022-07-20T00:00:00.000000000",
          "2022-07-21T00:00:00.000000000",
          "2022-07-22T00:00:00.000000000",
          "2022-07-23T00:00:00.000000000",
          "2022-07-24T00:00:00.000000000",
          "2022-07-25T00:00:00.000000000",
          "2022-07-26T00:00:00.000000000",
          "2022-07-27T00:00:00.000000000",
          "2022-07-28T00:00:00.000000000",
          "2022-07-29T00:00:00.000000000",
          "2022-07-30T00:00:00.000000000",
          "2022-07-31T00:00:00.000000000",
          "2022-08-01T00:00:00.000000000",
          "2022-08-02T00:00:00.000000000",
          "2022-08-03T00:00:00.000000000",
          "2022-08-04T00:00:00.000000000",
          "2022-08-05T00:00:00.000000000",
          "2022-08-06T00:00:00.000000000",
          "2022-08-07T00:00:00.000000000",
          "2022-08-08T00:00:00.000000000",
          "2022-08-09T00:00:00.000000000",
          "2022-08-10T00:00:00.000000000",
          "2022-08-11T00:00:00.000000000",
          "2022-08-12T00:00:00.000000000",
          "2022-08-13T00:00:00.000000000",
          "2022-08-14T00:00:00.000000000",
          "2022-08-15T00:00:00.000000000",
          "2022-08-16T00:00:00.000000000",
          "2022-08-17T00:00:00.000000000",
          "2022-08-18T00:00:00.000000000",
          "2022-08-19T00:00:00.000000000",
          "2022-08-20T00:00:00.000000000",
          "2022-08-21T00:00:00.000000000",
          "2022-08-22T00:00:00.000000000",
          "2022-08-23T00:00:00.000000000",
          "2022-08-24T00:00:00.000000000",
          "2022-08-25T00:00:00.000000000",
          "2022-08-26T00:00:00.000000000",
          "2022-08-27T00:00:00.000000000",
          "2022-08-28T00:00:00.000000000",
          "2022-08-29T00:00:00.000000000",
          "2022-08-30T00:00:00.000000000",
          "2022-08-31T00:00:00.000000000",
          "2022-09-01T00:00:00.000000000",
          "2022-09-02T00:00:00.000000000",
          "2022-09-03T00:00:00.000000000",
          "2022-09-04T00:00:00.000000000",
          "2022-09-05T00:00:00.000000000",
          "2022-09-06T00:00:00.000000000",
          "2022-09-07T00:00:00.000000000",
          "2022-09-08T00:00:00.000000000",
          "2022-09-09T00:00:00.000000000",
          "2022-09-10T00:00:00.000000000",
          "2022-09-11T00:00:00.000000000",
          "2022-09-12T00:00:00.000000000",
          "2022-09-13T00:00:00.000000000",
          "2022-09-14T00:00:00.000000000",
          "2022-09-15T00:00:00.000000000",
          "2022-09-16T00:00:00.000000000",
          "2022-09-17T00:00:00.000000000",
          "2022-09-18T00:00:00.000000000",
          "2022-09-19T00:00:00.000000000",
          "2022-09-20T00:00:00.000000000",
          "2022-09-21T00:00:00.000000000",
          "2022-09-22T00:00:00.000000000",
          "2022-09-23T00:00:00.000000000",
          "2022-09-24T00:00:00.000000000",
          "2022-09-25T00:00:00.000000000",
          "2022-09-26T00:00:00.000000000",
          "2022-09-27T00:00:00.000000000",
          "2022-09-28T00:00:00.000000000",
          "2022-09-29T00:00:00.000000000",
          "2022-09-30T00:00:00.000000000",
          "2022-10-01T00:00:00.000000000",
          "2022-10-02T00:00:00.000000000",
          "2022-10-03T00:00:00.000000000",
          "2022-10-04T00:00:00.000000000",
          "2022-10-05T00:00:00.000000000",
          "2022-10-06T00:00:00.000000000",
          "2022-10-07T00:00:00.000000000",
          "2022-10-08T00:00:00.000000000",
          "2022-10-09T00:00:00.000000000",
          "2022-10-10T00:00:00.000000000",
          "2022-10-11T00:00:00.000000000",
          "2022-10-12T00:00:00.000000000",
          "2022-10-13T00:00:00.000000000",
          "2022-10-14T00:00:00.000000000",
          "2022-10-15T00:00:00.000000000",
          "2022-10-16T00:00:00.000000000",
          "2022-10-17T00:00:00.000000000",
          "2022-10-18T00:00:00.000000000",
          "2022-10-19T00:00:00.000000000",
          "2022-10-20T00:00:00.000000000",
          "2022-10-21T00:00:00.000000000",
          "2022-10-22T00:00:00.000000000",
          "2022-10-23T00:00:00.000000000",
          "2022-10-24T00:00:00.000000000",
          "2022-10-25T00:00:00.000000000",
          "2022-10-26T00:00:00.000000000",
          "2022-10-27T00:00:00.000000000",
          "2022-10-28T00:00:00.000000000",
          "2022-10-29T00:00:00.000000000",
          "2022-10-30T00:00:00.000000000",
          "2022-10-31T00:00:00.000000000",
          "2022-11-01T00:00:00.000000000",
          "2022-11-02T00:00:00.000000000",
          "2022-11-03T00:00:00.000000000",
          "2022-11-04T00:00:00.000000000",
          "2022-11-05T00:00:00.000000000",
          "2022-11-06T00:00:00.000000000",
          "2022-11-07T00:00:00.000000000",
          "2022-11-08T00:00:00.000000000",
          "2022-11-09T00:00:00.000000000",
          "2022-11-10T00:00:00.000000000",
          "2022-11-11T00:00:00.000000000",
          "2022-11-12T00:00:00.000000000",
          "2022-11-13T00:00:00.000000000",
          "2022-11-14T00:00:00.000000000",
          "2022-11-15T00:00:00.000000000",
          "2022-11-16T00:00:00.000000000",
          "2022-11-17T00:00:00.000000000",
          "2022-11-18T00:00:00.000000000",
          "2022-11-19T00:00:00.000000000",
          "2022-11-20T00:00:00.000000000",
          "2022-11-21T00:00:00.000000000",
          "2022-11-22T00:00:00.000000000",
          "2022-11-23T00:00:00.000000000",
          "2022-11-24T00:00:00.000000000",
          "2022-11-25T00:00:00.000000000",
          "2022-11-26T00:00:00.000000000",
          "2022-11-27T00:00:00.000000000",
          "2022-11-28T00:00:00.000000000",
          "2022-11-29T00:00:00.000000000",
          "2022-11-30T00:00:00.000000000",
          "2022-12-01T00:00:00.000000000",
          "2022-12-02T00:00:00.000000000",
          "2022-12-03T00:00:00.000000000",
          "2022-12-04T00:00:00.000000000",
          "2022-12-05T00:00:00.000000000",
          "2022-12-06T00:00:00.000000000",
          "2022-12-07T00:00:00.000000000",
          "2022-12-08T00:00:00.000000000",
          "2022-12-09T00:00:00.000000000",
          "2022-12-10T00:00:00.000000000",
          "2022-12-11T00:00:00.000000000",
          "2022-12-12T00:00:00.000000000",
          "2022-12-13T00:00:00.000000000",
          "2022-12-14T00:00:00.000000000",
          "2022-12-15T00:00:00.000000000",
          "2022-12-16T00:00:00.000000000",
          "2022-12-17T00:00:00.000000000",
          "2022-12-18T00:00:00.000000000",
          "2022-12-19T00:00:00.000000000",
          "2022-12-20T00:00:00.000000000",
          "2022-12-21T00:00:00.000000000",
          "2022-12-22T00:00:00.000000000",
          "2022-12-23T00:00:00.000000000",
          "2022-12-24T00:00:00.000000000",
          "2022-12-25T00:00:00.000000000",
          "2022-12-26T00:00:00.000000000",
          "2022-12-27T00:00:00.000000000",
          "2022-12-28T00:00:00.000000000",
          "2022-12-29T00:00:00.000000000",
          "2022-12-30T00:00:00.000000000",
          "2022-12-31T00:00:00.000000000",
          "2023-01-01T00:00:00.000000000",
          "2023-01-02T00:00:00.000000000",
          "2023-01-03T00:00:00.000000000",
          "2023-01-04T00:00:00.000000000",
          "2023-01-05T00:00:00.000000000",
          "2023-01-06T00:00:00.000000000",
          "2023-01-07T00:00:00.000000000",
          "2023-01-08T00:00:00.000000000",
          "2023-01-09T00:00:00.000000000",
          "2023-01-10T00:00:00.000000000",
          "2023-01-11T00:00:00.000000000",
          "2023-01-12T00:00:00.000000000",
          "2023-01-13T00:00:00.000000000",
          "2023-01-14T00:00:00.000000000",
          "2023-01-15T00:00:00.000000000",
          "2023-01-16T00:00:00.000000000",
          "2023-01-17T00:00:00.000000000",
          "2023-01-18T00:00:00.000000000",
          "2023-01-19T00:00:00.000000000",
          "2023-01-20T00:00:00.000000000",
          "2023-01-21T00:00:00.000000000",
          "2023-01-22T00:00:00.000000000",
          "2023-01-23T00:00:00.000000000",
          "2023-01-24T00:00:00.000000000",
          "2023-01-25T00:00:00.000000000",
          "2023-01-26T00:00:00.000000000",
          "2023-01-27T00:00:00.000000000",
          "2023-01-28T00:00:00.000000000",
          "2023-01-29T00:00:00.000000000",
          "2023-01-30T00:00:00.000000000",
          "2023-01-31T00:00:00.000000000",
          "2023-02-01T00:00:00.000000000",
          "2023-02-02T00:00:00.000000000",
          "2023-02-03T00:00:00.000000000",
          "2023-02-04T00:00:00.000000000",
          "2023-02-05T00:00:00.000000000",
          "2023-02-06T00:00:00.000000000",
          "2023-02-07T00:00:00.000000000",
          "2023-02-08T00:00:00.000000000",
          "2023-02-09T00:00:00.000000000",
          "2023-02-10T00:00:00.000000000",
          "2023-02-11T00:00:00.000000000",
          "2023-02-12T00:00:00.000000000",
          "2023-02-13T00:00:00.000000000",
          "2023-02-14T00:00:00.000000000",
          "2023-02-15T00:00:00.000000000",
          "2023-02-16T00:00:00.000000000",
          "2023-02-17T00:00:00.000000000",
          "2023-02-18T00:00:00.000000000",
          "2023-02-19T00:00:00.000000000",
          "2023-02-20T00:00:00.000000000",
          "2023-02-21T00:00:00.000000000",
          "2023-02-22T00:00:00.000000000",
          "2023-02-23T00:00:00.000000000",
          "2023-02-24T00:00:00.000000000",
          "2023-02-25T00:00:00.000000000",
          "2023-02-26T00:00:00.000000000",
          "2023-02-27T00:00:00.000000000",
          "2023-02-28T00:00:00.000000000",
          "2023-03-01T00:00:00.000000000",
          "2023-03-02T00:00:00.000000000",
          "2023-03-03T00:00:00.000000000",
          "2023-03-04T00:00:00.000000000",
          "2023-03-05T00:00:00.000000000",
          "2023-03-06T00:00:00.000000000",
          "2023-03-07T00:00:00.000000000",
          "2023-03-08T00:00:00.000000000",
          "2023-03-09T00:00:00.000000000",
          "2023-03-10T00:00:00.000000000",
          "2023-03-11T00:00:00.000000000",
          "2023-03-12T00:00:00.000000000",
          "2023-03-13T00:00:00.000000000",
          "2023-03-14T00:00:00.000000000",
          "2023-03-15T00:00:00.000000000",
          "2023-03-16T00:00:00.000000000",
          "2023-03-17T00:00:00.000000000",
          "2023-03-18T00:00:00.000000000",
          "2023-03-19T00:00:00.000000000",
          "2023-03-20T00:00:00.000000000",
          "2023-03-21T00:00:00.000000000",
          "2023-03-22T00:00:00.000000000",
          "2023-03-23T00:00:00.000000000",
          "2023-03-24T00:00:00.000000000",
          "2023-03-25T00:00:00.000000000",
          "2023-03-26T00:00:00.000000000",
          "2023-03-27T00:00:00.000000000",
          "2023-03-28T00:00:00.000000000",
          "2023-03-29T00:00:00.000000000",
          "2023-03-30T00:00:00.000000000",
          "2023-03-31T00:00:00.000000000",
          "2023-04-01T00:00:00.000000000",
          "2023-04-02T00:00:00.000000000",
          "2023-04-03T00:00:00.000000000",
          "2023-04-04T00:00:00.000000000",
          "2023-04-05T00:00:00.000000000",
          "2023-04-06T00:00:00.000000000",
          "2023-04-07T00:00:00.000000000",
          "2023-04-08T00:00:00.000000000",
          "2023-04-09T00:00:00.000000000",
          "2023-04-10T00:00:00.000000000",
          "2023-04-11T00:00:00.000000000",
          "2023-04-12T00:00:00.000000000",
          "2023-04-13T00:00:00.000000000",
          "2023-04-14T00:00:00.000000000",
          "2023-04-15T00:00:00.000000000",
          "2023-04-16T00:00:00.000000000",
          "2023-04-17T00:00:00.000000000",
          "2023-04-18T00:00:00.000000000",
          "2023-04-19T00:00:00.000000000",
          "2023-04-20T00:00:00.000000000",
          "2023-04-21T00:00:00.000000000",
          "2023-04-22T00:00:00.000000000",
          "2023-04-23T00:00:00.000000000",
          "2023-04-24T00:00:00.000000000",
          "2023-04-25T00:00:00.000000000",
          "2023-04-26T00:00:00.000000000",
          "2023-04-27T00:00:00.000000000",
          "2023-04-28T00:00:00.000000000",
          "2023-04-29T00:00:00.000000000",
          "2023-04-30T00:00:00.000000000",
          "2023-05-01T00:00:00.000000000",
          "2023-05-02T00:00:00.000000000",
          "2023-05-03T00:00:00.000000000",
          "2023-05-04T00:00:00.000000000",
          "2023-05-05T00:00:00.000000000",
          "2023-05-06T00:00:00.000000000",
          "2023-05-07T00:00:00.000000000",
          "2023-05-08T00:00:00.000000000",
          "2023-05-09T00:00:00.000000000",
          "2023-05-10T00:00:00.000000000",
          "2023-05-11T00:00:00.000000000",
          "2023-05-12T00:00:00.000000000",
          "2023-05-13T00:00:00.000000000",
          "2023-05-14T00:00:00.000000000",
          "2023-05-15T00:00:00.000000000",
          "2023-05-16T00:00:00.000000000",
          "2023-05-17T00:00:00.000000000",
          "2023-05-18T00:00:00.000000000",
          "2023-05-19T00:00:00.000000000",
          "2023-05-20T00:00:00.000000000",
          "2023-05-21T00:00:00.000000000",
          "2023-05-22T00:00:00.000000000",
          "2023-05-23T00:00:00.000000000",
          "2023-05-24T00:00:00.000000000",
          "2023-05-25T00:00:00.000000000",
          "2023-05-26T00:00:00.000000000",
          "2023-05-27T00:00:00.000000000",
          "2023-05-28T00:00:00.000000000",
          "2023-05-29T00:00:00.000000000",
          "2023-05-30T00:00:00.000000000",
          "2023-05-31T00:00:00.000000000",
          "2023-06-01T00:00:00.000000000",
          "2023-06-02T00:00:00.000000000",
          "2023-06-03T00:00:00.000000000",
          "2023-06-04T00:00:00.000000000",
          "2023-06-05T00:00:00.000000000",
          "2023-06-06T00:00:00.000000000",
          "2023-06-07T00:00:00.000000000",
          "2023-06-08T00:00:00.000000000",
          "2023-06-09T00:00:00.000000000",
          "2023-06-10T00:00:00.000000000",
          "2023-06-11T00:00:00.000000000",
          "2023-06-12T00:00:00.000000000",
          "2023-06-13T00:00:00.000000000",
          "2023-06-14T00:00:00.000000000",
          "2023-06-15T00:00:00.000000000",
          "2023-06-16T00:00:00.000000000",
          "2023-06-17T00:00:00.000000000",
          "2023-06-18T00:00:00.000000000",
          "2023-06-19T00:00:00.000000000",
          "2023-06-20T00:00:00.000000000",
          "2023-06-21T00:00:00.000000000",
          "2023-06-22T00:00:00.000000000",
          "2023-06-23T00:00:00.000000000",
          "2023-06-24T00:00:00.000000000",
          "2023-06-25T00:00:00.000000000",
          "2023-06-26T00:00:00.000000000",
          "2023-06-27T00:00:00.000000000",
          "2023-06-28T00:00:00.000000000",
          "2023-06-29T00:00:00.000000000",
          "2023-06-30T00:00:00.000000000",
          "2023-07-01T00:00:00.000000000",
          "2023-07-02T00:00:00.000000000",
          "2023-07-03T00:00:00.000000000",
          "2023-07-04T00:00:00.000000000",
          "2023-07-05T00:00:00.000000000",
          "2023-07-06T00:00:00.000000000",
          "2023-07-07T00:00:00.000000000",
          "2023-07-08T00:00:00.000000000",
          "2023-07-09T00:00:00.000000000",
          "2023-07-10T00:00:00.000000000"
         ],
         "y": {
          "bdata": "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",
          "dtype": "f8"
         }
        },
        {
         "line": {
          "color": "purple",
          "dash": "dash"
         },
         "mode": "lines",
         "name": "France - Forecast",
         "type": "scatter",
         "x": [
          "2023-07-11T00:00:00.000000000",
          "2023-07-12T00:00:00.000000000",
          "2023-07-13T00:00:00.000000000",
          "2023-07-14T00:00:00.000000000",
          "2023-07-15T00:00:00.000000000",
          "2023-07-16T00:00:00.000000000",
          "2023-07-17T00:00:00.000000000",
          "2023-07-18T00:00:00.000000000",
          "2023-07-19T00:00:00.000000000",
          "2023-07-20T00:00:00.000000000",
          "2023-07-21T00:00:00.000000000",
          "2023-07-22T00:00:00.000000000",
          "2023-07-23T00:00:00.000000000",
          "2023-07-24T00:00:00.000000000",
          "2023-07-25T00:00:00.000000000",
          "2023-07-26T00:00:00.000000000",
          "2023-07-27T00:00:00.000000000",
          "2023-07-28T00:00:00.000000000",
          "2023-07-29T00:00:00.000000000",
          "2023-07-30T00:00:00.000000000",
          "2023-07-31T00:00:00.000000000",
          "2023-08-01T00:00:00.000000000",
          "2023-08-02T00:00:00.000000000",
          "2023-08-03T00:00:00.000000000",
          "2023-08-04T00:00:00.000000000",
          "2023-08-05T00:00:00.000000000",
          "2023-08-06T00:00:00.000000000",
          "2023-08-07T00:00:00.000000000",
          "2023-08-08T00:00:00.000000000",
          "2023-08-09T00:00:00.000000000",
          "2023-08-10T00:00:00.000000000",
          "2023-08-11T00:00:00.000000000",
          "2023-08-12T00:00:00.000000000",
          "2023-08-13T00:00:00.000000000",
          "2023-08-14T00:00:00.000000000",
          "2023-08-15T00:00:00.000000000",
          "2023-08-16T00:00:00.000000000",
          "2023-08-17T00:00:00.000000000",
          "2023-08-18T00:00:00.000000000",
          "2023-08-19T00:00:00.000000000",
          "2023-08-20T00:00:00.000000000",
          "2023-08-21T00:00:00.000000000",
          "2023-08-22T00:00:00.000000000",
          "2023-08-23T00:00:00.000000000",
          "2023-08-24T00:00:00.000000000",
          "2023-08-25T00:00:00.000000000",
          "2023-08-26T00:00:00.000000000",
          "2023-08-27T00:00:00.000000000",
          "2023-08-28T00:00:00.000000000",
          "2023-08-29T00:00:00.000000000",
          "2023-08-30T00:00:00.000000000",
          "2023-08-31T00:00:00.000000000",
          "2023-09-01T00:00:00.000000000",
          "2023-09-02T00:00:00.000000000",
          "2023-09-03T00:00:00.000000000",
          "2023-09-04T00:00:00.000000000",
          "2023-09-05T00:00:00.000000000",
          "2023-09-06T00:00:00.000000000",
          "2023-09-07T00:00:00.000000000",
          "2023-09-08T00:00:00.000000000",
          "2023-09-09T00:00:00.000000000",
          "2023-09-10T00:00:00.000000000",
          "2023-09-11T00:00:00.000000000",
          "2023-09-12T00:00:00.000000000",
          "2023-09-13T00:00:00.000000000",
          "2023-09-14T00:00:00.000000000",
          "2023-09-15T00:00:00.000000000",
          "2023-09-16T00:00:00.000000000",
          "2023-09-17T00:00:00.000000000",
          "2023-09-18T00:00:00.000000000",
          "2023-09-19T00:00:00.000000000",
          "2023-09-20T00:00:00.000000000",
          "2023-09-21T00:00:00.000000000",
          "2023-09-22T00:00:00.000000000",
          "2023-09-23T00:00:00.000000000",
          "2023-09-24T00:00:00.000000000",
          "2023-09-25T00:00:00.000000000",
          "2023-09-26T00:00:00.000000000",
          "2023-09-27T00:00:00.000000000",
          "2023-09-28T00:00:00.000000000",
          "2023-09-29T00:00:00.000000000",
          "2023-09-30T00:00:00.000000000",
          "2023-10-01T00:00:00.000000000",
          "2023-10-02T00:00:00.000000000",
          "2023-10-03T00:00:00.000000000",
          "2023-10-04T00:00:00.000000000",
          "2023-10-05T00:00:00.000000000",
          "2023-10-06T00:00:00.000000000",
          "2023-10-07T00:00:00.000000000",
          "2023-10-08T00:00:00.000000000"
         ],
         "y": {
          "bdata": "rbDO9SicU0DxxNr1KJxTQDbM5vUonFNAisby9SicU0D7s/71KJxTQJaUCvYonFNAamgW9iicU0CELyL2KJxTQPLpLfYonFNAwZc59iicU0D/OEX2KJxTQLrNUPYonFNA/1Vc9iicU0Dc0Wf2KJxTQF5Bc/YonFNAkqR+9iicU0CF+4n2KJxTQEVGlfYonFNA3oSg9iicU0Bet6v2KJxTQNLdtvYonFNAR/jB9iicU0DJBs32KJxTQGYJ2PYonFNAKgDj9iicU0Ai6+32KJxTQFvK+PYonFNA4Z0D9yicU0DBZQ73KJxTQAgiGfconFNAwtIj9yicU0D7dy73KJxTQMAROfconFNAHaBD9yicU0AeI073KJxTQNCaWPconFNAPwdj9yicU0B3aG33KJxTQIS+d/conFNAcgmC9yicU0BNSYz3KJxTQCF+lvconFNA+aeg9yicU0Dixqr3KJxTQOfatPconFNAFOS+9yicU0B14sj3KJxTQBXW0vconFNAAL/c9yicU0BBneb3KJxTQORw8PconFNA9Tn69yicU0B++AP4KJxTQIusDfgonFNAKFYX+CicU0Bf9SD4KJxTQDyKKvgonFNAyhQ0+CicU0AUlT34KJxTQCULR/gonFNACHdQ+CicU0DH2Fn4KJxTQG4wY/gonFNACH5s+CicU0CfwXX4KJxTQD/7fvgonFNA8iqI+CicU0DCUJH4KJxTQLtsmvgonFNA536j+CicU0BQh6z4KJxTQAGGtfgonFNABXu++CicU0BlZsf4KJxTQC1I0PgonFNAZiDZ+CicU0Ab7+H4KJxTQFa06vgonFNAIXDz+CicU0CHIvz4KJxTQJHLBPkonFNASmsN+SicU0C7ARb5KJxTQO+OHvkonFNA7xIn+SicU0DGjS/5KJxTQH3/N/konFNAHmhA+SicU0Czx0j5KJxTQEYeUfkonFNA",
          "dtype": "f8"
         }
        }
       ],
       "layout": {
        "height": 600,
        "legend": {
         "title": {
          "text": "Country and Data Type"
         }
        },
        "template": {
         "data": {
          "bar": [
           {
            "error_x": {
             "color": "#2a3f5f"
            },
            "error_y": {
             "color": "#2a3f5f"
            },
            "marker": {
             "line": {
              "color": "#E5ECF6",
              "width": 0.5
             },
             "pattern": {
              "fillmode": "overlay",
              "size": 10,
              "solidity": 0.2
             }
            },
            "type": "bar"
           }
          ],
          "barpolar": [
           {
            "marker": {
             "line": {
              "color": "#E5ECF6",
              "width": 0.5
             },
             "pattern": {
              "fillmode": "overlay",
              "size": 10,
              "solidity": 0.2
             }
            },
            "type": "barpolar"
           }
          ],
          "carpet": [
           {
            "aaxis": {
             "endlinecolor": "#2a3f5f",
             "gridcolor": "white",
             "linecolor": "white",
             "minorgridcolor": "white",
             "startlinecolor": "#2a3f5f"
            },
            "baxis": {
             "endlinecolor": "#2a3f5f",
             "gridcolor": "white",
             "linecolor": "white",
             "minorgridcolor": "white",
             "startlinecolor": "#2a3f5f"
            },
            "type": "carpet"
           }
          ],
          "choropleth": [
           {
            "colorbar": {
             "outlinewidth": 0,
             "ticks": ""
            },
            "type": "choropleth"
           }
          ],
          "contour": [
           {
            "colorbar": {
             "outlinewidth": 0,
             "ticks": ""
            },
            "colorscale": [
             [
              0,
              "#0d0887"
             ],
             [
              0.1111111111111111,
              "#46039f"
             ],
             [
              0.2222222222222222,
              "#7201a8"
             ],
             [
              0.3333333333333333,
              "#9c179e"
             ],
             [
              0.4444444444444444,
              "#bd3786"
             ],
             [
              0.5555555555555556,
              "#d8576b"
             ],
             [
              0.6666666666666666,
              "#ed7953"
             ],
             [
              0.7777777777777778,
              "#fb9f3a"
             ],
             [
              0.8888888888888888,
              "#fdca26"
             ],
             [
              1,
              "#f0f921"
             ]
            ],
            "type": "contour"
           }
          ],
          "contourcarpet": [
           {
            "colorbar": {
             "outlinewidth": 0,
             "ticks": ""
            },
            "type": "contourcarpet"
           }
          ],
          "heatmap": [
           {
            "colorbar": {
             "outlinewidth": 0,
             "ticks": ""
            },
            "colorscale": [
             [
              0,
              "#0d0887"
             ],
             [
              0.1111111111111111,
              "#46039f"
             ],
             [
              0.2222222222222222,
              "#7201a8"
             ],
             [
              0.3333333333333333,
              "#9c179e"
             ],
             [
              0.4444444444444444,
              "#bd3786"
             ],
             [
              0.5555555555555556,
              "#d8576b"
             ],
             [
              0.6666666666666666,
              "#ed7953"
             ],
             [
              0.7777777777777778,
              "#fb9f3a"
             ],
             [
              0.8888888888888888,
              "#fdca26"
             ],
             [
              1,
              "#f0f921"
             ]
            ],
            "type": "heatmap"
           }
          ],
          "histogram": [
           {
            "marker": {
             "pattern": {
              "fillmode": "overlay",
              "size": 10,
              "solidity": 0.2
             }
            },
            "type": "histogram"
           }
          ],
          "histogram2d": [
           {
            "colorbar": {
             "outlinewidth": 0,
             "ticks": ""
            },
            "colorscale": [
             [
              0,
              "#0d0887"
             ],
             [
              0.1111111111111111,
              "#46039f"
             ],
             [
              0.2222222222222222,
              "#7201a8"
             ],
             [
              0.3333333333333333,
              "#9c179e"
             ],
             [
              0.4444444444444444,
              "#bd3786"
             ],
             [
              0.5555555555555556,
              "#d8576b"
             ],
             [
              0.6666666666666666,
              "#ed7953"
             ],
             [
              0.7777777777777778,
              "#fb9f3a"
             ],
             [
              0.8888888888888888,
              "#fdca26"
             ],
             [
              1,
              "#f0f921"
             ]
            ],
            "type": "histogram2d"
           }
          ],
          "histogram2dcontour": [
           {
            "colorbar": {
             "outlinewidth": 0,
             "ticks": ""
            },
            "colorscale": [
             [
              0,
              "#0d0887"
             ],
             [
              0.1111111111111111,
              "#46039f"
             ],
             [
              0.2222222222222222,
              "#7201a8"
             ],
             [
              0.3333333333333333,
              "#9c179e"
             ],
             [
              0.4444444444444444,
              "#bd3786"
             ],
             [
              0.5555555555555556,
              "#d8576b"
             ],
             [
              0.6666666666666666,
              "#ed7953"
             ],
             [
              0.7777777777777778,
              "#fb9f3a"
             ],
             [
              0.8888888888888888,
              "#fdca26"
             ],
             [
              1,
              "#f0f921"
             ]
            ],
            "type": "histogram2dcontour"
           }
          ],
          "mesh3d": [
           {
            "colorbar": {
             "outlinewidth": 0,
             "ticks": ""
            },
            "type": "mesh3d"
           }
          ],
          "parcoords": [
           {
            "line": {
             "colorbar": {
              "outlinewidth": 0,
              "ticks": ""
             }
            },
            "type": "parcoords"
           }
          ],
          "pie": [
           {
            "automargin": true,
            "type": "pie"
           }
          ],
          "scatter": [
           {
            "fillpattern": {
             "fillmode": "overlay",
             "size": 10,
             "solidity": 0.2
            },
            "type": "scatter"
           }
          ],
          "scatter3d": [
           {
            "line": {
             "colorbar": {
              "outlinewidth": 0,
              "ticks": ""
             }
            },
            "marker": {
             "colorbar": {
              "outlinewidth": 0,
              "ticks": ""
             }
            },
            "type": "scatter3d"
           }
          ],
          "scattercarpet": [
           {
            "marker": {
             "colorbar": {
              "outlinewidth": 0,
              "ticks": ""
             }
            },
            "type": "scattercarpet"
           }
          ],
          "scattergeo": [
           {
            "marker": {
             "colorbar": {
              "outlinewidth": 0,
              "ticks": ""
             }
            },
            "type": "scattergeo"
           }
          ],
          "scattergl": [
           {
            "marker": {
             "colorbar": {
              "outlinewidth": 0,
              "ticks": ""
             }
            },
            "type": "scattergl"
           }
          ],
          "scattermap": [
           {
            "marker": {
             "colorbar": {
              "outlinewidth": 0,
              "ticks": ""
             }
            },
            "type": "scattermap"
           }
          ],
          "scattermapbox": [
           {
            "marker": {
             "colorbar": {
              "outlinewidth": 0,
              "ticks": ""
             }
            },
            "type": "scattermapbox"
           }
          ],
          "scatterpolar": [
           {
            "marker": {
             "colorbar": {
              "outlinewidth": 0,
              "ticks": ""
             }
            },
            "type": "scatterpolar"
           }
          ],
          "scatterpolargl": [
           {
            "marker": {
             "colorbar": {
              "outlinewidth": 0,
              "ticks": ""
             }
            },
            "type": "scatterpolargl"
           }
          ],
          "scatterternary": [
           {
            "marker": {
             "colorbar": {
              "outlinewidth": 0,
              "ticks": ""
             }
            },
            "type": "scatterternary"
           }
          ],
          "surface": [
           {
            "colorbar": {
             "outlinewidth": 0,
             "ticks": ""
            },
            "colorscale": [
             [
              0,
              "#0d0887"
             ],
             [
              0.1111111111111111,
              "#46039f"
             ],
             [
              0.2222222222222222,
              "#7201a8"
             ],
             [
              0.3333333333333333,
              "#9c179e"
             ],
             [
              0.4444444444444444,
              "#bd3786"
             ],
             [
              0.5555555555555556,
              "#d8576b"
             ],
             [
              0.6666666666666666,
              "#ed7953"
             ],
             [
              0.7777777777777778,
              "#fb9f3a"
             ],
             [
              0.8888888888888888,
              "#fdca26"
             ],
             [
              1,
              "#f0f921"
             ]
            ],
            "type": "surface"
           }
          ],
          "table": [
           {
            "cells": {
             "fill": {
              "color": "#EBF0F8"
             },
             "line": {
              "color": "white"
             }
            },
            "header": {
             "fill": {
              "color": "#C8D4E3"
             },
             "line": {
              "color": "white"
             }
            },
            "type": "table"
           }
          ]
         },
         "layout": {
          "annotationdefaults": {
           "arrowcolor": "#2a3f5f",
           "arrowhead": 0,
           "arrowwidth": 1
          },
          "autotypenumbers": "strict",
          "coloraxis": {
           "colorbar": {
            "outlinewidth": 0,
            "ticks": ""
           }
          },
          "colorscale": {
           "diverging": [
            [
             0,
             "#8e0152"
            ],
            [
             0.1,
             "#c51b7d"
            ],
            [
             0.2,
             "#de77ae"
            ],
            [
             0.3,
             "#f1b6da"
            ],
            [
             0.4,
             "#fde0ef"
            ],
            [
             0.5,
             "#f7f7f7"
            ],
            [
             0.6,
             "#e6f5d0"
            ],
            [
             0.7,
             "#b8e186"
            ],
            [
             0.8,
             "#7fbc41"
            ],
            [
             0.9,
             "#4d9221"
            ],
            [
             1,
             "#276419"
            ]
           ],
           "sequential": [
            [
             0,
             "#0d0887"
            ],
            [
             0.1111111111111111,
             "#46039f"
            ],
            [
             0.2222222222222222,
             "#7201a8"
            ],
            [
             0.3333333333333333,
             "#9c179e"
            ],
            [
             0.4444444444444444,
             "#bd3786"
            ],
            [
             0.5555555555555556,
             "#d8576b"
            ],
            [
             0.6666666666666666,
             "#ed7953"
            ],
            [
             0.7777777777777778,
             "#fb9f3a"
            ],
            [
             0.8888888888888888,
             "#fdca26"
            ],
            [
             1,
             "#f0f921"
            ]
           ],
           "sequentialminus": [
            [
             0,
             "#0d0887"
            ],
            [
             0.1111111111111111,
             "#46039f"
            ],
            [
             0.2222222222222222,
             "#7201a8"
            ],
            [
             0.3333333333333333,
             "#9c179e"
            ],
            [
             0.4444444444444444,
             "#bd3786"
            ],
            [
             0.5555555555555556,
             "#d8576b"
            ],
            [
             0.6666666666666666,
             "#ed7953"
            ],
            [
             0.7777777777777778,
             "#fb9f3a"
            ],
            [
             0.8888888888888888,
             "#fdca26"
            ],
            [
             1,
             "#f0f921"
            ]
           ]
          },
          "colorway": [
           "#636efa",
           "#EF553B",
           "#00cc96",
           "#ab63fa",
           "#FFA15A",
           "#19d3f3",
           "#FF6692",
           "#B6E880",
           "#FF97FF",
           "#FECB52"
          ],
          "font": {
           "color": "#2a3f5f"
          },
          "geo": {
           "bgcolor": "white",
           "lakecolor": "white",
           "landcolor": "#E5ECF6",
           "showlakes": true,
           "showland": true,
           "subunitcolor": "white"
          },
          "hoverlabel": {
           "align": "left"
          },
          "hovermode": "closest",
          "mapbox": {
           "style": "light"
          },
          "paper_bgcolor": "white",
          "plot_bgcolor": "#E5ECF6",
          "polar": {
           "angularaxis": {
            "gridcolor": "white",
            "linecolor": "white",
            "ticks": ""
           },
           "bgcolor": "#E5ECF6",
           "radialaxis": {
            "gridcolor": "white",
            "linecolor": "white",
            "ticks": ""
           }
          },
          "scene": {
           "xaxis": {
            "backgroundcolor": "#E5ECF6",
            "gridcolor": "white",
            "gridwidth": 2,
            "linecolor": "white",
            "showbackground": true,
            "ticks": "",
            "zerolinecolor": "white"
           },
           "yaxis": {
            "backgroundcolor": "#E5ECF6",
            "gridcolor": "white",
            "gridwidth": 2,
            "linecolor": "white",
            "showbackground": true,
            "ticks": "",
            "zerolinecolor": "white"
           },
           "zaxis": {
            "backgroundcolor": "#E5ECF6",
            "gridcolor": "white",
            "gridwidth": 2,
            "linecolor": "white",
            "showbackground": true,
            "ticks": "",
            "zerolinecolor": "white"
           }
          },
          "shapedefaults": {
           "line": {
            "color": "#2a3f5f"
           }
          },
          "ternary": {
           "aaxis": {
            "gridcolor": "white",
            "linecolor": "white",
            "ticks": ""
           },
           "baxis": {
            "gridcolor": "white",
            "linecolor": "white",
            "ticks": ""
           },
           "bgcolor": "#E5ECF6",
           "caxis": {
            "gridcolor": "white",
            "linecolor": "white",
            "ticks": ""
           }
          },
          "title": {
           "x": 0.05
          },
          "xaxis": {
           "automargin": true,
           "gridcolor": "white",
           "linecolor": "white",
           "ticks": "",
           "title": {
            "standoff": 15
           },
           "zerolinecolor": "white",
           "zerolinewidth": 2
          },
          "yaxis": {
           "automargin": true,
           "gridcolor": "white",
           "linecolor": "white",
           "ticks": "",
           "title": {
            "standoff": 15
           },
           "zerolinecolor": "white",
           "zerolinewidth": 2
          }
         }
        },
        "title": {
         "text": "3-Month Vaccination Forecast Comparison"
        },
        "xaxis": {
         "title": {
          "text": "Date"
         }
        },
        "yaxis": {
         "title": {
          "text": "Percentage of Population Fully Vaccinated"
         }
        }
       }
      }
     },
     "metadata": {},
     "output_type": "display_data"
    },
    {
     "name": "stdout",
     "output_type": "stream",
     "text": [
      "\n",
      "2. Key Findings from the Forecast:\n",
      "   - United States is projected to reach 69.43% full vaccination in three months\n",
      "   - The rate of increase is expected to be -0.0005 percentage points per day\n",
      "   - The confidence intervals widen over time, reflecting increasing uncertainty\n"
     ]
    }
   ],
   "source": [
    "# Plot residuals\n",
    "residuals = model_fit.resid\n",
    "fig, (ax1, ax2) = plt.subplots(2, 1, figsize=(14, 10))\n",
    "# Residuals over time\n",
    "ax1.plot(residuals)\n",
    "ax1.set_title('Residuals Over Time')\n",
    "ax1.set_xlabel('Date')\n",
    "ax1.set_ylabel('Residual Value')\n",
    "ax1.grid(True)\n",
    "# Residual distribution\n",
    "ax2.hist(residuals, bins=20)\n",
    "ax2.set_title('Residual Distribution')\n",
    "ax2.set_xlabel('Residual Value')\n",
    "ax2.set_ylabel('Frequency')\n",
    "ax2.grid(True)\n",
    "plt.tight_layout()\n",
    "plt.show()\n",
    "# Q-Q plot of residuals\n",
    "plt.figure(figsize=(10, 6))\n",
    "from scipy import stats\n",
    "stats.probplot(residuals, plot=plt)\n",
    "plt.title('Q-Q Plot of Residuals')\n",
    "plt.grid(True)\n",
    "plt.show()\n",
    "print(\"\\nInterpreting the forecast results:\")\n",
    "# Calculate key metrics from forecast\n",
    "start_value = ts_data.iloc[-1]\n",
    "end_value = forecast_series.iloc[-1]\n",
    "increase = end_value - start_value\n",
    "percent_increase = (increase / start_value) * 100 if start_value > 0 else 0\n",
    "print(f\"\\nCurrent vaccination level ({ts_data.index[-1].strftime('%Y-%m-%d')}): {start_value:.2f}%\")\n",
    "print(f\"Forecasted vaccination level after 3 months ({forecast_series.index[-1].strftime('%Y-%m-%d')}): {end_value:.2f}%\")\n",
    "print(f\"Projected increase: {increase:.2f} percentage points ({percent_increase:.2f}% relative change)\")\n",
    "# Calculate time to reach important thresholds\n",
    "thresholds = [70, 80, 90]\n",
    "forecast_df = pd.DataFrame({'forecast': forecast_series})\n",
    "for threshold in thresholds:\n",
    "    if start_value < threshold:\n",
    "        above_threshold = forecast_df[forecast_df['forecast'] >= threshold]\n",
    "        if not above_threshold.empty:\n",
    "            threshold_date = above_threshold.index[0]\n",
    "            days_to_threshold = (threshold_date - ts_data.index[-1]).days\n",
    "            print(f\"Projected to reach {threshold}% fully vaccinated on {threshold_date.strftime('%Y-%m-%d')} ({days_to_threshold} days)\")\n",
    "        else:\n",
    "            print(f\"Not projected to reach {threshold}% fully vaccinated within the forecast period\")\n",
    "# Create interactive dashboard comparing forecasts for multiple countries\n",
    "forecast_countries = ['United States', 'United Kingdom', 'Germany', 'France']\n",
    "forecast_results = {}\n",
    "# Generate forecasts for selected countries\n",
    "for country in forecast_countries:\n",
    "    country_data = df[df['location'] == country].copy()\n",
    "    if len(country_data) > 30:  # Ensure enough data\n",
    "        country_data.set_index('date', inplace=True)\n",
    "        country_data.sort_index(inplace=True) \n",
    "        # Get time series and handle missing values\n",
    "        ts = country_data['people_fully_vaccinated_per_hundred'].fillna(method='ffill').dropna() \n",
    "        if len(ts) > 30: \n",
    "            # Fit ARIMA model \n",
    "            model = ARIMA(ts, order=(1, 1, 1))\n",
    "            model_fit = model.fit()\n",
    "            # Generate forecast\n",
    "            forecast = model_fit.forecast(steps=forecast_horizon)\n",
    "            forecast_index = pd.date_range(start=ts.index[-1] + pd.Timedelta(days=1), \n",
    "                                         periods=forecast_horizon, freq='D')\n",
    "            # Store results\n",
    "            forecast_results[country] = {\n",
    "                'historical': ts,\n",
    "                'forecast': pd.Series(forecast, index=forecast_index)\n",
    "            }\n",
    "# Create comparison dashboard\n",
    "if forecast_results:\n",
    "    fig = go.Figure()\n",
    "    # Add historical and forecast lines for each country\n",
    "    colors = ['blue', 'red', 'green', 'purple', 'orange']\n",
    "    for i, (country, data) in enumerate(forecast_results.items()):\n",
    "        color = colors[i % len(colors)]\n",
    "        # Historical data\n",
    "        fig.add_trace(go.Scatter(\n",
    "            x=data['historical'].index, \n",
    "            y=data['historical'].values,\n",
    "            mode='lines',\n",
    "            name=f'{country} - Historical',\n",
    "            line=dict(color=color)\n",
    "        ))\n",
    "        # Forecast\n",
    "        fig.add_trace(go.Scatter(\n",
    "            x=data['forecast'].index,\n",
    "            y=data['forecast'].values,\n",
    "            mode='lines',\n",
    "            name=f'{country} - Forecast',\n",
    "            line=dict(color=color, dash='dash')\n",
    "        ))\n",
    "    fig.update_layout(\n",
    "        title='3-Month Vaccination Forecast Comparison',\n",
    "        xaxis_title='Date',\n",
    "        yaxis_title='Percentage of Population Fully Vaccinated',\n",
    "        legend_title='Country and Data Type',\n",
    "        height=600\n",
    "    )\n",
    "    fig.show()\n",
    "print(\"\\n2. Key Findings from the Forecast:\")\n",
    "print(f\"   - {target_country} is projected to reach {end_value:.2f}% full vaccination in three months\")\n",
    "print(f\"   - The rate of increase is expected to be {increase/90:.4f} percentage points per day\")\n",
    "print(\"   - The confidence intervals widen over time, reflecting increasing uncertainty\")"
   ]
  },
  {
   "cell_type": "code",
   "execution_count": null,
   "metadata": {},
   "outputs": [],
   "source": []
  }
 ],
 "metadata": {
  "interpreter": {
   "hash": "b0fa6594d8f4cbf19f97940f81e996739fb7646882a419484c72d19e05852a7e"
  },
  "kernelspec": {
   "display_name": "Python 3.9.12 64-bit",
   "language": "python",
   "name": "python3"
  },
  "language_info": {
   "codemirror_mode": {
    "name": "ipython",
    "version": 3
   },
   "file_extension": ".py",
   "mimetype": "text/x-python",
   "name": "python",
   "nbconvert_exporter": "python",
   "pygments_lexer": "ipython3",
   "version": "3.8.13"
  },
  "orig_nbformat": 4
 },
 "nbformat": 4,
 "nbformat_minor": 2
}
